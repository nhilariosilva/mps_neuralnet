{
 "cells": [
  {
   "cell_type": "code",
   "execution_count": 1,
   "id": "31141609-5c5e-41d7-9130-62bb075397a2",
   "metadata": {},
   "outputs": [
    {
     "name": "stderr",
     "output_type": "stream",
     "text": [
      "WARNING: All log messages before absl::InitializeLog() is called are written to STDERR\n",
      "E0000 00:00:1741261911.868649 3184772 cuda_dnn.cc:8310] Unable to register cuDNN factory: Attempting to register factory for plugin cuDNN when one has already been registered\n",
      "E0000 00:00:1741261911.872171 3184772 cuda_blas.cc:1418] Unable to register cuBLAS factory: Attempting to register factory for plugin cuBLAS when one has already been registered\n",
      "I0000 00:00:1741261914.102643 3184772 gpu_device.cc:2022] Created device /job:localhost/replica:0/task:0/device:GPU:0 with 4086 MB memory:  -> device: 0, name: NVIDIA GeForce RTX 3050 6GB Laptop GPU, pci bus id: 0000:01:00.0, compute capability: 8.6\n",
      "/home/natan/.pyenv/versions/3.10.16/lib/python3.10/site-packages/tqdm/auto.py:21: TqdmWarning: IProgress not found. Please update jupyter and ipywidgets. See https://ipywidgets.readthedocs.io/en/stable/user_install.html\n",
      "  from .autonotebook import tqdm as notebook_tqdm\n"
     ]
    }
   ],
   "source": [
    "import numpy as np\n",
    "import pandas as pd\n",
    "from matplotlib import pyplot as plt\n",
    "import random\n",
    "\n",
    "from time import time\n",
    "\n",
    "from scipy.special import comb, loggamma, lambertw\n",
    "from scipy.stats import multinomial, expon\n",
    "\n",
    "from silence_tensorflow import silence_tensorflow\n",
    "silence_tensorflow()\n",
    "import tensorflow as tf\n",
    "import tensorflow_probability as tfp\n",
    "\n",
    "config = tf.compat.v1.ConfigProto()\n",
    "config.gpu_options.allow_growth = True\n",
    "sess = tf.compat.v1.Session(config = config)\n",
    "\n",
    "import os, shutil\n",
    "import json\n",
    "import subprocess\n",
    "\n",
    "from net_model import *\n",
    "from custom_model import *\n",
    "from mps_models import *\n",
    "\n",
    "import mps\n",
    "import pwexp"
   ]
  },
  {
   "cell_type": "code",
   "execution_count": 2,
   "id": "4cf88979-1f18-45f7-b84e-3cda1cb86507",
   "metadata": {},
   "outputs": [],
   "source": [
    "fashion_mnist = tf.keras.datasets.fashion_mnist\n",
    "(train_images, train_labels), (test_images, test_labels) = fashion_mnist.load_data()\n",
    "\n",
    "i_valid_train = pd.Series(train_labels).isin([0,1,2,3,4]).to_numpy()\n",
    "i_valid_test = pd.Series(test_labels).isin([0,1,2,3,4]).to_numpy()\n",
    "\n",
    "# Filters to take only the images with labels in [0, 1, 2, 3, 4]\n",
    "train_images = train_images[i_valid_train]\n",
    "train_images = train_images / np.max(train_images)\n",
    "train_shape = train_images.shape\n",
    "# Adds one more dimension for keras to identify the \"colors\" dimension\n",
    "train_images = np.reshape(train_images, (train_shape[0], train_shape[1], train_shape[2], 1))\n",
    "\n",
    "test_images = test_images[i_valid_test]\n",
    "test_images = test_images / np.max(test_images)\n",
    "test_shape = test_images.shape\n",
    "# Adds one more dimension for keras to identify the \"colors\" dimension\n",
    "test_images = np.reshape(test_images, (test_shape[0], test_shape[1], test_shape[2], 1))\n",
    "\n",
    "train_labels = train_labels[i_valid_train]\n",
    "test_labels = test_labels[i_valid_test]"
   ]
  },
  {
   "cell_type": "code",
   "execution_count": 3,
   "id": "7c6d17b4-e93b-4aab-823f-a86a72c289d9",
   "metadata": {},
   "outputs": [],
   "source": [
    "def load_file(data_dir, file_index, distribution, train_images, test_images):\n",
    "    '''\n",
    "        Example:\n",
    "            data_dir = \"SimulationDataset/Scenario1/n500\"\n",
    "            file_index = 20\n",
    "            distribution = \"poisson\"\n",
    "    '''\n",
    "    index_path = \"{}/indices_{}.csv\".format(data_dir, file_index, distribution)\n",
    "    data_path = \"{}/{}/data_{}.csv\".format(data_dir, distribution, file_index)\n",
    "    df_index = pd.read_csv(index_path)\n",
    "    df_data = pd.read_csv(data_path)\n",
    "\n",
    "    index_train = df_index.loc[df_index.set == \"train\",\"index\"].to_numpy()\n",
    "    index_val = df_index.loc[df_index.set == \"val\",\"index\"].to_numpy()\n",
    "    index_test = df_index.loc[df_index.set == \"test\",\"index\"].to_numpy()\n",
    "\n",
    "    # Values for the thetas\n",
    "    theta_train = df_data.loc[df_data.set == \"train\", \"theta\"]\n",
    "    theta_val = df_data.loc[df_data.set == \"val\", \"theta\"]\n",
    "    theta_test = df_data.loc[df_data.set == \"test\", \"theta\"]\n",
    "    # Values for the latent variable\n",
    "    m_train = df_data.loc[df_data.set == \"train\", \"m\"]\n",
    "    m_val = df_data.loc[df_data.set == \"val\", \"m\"]\n",
    "    m_test = df_data.loc[df_data.set == \"test\", \"m\"]\n",
    "    # Values for the time variable\n",
    "    t_train = df_data.loc[df_data.set == \"train\", \"t\"]\n",
    "    t_val = df_data.loc[df_data.set == \"val\", \"t\"]\n",
    "    t_test = df_data.loc[df_data.set == \"test\", \"t\"]\n",
    "    # Values for the censorship indicators\n",
    "    delta_train = df_data.loc[df_data.set == \"train\", \"delta\"]\n",
    "    delta_val = df_data.loc[df_data.set == \"val\", \"delta\"]\n",
    "    delta_test = df_data.loc[df_data.set == \"test\", \"delta\"]\n",
    "\n",
    "    img_train = train_images[index_train,:,:]\n",
    "    img_val = train_images[index_val,:,:]\n",
    "    img_test = test_images[index_test,:,:]\n",
    "\n",
    "    result = {\n",
    "        \"theta_train\": theta_train, \"theta_val\": theta_val, \"theta_test\": theta_test,\n",
    "        \"m_train\": m_train, \"m_val\": m_val, \"m_test\": m_test,\n",
    "        \"t_train\": t_train, \"t_val\": t_val, \"t_test\": t_test,\n",
    "        \"delta_train\": delta_train, \"delta_val\": delta_val, \"delta_test\": delta_test,\n",
    "        \"img_train\": img_train, \"img_val\": img_val, \"img_test\": img_test,\n",
    "        \"index_train\": index_train, \"index_val\": index_val, \"index_test\": index_test\n",
    "    }\n",
    "    \n",
    "    return result"
   ]
  },
  {
   "cell_type": "code",
   "execution_count": 4,
   "id": "ab32f6c0-e44b-4b35-adf5-6ed9c57bff19",
   "metadata": {},
   "outputs": [],
   "source": [
    "def select_model(distribution, q):\n",
    "    if(distribution == \"poisson\"):      \n",
    "        log_a_str = log_a_poisson_str\n",
    "        log_phi_str = log_phi_poisson_str\n",
    "        C_str = C_poisson_str\n",
    "        C_inv_str = C_inv_poisson_str\n",
    "        sup_str = sup_poisson_str\n",
    "        theta_min = None\n",
    "        theta_max = None\n",
    "    elif(distribution == \"logarithmic\"):\n",
    "        log_a_str = log_a_log_str\n",
    "        log_phi_str = log_phi_log_str\n",
    "        C_str = C_log_str\n",
    "        C_inv_str = C_inv_log_str\n",
    "        sup_str = sup_log_str\n",
    "        theta_min = 0\n",
    "        theta_max = 1\n",
    "    elif(distribution == \"nb\" or distribution == \"mvnb\"):\n",
    "        if(q is None):\n",
    "            raise Exception(\"Please, specify the fixed parameter (q) for the distribution.\")\n",
    "        # In the EM.py file, we must ensure that q is of type tf.float64 for it to work properly\n",
    "        q_argument = \"tf.constant({}, dtype = tf.float64)\".format(q)\n",
    "        log_a_str = log_a_mvnb_str.format(q_argument)\n",
    "        log_phi_str = log_phi_mvnb_str.format(q_argument)\n",
    "        C_str = C_mvnb_str.format(q_argument)\n",
    "        C_inv_str = C_inv_mvnb_str.format(q_argument)\n",
    "        sup_str = sup_mvnb_str.format(q_argument)\n",
    "        theta_min = None\n",
    "        theta_max = None\n",
    "    elif(distribution == \"geometric\"):\n",
    "        # In the EM.py file, we must ensure that q is of type tf.float64 for it to work properly\n",
    "        q_argument = \"tf.constant(1, dtype = tf.float64)\"\n",
    "        log_a_str = log_a_mvnb_str.format(q_argument)\n",
    "        log_phi_str = log_phi_mvnb_str.format(q_argument)\n",
    "        C_str = C_mvnb_str.format(q_argument)\n",
    "        C_inv_str = C_inv_mvnb_str.format(q_argument)\n",
    "        sup_str = sup_mvnb_str.format(q_argument)\n",
    "        theta_min = None\n",
    "        theta_max = None\n",
    "    elif(distribution == \"binomial\"): \n",
    "        if(q is None):\n",
    "            raise Exception(\"Please, specify the fixed parameter (q) for the distribution.\")\n",
    "        # In the EM.py file, we must ensure that q is of type tf.float64 for it to work properly\n",
    "        q_argument = \"tf.constant({}, dtype = tf.float64)\".format(q)\n",
    "        log_a_str = log_a_bin_str.format(q_argument)\n",
    "        log_phi_str = log_phi_bin_str.format(q_argument)\n",
    "        C_str = C_bin_str.format(q_argument)\n",
    "        C_inv_str = C_inv_bin_str.format(q_argument)\n",
    "        sup_str = sup_bin_str.format(q_argument)\n",
    "        theta_min = 0\n",
    "        theta_max = 1\n",
    "    elif(distribution == \"bernoulli\"):\n",
    "        # In the EM.py file, we must ensure that q is of type tf.float64 for it to work properly\n",
    "        q_argument = \"tf.constant(1, dtype = tf.float64)\"\n",
    "        log_a_str = log_a_bin_str.format(q_argument)\n",
    "        log_phi_str = log_phi_bin_str.format(q_argument)\n",
    "        C_str = C_bin_str.format(q_argument)\n",
    "        C_inv_str = C_inv_bin_str.format(q_argument)\n",
    "        sup_str = sup_bin_str.format(q_argument)\n",
    "        theta_min = 0\n",
    "        theta_max = 1\n",
    "    elif(distribution == \"rgp\"):\n",
    "        if(q is None):\n",
    "            raise Exception(\"Please, specify the fixed parameter (q) for the distribution.\")\n",
    "        # In the EM.py file, we must ensure that q is of type tf.float64 for it to work properly\n",
    "        q_argument = \"tf.constant({}, dtype = tf.float64)\".format(q)\n",
    "        log_a_str = log_a_rgp_str.format(q_argument)\n",
    "        log_phi_str = log_phi_rgp_str.format(q_argument)\n",
    "        C_str = C_rgp_str.format(q_argument)\n",
    "        C_inv_str = C_inv_rgp_str.format(q_argument)\n",
    "        sup_str = sup_rgp_str.format(q_argument)\n",
    "        theta_min = 0\n",
    "        theta_max = np.abs(1/q)\n",
    "    elif(distribution == \"borel\"):\n",
    "        # In the EM.py file, we must ensure that q is of type tf.float64 for it to work properly\n",
    "        q_argument = \"tf.constant(1, dtype = tf.float64)\"\n",
    "        log_a_str = log_a_rgp_str.format(q_argument)\n",
    "        log_phi_str = log_phi_rgp_str.format(q_argument)\n",
    "        C_str = C_rgp_str.format(q_argument)\n",
    "        C_inv_str = C_inv_rgp_str.format(q_argument)\n",
    "        sup_str = sup_rgp_str.format(q_argument)\n",
    "        theta_min = 0\n",
    "        theta_max = 1\n",
    "    elif(distribution == \"geeta\"):\n",
    "        if(q is None):\n",
    "            raise Exception(\"Please, specify the fixed parameter (q) for the distribution.\")\n",
    "        # In the EM.py file, we must ensure that q is of type tf.float64 for it to work properly\n",
    "        q_argument = \"tf.constant({}, dtype = tf.float64)\".format(q)\n",
    "        log_a_str = log_a_geeta_str.format(q_argument)\n",
    "        log_phi_str = log_phi_geeta_str.format(q_argument)\n",
    "        C_str = C_geeta_str.format(q_argument)\n",
    "        C_inv_str = C_inv_geeta_str.format(q_argument)\n",
    "        sup_str = sup_geeta_str.format(q_argument)\n",
    "        theta_min = 0\n",
    "        theta_max = np.abs(1/q)\n",
    "    elif(distribution == \"haight\"):\n",
    "        # In the EM.py file, we must ensure that q is of type tf.float64 for it to work properly\n",
    "        q_argument = \"tf.constant(2, dtype = tf.float64)\"\n",
    "        log_a_str = log_a_geeta_str.format(q_argument)\n",
    "        log_phi_str = log_phi_geeta_str.format(q_argument)\n",
    "        C_str = C_geeta_str.format(q_argument)\n",
    "        C_inv_str = C_inv_geeta_str.format(q_argument)\n",
    "        sup_str = sup_geeta_str.format(q_argument)\n",
    "        theta_min = 0\n",
    "        theta_max = 1/2\n",
    "\n",
    "    return log_a_str, log_phi_str, C_str, C_inv_str, sup_str, theta_min, theta_max"
   ]
  },
  {
   "cell_type": "code",
   "execution_count": 5,
   "id": "2f50eff3-515c-48c2-bd58-1c85cc597ff4",
   "metadata": {},
   "outputs": [],
   "source": [
    "def fit_cure_model(distribution, q,\n",
    "                   t_train, t_val,\n",
    "                   delta_train, delta_val,\n",
    "                   img_train, img_val,\n",
    "                   max_iterations = 100,\n",
    "                   early_stopping_em = True, early_stopping_em_warmup = 5, early_stopping_em_eps = 1.0e-6,\n",
    "                   epochs = 100, batch_size = None, shuffle = True,\n",
    "                   learning_rate = 0.001, run_eagerly = False,\n",
    "                   early_stopping_nn = True, early_stopping_min_delta_nn = 0.0, early_stopping_patience_nn = 5,\n",
    "                   reduce_lr = True, reduce_lr_steps = 10, reduce_lr_factor = 0.1,\n",
    "                   verbose = 1, seed = 1):\n",
    "    \n",
    "    alpha0, s_t = initialize_alpha_s(t_train, n_cuts = 5)\n",
    "    \n",
    "    # Select the MPS functions based on the chosen distribution\n",
    "    log_a_str, log_phi_str, C_str, C_inv_str, sup_str, theta_min, theta_max = select_model(distribution, q)\n",
    "\n",
    "    set_all_seeds(seed)\n",
    "    # Because it only serves to initialize the model weights, the distribution does not matter in this case (that's why we use the Poisson here)\n",
    "    dummy_mps_model = MPScrModel(log_a_poisson_tf, log_phi_poisson_tf, C_poisson_tf, C_inv_poisson_tf, sup_poisson)\n",
    "    dummy_mps_model.define_structure(shape_input = img_train[0].shape, seed = seed)\n",
    "\n",
    "    # If batch_size is null, use just one big batch\n",
    "    if(batch_size is None):\n",
    "        batch_size = len(t_train)\n",
    "    \n",
    "    results = call_EM(\"EM.py\",\n",
    "                      log_a_str, log_phi_str, C_str, C_inv_str, sup_str, theta_min, theta_max,\n",
    "                      dummy_mps_model, alpha0, s_t,\n",
    "                      img_train, t_train, delta_train, delta_train,\n",
    "                      max_iterations = max_iterations,\n",
    "                      early_stopping_em = early_stopping_em, early_stopping_em_warmup = early_stopping_em_warmup, early_stopping_em_eps = early_stopping_em_eps,\n",
    "                      epochs = epochs, batch_size = batch_size, shuffle = shuffle,\n",
    "                      learning_rate = learning_rate, run_eagerly = run_eagerly,\n",
    "                      early_stopping_nn = early_stopping_nn, early_stopping_min_delta_nn = early_stopping_min_delta_nn, early_stopping_patience_nn = early_stopping_patience_nn,\n",
    "                      reduce_lr = reduce_lr, reduce_lr_steps = reduce_lr_steps, reduce_lr_factor = reduce_lr_factor,\n",
    "                      validation = True,\n",
    "                      x_val = img_val, t_val = t_val, delta_val = delta_val, m_val = delta_val,\n",
    "                      verbose = verbose, seed = seed, alpha_known = False)\n",
    "    return results"
   ]
  },
  {
   "cell_type": "code",
   "execution_count": 10,
   "id": "471af1a1-98c8-4a53-9061-07dc2417fa02",
   "metadata": {},
   "outputs": [
    {
     "name": "stdout",
     "output_type": "stream",
     "text": [
      "Keys: ['theta_train', 'theta_val', 'theta_test', 'm_train', 'm_val', 'm_test', 't_train', 't_val', 't_test', 'delta_train', 'delta_val', 'delta_test', 'img_train', 'img_val', 'img_test', 'index_train', 'index_val', 'index_test']\n"
     ]
    }
   ],
   "source": [
    "file_info = load_file(\"SimulationDataset/Scenario1/n1000/\", 1, \"logarithmic\", train_images, test_images)\n",
    "print( \"Keys: {}\".format(list(file_info.keys())) )"
   ]
  },
  {
   "cell_type": "code",
   "execution_count": 11,
   "id": "b1277a1f-64fb-409d-87c8-6f3babe6a296",
   "metadata": {},
   "outputs": [
    {
     "data": {
      "text/plain": [
       "array([0.99920501, 0.99999627, 0.98883186, 0.19310017, 0.84813068])"
      ]
     },
     "execution_count": 11,
     "metadata": {},
     "output_type": "execute_result"
    }
   ],
   "source": [
    "file_info[\"theta_train\"].unique()"
   ]
  },
  {
   "cell_type": "code",
   "execution_count": 8,
   "id": "96b933c4-7077-479c-b8d8-10f15ab3ccc3",
   "metadata": {},
   "outputs": [
    {
     "name": "stderr",
     "output_type": "stream",
     "text": [
      "I0000 00:00:1741261914.622873 3184772 gpu_device.cc:2022] Created device /job:localhost/replica:0/task:0/device:GPU:0 with 4086 MB memory:  -> device: 0, name: NVIDIA GeForce RTX 3050 6GB Laptop GPU, pci bus id: 0000:01:00.0, compute capability: 8.6\n",
      "WARNING: All log messages before absl::InitializeLog() is called are written to STDERR\n",
      "E0000 00:00:1741261915.659252 3184880 cuda_dnn.cc:8310] Unable to register cuDNN factory: Attempting to register factory for plugin cuDNN when one has already been registered\n",
      "E0000 00:00:1741261915.662979 3184880 cuda_blas.cc:1418] Unable to register cuBLAS factory: Attempting to register factory for plugin cuBLAS when one has already been registered\n",
      "I0000 00:00:1741261918.128815 3184880 gpu_device.cc:2022] Created device /job:localhost/replica:0/task:0/device:GPU:0 with 3996 MB memory:  -> device: 0, name: NVIDIA GeForce RTX 3050 6GB Laptop GPU, pci bus id: 0000:01:00.0, compute capability: 8.6\n",
      "I0000 00:00:1741261918.157674 3184880 gpu_device.cc:2022] Created device /job:localhost/replica:0/task:0/device:GPU:0 with 3996 MB memory:  -> device: 0, name: NVIDIA GeForce RTX 3050 6GB Laptop GPU, pci bus id: 0000:01:00.0, compute capability: 8.6\n"
     ]
    },
    {
     "name": "stdout",
     "output_type": "stream",
     "text": [
      "Iniciando passo 1\n"
     ]
    },
    {
     "name": "stderr",
     "output_type": "stream",
     "text": [
      "I0000 00:00:1741261920.212003 3184947 cuda_dnn.cc:529] Loaded cuDNN version 90300\n",
      "100%|██████████| 100/100 [00:09<00:00, 10.36epoch/s, loss=0.673, loss_val=0.68]\n"
     ]
    },
    {
     "name": "stdout",
     "output_type": "stream",
     "text": [
      "Iniciando treinamento:\n",
      "Tamanho da amostra de treino: 1000\n",
      "Tamanho da amostra de validação: 214\n",
      "Distância Parâmetros Rede Neural: 7.538721961286824e-05\n",
      "Distância Parâmetros Alpha: 513.0286907289657\n",
      "Média das distâncias: 256.5143830580926\n",
      "Iniciando passo 2\n"
     ]
    },
    {
     "name": "stderr",
     "output_type": "stream",
     "text": [
      " 23%|██▎       | 23/100 [00:02<00:09,  8.54epoch/s, loss=0.835, loss_val=0.831]\n"
     ]
    },
    {
     "name": "stdout",
     "output_type": "stream",
     "text": [
      "Iniciando treinamento:\n",
      "Tamanho da amostra de treino: 1000\n",
      "Tamanho da amostra de validação: 214\n",
      "Distância Parâmetros Rede Neural: 6.310890643443904e-06\n",
      "Distância Parâmetros Alpha: 60.75779476630453\n",
      "Média das distâncias: 30.378900538597584\n",
      "Iniciando passo 3\n"
     ]
    },
    {
     "name": "stderr",
     "output_type": "stream",
     "text": [
      "  6%|▌         | 6/100 [00:01<00:20,  4.58epoch/s, loss=1.01, loss_val=0.964] \n"
     ]
    },
    {
     "name": "stdout",
     "output_type": "stream",
     "text": [
      "Iniciando treinamento:\n",
      "Tamanho da amostra de treino: 1000\n",
      "Tamanho da amostra de validação: 214\n",
      "Distância Parâmetros Rede Neural: 9.706445112707105e-07\n",
      "Distância Parâmetros Alpha: 18.04554325613655\n",
      "Média das distâncias: 9.02277211339053\n",
      "Iniciando passo 4\n"
     ]
    },
    {
     "name": "stderr",
     "output_type": "stream",
     "text": [
      "  8%|▊         | 8/100 [00:01<00:15,  5.85epoch/s, loss=1.41, loss_val=1.44]\n"
     ]
    },
    {
     "name": "stdout",
     "output_type": "stream",
     "text": [
      "Iniciando treinamento:\n",
      "Tamanho da amostra de treino: 1000\n",
      "Tamanho da amostra de validação: 214\n",
      "Distância Parâmetros Rede Neural: 6.430594317831488e-07\n",
      "Distância Parâmetros Alpha: 24.481350255995014\n",
      "Média das distâncias: 12.240675449527224\n",
      "Iniciando passo 5\n"
     ]
    },
    {
     "name": "stderr",
     "output_type": "stream",
     "text": [
      "  8%|▊         | 8/100 [00:01<00:15,  5.94epoch/s, loss=1.89, loss_val=1.94]\n"
     ]
    },
    {
     "name": "stdout",
     "output_type": "stream",
     "text": [
      "Iniciando treinamento:\n",
      "Tamanho da amostra de treino: 1000\n",
      "Tamanho da amostra de validação: 214\n",
      "Distância Parâmetros Rede Neural: 5.762095142507283e-07\n",
      "Distância Parâmetros Alpha: 5.169385606359927\n",
      "Média das distâncias: 2.5846930912847204\n",
      "Iniciando passo 6\n"
     ]
    },
    {
     "name": "stderr",
     "output_type": "stream",
     "text": [
      "  8%|▊         | 8/100 [00:01<00:14,  6.23epoch/s, loss=2.08, loss_val=2.13]\n",
      "  0%|          | 0/100 [00:00<?, ?epoch/s]"
     ]
    },
    {
     "name": "stdout",
     "output_type": "stream",
     "text": [
      "Iniciando treinamento:\n",
      "Tamanho da amostra de treino: 1000\n",
      "Tamanho da amostra de validação: 214\n",
      "Distância Parâmetros Rede Neural: 4.4764917210970467e-07\n",
      "Distância Parâmetros Alpha: 1.7156443794736813\n",
      "Média das distâncias: 0.8578224135614267\n",
      "Iniciando passo 7\n"
     ]
    },
    {
     "name": "stderr",
     "output_type": "stream",
     "text": [
      "  8%|▊         | 8/100 [00:01<00:16,  5.56epoch/s, loss=2.12, loss_val=2.17]\n"
     ]
    },
    {
     "name": "stdout",
     "output_type": "stream",
     "text": [
      "Iniciando treinamento:\n",
      "Tamanho da amostra de treino: 1000\n",
      "Tamanho da amostra de validação: 214\n",
      "Distância Parâmetros Rede Neural: 4.2958241331039097e-07\n",
      "Distância Parâmetros Alpha: 0.6362301177102073\n",
      "Média das distâncias: 0.3181152736463103\n",
      "Iniciando passo 8\n"
     ]
    },
    {
     "name": "stderr",
     "output_type": "stream",
     "text": [
      "  8%|▊         | 8/100 [00:01<00:14,  6.21epoch/s, loss=2.09, loss_val=2.14]\n"
     ]
    },
    {
     "name": "stdout",
     "output_type": "stream",
     "text": [
      "Iniciando treinamento:\n",
      "Tamanho da amostra de treino: 1000\n",
      "Tamanho da amostra de validação: 214\n",
      "Distância Parâmetros Rede Neural: 4.178065125934564e-07\n",
      "Distância Parâmetros Alpha: 0.26286955564389786\n",
      "Média das distâncias: 0.13143498672520523\n",
      "Iniciando passo 9\n"
     ]
    },
    {
     "name": "stderr",
     "output_type": "stream",
     "text": [
      "  8%|▊         | 8/100 [00:01<00:14,  6.23epoch/s, loss=2.1, loss_val=2.14] \n"
     ]
    },
    {
     "name": "stdout",
     "output_type": "stream",
     "text": [
      "Iniciando treinamento:\n",
      "Tamanho da amostra de treino: 1000\n",
      "Tamanho da amostra de validação: 214\n",
      "Distância Parâmetros Rede Neural: 4.0541352609904696e-07\n",
      "Distância Parâmetros Alpha: 0.1207778041411064\n",
      "Média das distâncias: 0.06038910477731625\n",
      "Iniciando passo 10\n"
     ]
    },
    {
     "name": "stderr",
     "output_type": "stream",
     "text": [
      "  8%|▊         | 8/100 [00:01<00:14,  6.30epoch/s, loss=2, loss_val=2.04]   \n"
     ]
    },
    {
     "name": "stdout",
     "output_type": "stream",
     "text": [
      "Iniciando treinamento:\n",
      "Tamanho da amostra de treino: 1000\n",
      "Tamanho da amostra de validação: 214\n",
      "Distância Parâmetros Rede Neural: 4.31955017533463e-07\n",
      "Distância Parâmetros Alpha: 0.06888269141759462\n",
      "Média das distâncias: 0.03444156168630608\n",
      "Learning rate reduzida para 0.0001\n",
      "Iniciando passo 11\n"
     ]
    },
    {
     "name": "stderr",
     "output_type": "stream",
     "text": [
      " 17%|█▋        | 17/100 [00:01<00:09,  9.16epoch/s, loss=1.77, loss_val=1.8] \n"
     ]
    },
    {
     "name": "stdout",
     "output_type": "stream",
     "text": [
      "Iniciando treinamento:\n",
      "Tamanho da amostra de treino: 1000\n",
      "Tamanho da amostra de validação: 214\n",
      "Distância Parâmetros Rede Neural: 3.57431431681648e-07\n",
      "Distância Parâmetros Alpha: 0.04798195640510169\n",
      "Média das distâncias: 0.023991156918266685\n",
      "Iniciando passo 12\n"
     ]
    },
    {
     "name": "stderr",
     "output_type": "stream",
     "text": [
      " 10%|█         | 10/100 [00:01<00:12,  7.13epoch/s, loss=1.65, loss_val=1.66]\n"
     ]
    },
    {
     "name": "stdout",
     "output_type": "stream",
     "text": [
      "Iniciando treinamento:\n",
      "Tamanho da amostra de treino: 1000\n",
      "Tamanho da amostra de validação: 214\n",
      "Distância Parâmetros Rede Neural: 5.043993014220563e-08\n",
      "Distância Parâmetros Alpha: 0.01694394266572592\n",
      "Média das distâncias: 0.00847199655282803\n",
      "Iniciando passo 13\n"
     ]
    },
    {
     "name": "stderr",
     "output_type": "stream",
     "text": [
      "  7%|▋         | 7/100 [00:01<00:16,  5.78epoch/s, loss=1.6, loss_val=1.61] \n"
     ]
    },
    {
     "name": "stdout",
     "output_type": "stream",
     "text": [
      "Iniciando treinamento:\n",
      "Tamanho da amostra de treino: 1000\n",
      "Tamanho da amostra de validação: 214\n",
      "Distância Parâmetros Rede Neural: 1.1817293193021716e-08\n",
      "Distância Parâmetros Alpha: 0.007842573504121748\n",
      "Média das distâncias: 0.00392129266070747\n",
      "Iniciando passo 14\n"
     ]
    },
    {
     "name": "stderr",
     "output_type": "stream",
     "text": [
      "  7%|▋         | 7/100 [00:01<00:15,  5.90epoch/s, loss=1.57, loss_val=1.57]\n"
     ]
    },
    {
     "name": "stdout",
     "output_type": "stream",
     "text": [
      "Iniciando treinamento:\n",
      "Tamanho da amostra de treino: 1000\n",
      "Tamanho da amostra de validação: 214\n",
      "Distância Parâmetros Rede Neural: 1.3007033064935737e-08\n",
      "Distância Parâmetros Alpha: 0.0059189927396018195\n",
      "Média das distâncias: 0.0029595028733174424\n",
      "Iniciando passo 15\n"
     ]
    },
    {
     "name": "stderr",
     "output_type": "stream",
     "text": [
      "  7%|▋         | 7/100 [00:01<00:19,  4.77epoch/s, loss=1.56, loss_val=1.56]\n"
     ]
    },
    {
     "name": "stdout",
     "output_type": "stream",
     "text": [
      "Iniciando treinamento:\n",
      "Tamanho da amostra de treino: 1000\n",
      "Tamanho da amostra de validação: 214\n",
      "Distância Parâmetros Rede Neural: 1.2592870130683324e-08\n",
      "Distância Parâmetros Alpha: 0.003058961647370672\n",
      "Média das distâncias: 0.0015294871201204014\n",
      "Iniciando passo 16\n"
     ]
    },
    {
     "name": "stderr",
     "output_type": "stream",
     "text": [
      "  7%|▋         | 7/100 [00:01<00:17,  5.35epoch/s, loss=1.55, loss_val=1.55]\n"
     ]
    },
    {
     "name": "stdout",
     "output_type": "stream",
     "text": [
      "Iniciando treinamento:\n",
      "Tamanho da amostra de treino: 1000\n",
      "Tamanho da amostra de validação: 214\n",
      "Distância Parâmetros Rede Neural: 1.3017695906362743e-08\n",
      "Distância Parâmetros Alpha: 0.001803368217741605\n",
      "Média das distâncias: 0.0009016906177187557\n",
      "Iniciando passo 17\n"
     ]
    },
    {
     "name": "stderr",
     "output_type": "stream",
     "text": [
      "  7%|▋         | 7/100 [00:01<00:16,  5.80epoch/s, loss=1.55, loss_val=1.55]\n"
     ]
    },
    {
     "name": "stdout",
     "output_type": "stream",
     "text": [
      "Iniciando treinamento:\n",
      "Tamanho da amostra de treino: 1000\n",
      "Tamanho da amostra de validação: 214\n",
      "Distância Parâmetros Rede Neural: 1.3025692929961425e-08\n",
      "Distância Parâmetros Alpha: 0.0009458805774852601\n",
      "Média das distâncias: 0.00047294680158909504\n",
      "Iniciando passo 18\n"
     ]
    },
    {
     "name": "stderr",
     "output_type": "stream",
     "text": [
      "  7%|▋         | 7/100 [00:01<00:15,  5.81epoch/s, loss=1.54, loss_val=1.54]\n"
     ]
    },
    {
     "name": "stdout",
     "output_type": "stream",
     "text": [
      "Iniciando treinamento:\n",
      "Tamanho da amostra de treino: 1000\n",
      "Tamanho da amostra de validação: 214\n",
      "Distância Parâmetros Rede Neural: 1.2953041037030995e-08\n",
      "Distância Parâmetros Alpha: 0.0004799286651948774\n",
      "Média das distâncias: 0.0002399708091179572\n",
      "Iniciando passo 19\n"
     ]
    },
    {
     "name": "stderr",
     "output_type": "stream",
     "text": [
      "  7%|▋         | 7/100 [00:01<00:16,  5.76epoch/s, loss=1.54, loss_val=1.54]\n"
     ]
    },
    {
     "name": "stdout",
     "output_type": "stream",
     "text": [
      "Iniciando treinamento:\n",
      "Tamanho da amostra de treino: 1000\n",
      "Tamanho da amostra de validação: 214\n",
      "Distância Parâmetros Rede Neural: 1.3125968020418528e-08\n",
      "Distância Parâmetros Alpha: 0.0002271501753914099\n",
      "Média das distâncias: 0.00011358165067971517\n",
      "Iniciando passo 20\n"
     ]
    },
    {
     "name": "stderr",
     "output_type": "stream",
     "text": [
      "  7%|▋         | 7/100 [00:01<00:15,  6.01epoch/s, loss=1.54, loss_val=1.54]\n"
     ]
    },
    {
     "name": "stdout",
     "output_type": "stream",
     "text": [
      "Iniciando treinamento:\n",
      "Tamanho da amostra de treino: 1000\n",
      "Tamanho da amostra de validação: 214\n",
      "Distância Parâmetros Rede Neural: 1.270474604123324e-08\n",
      "Distância Parâmetros Alpha: 8.339792332171028e-05\n",
      "Média das distâncias: 4.1705314033875755e-05\n",
      "Learning rate reduzida para 1e-05\n",
      "Iniciando passo 21\n"
     ]
    },
    {
     "name": "stderr",
     "output_type": "stream",
     "text": [
      " 10%|█         | 10/100 [00:01<00:12,  7.19epoch/s, loss=1.54, loss_val=1.54]\n"
     ]
    },
    {
     "name": "stdout",
     "output_type": "stream",
     "text": [
      "Iniciando treinamento:\n",
      "Tamanho da amostra de treino: 1000\n",
      "Tamanho da amostra de validação: 214\n",
      "Distância Parâmetros Rede Neural: 1.6151193466585228e-09\n",
      "Distância Parâmetros Alpha: 4.44832584015867e-05\n",
      "Média das distâncias: 2.224243676046668e-05\n",
      "Iniciando passo 22\n"
     ]
    },
    {
     "name": "stderr",
     "output_type": "stream",
     "text": [
      " 94%|█████████▍| 94/100 [00:07<00:00, 13.20epoch/s, loss=1.52, loss_val=1.53]\n"
     ]
    },
    {
     "name": "stdout",
     "output_type": "stream",
     "text": [
      "Iniciando treinamento:\n",
      "Tamanho da amostra de treino: 1000\n",
      "Tamanho da amostra de validação: 214\n",
      "Distância Parâmetros Rede Neural: 6.127528647297429e-07\n",
      "Distância Parâmetros Alpha: 9.923439169611413e-05\n",
      "Média das distâncias: 4.992357228042194e-05\n",
      "Iniciando passo 23\n"
     ]
    },
    {
     "name": "stderr",
     "output_type": "stream",
     "text": [
      " 74%|███████▍  | 74/100 [00:05<00:02, 12.40epoch/s, loss=1.5, loss_val=1.51] \n"
     ]
    },
    {
     "name": "stdout",
     "output_type": "stream",
     "text": [
      "Iniciando treinamento:\n",
      "Tamanho da amostra de treino: 1000\n",
      "Tamanho da amostra de validação: 214\n",
      "Distância Parâmetros Rede Neural: 3.642072499220696e-07\n",
      "Distância Parâmetros Alpha: 0.00010941933928366509\n",
      "Média das distâncias: 5.489177326679358e-05\n",
      "Iniciando passo 24\n"
     ]
    },
    {
     "name": "stderr",
     "output_type": "stream",
     "text": [
      "  6%|▌         | 6/100 [00:01<00:17,  5.29epoch/s, loss=1.51, loss_val=1.51]\n"
     ]
    },
    {
     "name": "stdout",
     "output_type": "stream",
     "text": [
      "Iniciando treinamento:\n",
      "Tamanho da amostra de treino: 1000\n",
      "Tamanho da amostra de validação: 214\n",
      "Distância Parâmetros Rede Neural: 9.088267470355241e-11\n",
      "Distância Parâmetros Alpha: 9.58482836572897e-05\n",
      "Média das distâncias: 4.79241872699822e-05\n",
      "Iniciando passo 25\n"
     ]
    },
    {
     "name": "stderr",
     "output_type": "stream",
     "text": [
      " 47%|████▋     | 47/100 [00:03<00:04, 12.37epoch/s, loss=1.5, loss_val=1.51]\n"
     ]
    },
    {
     "name": "stdout",
     "output_type": "stream",
     "text": [
      "Iniciando treinamento:\n",
      "Tamanho da amostra de treino: 1000\n",
      "Tamanho da amostra de validação: 214\n",
      "Distância Parâmetros Rede Neural: 1.499053868854628e-07\n",
      "Distância Parâmetros Alpha: 4.4028721182146295e-05\n",
      "Média das distâncias: 2.2089313284515878e-05\n",
      "Iniciando passo 26\n"
     ]
    },
    {
     "name": "stderr",
     "output_type": "stream",
     "text": [
      " 12%|█▏        | 12/100 [00:01<00:11,  7.66epoch/s, loss=1.5, loss_val=1.5]\n"
     ]
    },
    {
     "name": "stdout",
     "output_type": "stream",
     "text": [
      "Iniciando treinamento:\n",
      "Tamanho da amostra de treino: 1000\n",
      "Tamanho da amostra de validação: 214\n",
      "Distância Parâmetros Rede Neural: 3.4683702203439713e-09\n",
      "Distância Parâmetros Alpha: 6.59239862400303e-05\n",
      "Média das distâncias: 3.296372730512532e-05\n",
      "Iniciando passo 27\n"
     ]
    },
    {
     "name": "stderr",
     "output_type": "stream",
     "text": [
      " 34%|███▍      | 34/100 [00:03<00:06, 10.90epoch/s, loss=1.49, loss_val=1.5]\n"
     ]
    },
    {
     "name": "stdout",
     "output_type": "stream",
     "text": [
      "Iniciando treinamento:\n",
      "Tamanho da amostra de treino: 1000\n",
      "Tamanho da amostra de validação: 214\n",
      "Distância Parâmetros Rede Neural: 6.878269304495175e-08\n",
      "Distância Parâmetros Alpha: 4.731749070583683e-05\n",
      "Média das distâncias: 2.3693136699440892e-05\n",
      "Iniciando passo 28\n"
     ]
    },
    {
     "name": "stderr",
     "output_type": "stream",
     "text": [
      " 11%|█         | 11/100 [00:01<00:11,  7.48epoch/s, loss=1.49, loss_val=1.5]\n"
     ]
    },
    {
     "name": "stdout",
     "output_type": "stream",
     "text": [
      "Iniciando treinamento:\n",
      "Tamanho da amostra de treino: 1000\n",
      "Tamanho da amostra de validação: 214\n",
      "Distância Parâmetros Rede Neural: 2.705070704813795e-09\n",
      "Distância Parâmetros Alpha: 5.968618581888776e-05\n",
      "Média das distâncias: 2.9844445444796287e-05\n",
      "Iniciando passo 29\n"
     ]
    },
    {
     "name": "stderr",
     "output_type": "stream",
     "text": [
      " 30%|███       | 30/100 [00:02<00:06, 10.77epoch/s, loss=1.48, loss_val=1.49]\n"
     ]
    },
    {
     "name": "stdout",
     "output_type": "stream",
     "text": [
      "Iniciando treinamento:\n",
      "Tamanho da amostra de treino: 1000\n",
      "Tamanho da amostra de validação: 214\n",
      "Distância Parâmetros Rede Neural: 5.217531545254013e-08\n",
      "Distância Parâmetros Alpha: 4.688625331357464e-05\n",
      "Média das distâncias: 2.3469214314513593e-05\n",
      "Iniciando passo 30\n"
     ]
    },
    {
     "name": "stderr",
     "output_type": "stream",
     "text": [
      " 11%|█         | 11/100 [00:01<00:12,  7.13epoch/s, loss=1.48, loss_val=1.49]\n"
     ]
    },
    {
     "name": "stdout",
     "output_type": "stream",
     "text": [
      "Iniciando treinamento:\n",
      "Tamanho da amostra de treino: 1000\n",
      "Tamanho da amostra de validação: 214\n",
      "Distância Parâmetros Rede Neural: 2.8184210340035638e-09\n",
      "Distância Parâmetros Alpha: 5.880106748589511e-05\n",
      "Média das distâncias: 2.9401942953464557e-05\n",
      "Learning rate reduzida para 1.0000000000000002e-06\n",
      "Iniciando passo 31\n"
     ]
    },
    {
     "name": "stderr",
     "output_type": "stream",
     "text": [
      "  6%|▌         | 6/100 [00:01<00:18,  5.16epoch/s, loss=1.48, loss_val=1.49]\n"
     ]
    },
    {
     "name": "stdout",
     "output_type": "stream",
     "text": [
      "Iniciando treinamento:\n",
      "Tamanho da amostra de treino: 1000\n",
      "Tamanho da amostra de validação: 214\n",
      "Distância Parâmetros Rede Neural: 8.916483021325164e-13\n",
      "Distância Parâmetros Alpha: 4.6932375223582874e-05\n",
      "Média das distâncias: 2.3466188057615587e-05\n",
      "Iniciando passo 32\n"
     ]
    },
    {
     "name": "stderr",
     "output_type": "stream",
     "text": [
      " 19%|█▉        | 19/100 [00:01<00:08,  9.55epoch/s, loss=1.48, loss_val=1.49]\n"
     ]
    },
    {
     "name": "stdout",
     "output_type": "stream",
     "text": [
      "Iniciando treinamento:\n",
      "Tamanho da amostra de treino: 1000\n",
      "Tamanho da amostra de validação: 214\n",
      "Distância Parâmetros Rede Neural: 1.8014436079897458e-10\n",
      "Distância Parâmetros Alpha: 3.690846795656578e-05\n",
      "Média das distâncias: 1.845432405046329e-05\n",
      "Iniciando passo 33\n"
     ]
    },
    {
     "name": "stderr",
     "output_type": "stream",
     "text": [
      " 18%|█▊        | 18/100 [00:01<00:08,  9.48epoch/s, loss=1.48, loss_val=1.49]\n"
     ]
    },
    {
     "name": "stdout",
     "output_type": "stream",
     "text": [
      "Iniciando treinamento:\n",
      "Tamanho da amostra de treino: 1000\n",
      "Tamanho da amostra de validação: 214\n",
      "Distância Parâmetros Rede Neural: 1.5342486087008566e-10\n",
      "Distância Parâmetros Alpha: 3.120374967137407e-05\n",
      "Média das distâncias: 1.560195154811747e-05\n",
      "Iniciando passo 34\n"
     ]
    },
    {
     "name": "stderr",
     "output_type": "stream",
     "text": [
      " 11%|█         | 11/100 [00:01<00:11,  7.69epoch/s, loss=1.48, loss_val=1.49]\n"
     ]
    },
    {
     "name": "stdout",
     "output_type": "stream",
     "text": [
      "Iniciando treinamento:\n",
      "Tamanho da amostra de treino: 1000\n",
      "Tamanho da amostra de validação: 214\n",
      "Distância Parâmetros Rede Neural: 3.243742892151413e-11\n",
      "Distância Parâmetros Alpha: 2.896942639143926e-05\n",
      "Média das distâncias: 1.4484729414434091e-05\n",
      "Iniciando passo 35\n"
     ]
    },
    {
     "name": "stderr",
     "output_type": "stream",
     "text": [
      " 17%|█▋        | 17/100 [00:01<00:09,  9.15epoch/s, loss=1.48, loss_val=1.49]\n"
     ]
    },
    {
     "name": "stdout",
     "output_type": "stream",
     "text": [
      "Iniciando treinamento:\n",
      "Tamanho da amostra de treino: 1000\n",
      "Tamanho da amostra de validação: 214\n",
      "Distância Parâmetros Rede Neural: 1.2866744994044868e-10\n",
      "Distância Parâmetros Alpha: 2.6457119676315174e-05\n",
      "Média das distâncias: 1.3228624171882558e-05\n",
      "Iniciando passo 36\n"
     ]
    },
    {
     "name": "stderr",
     "output_type": "stream",
     "text": [
      " 13%|█▎        | 13/100 [00:01<00:10,  8.07epoch/s, loss=1.48, loss_val=1.49]\n"
     ]
    },
    {
     "name": "stdout",
     "output_type": "stream",
     "text": [
      "Iniciando treinamento:\n",
      "Tamanho da amostra de treino: 1000\n",
      "Tamanho da amostra de validação: 214\n",
      "Distância Parâmetros Rede Neural: 5.7040681008998235e-11\n",
      "Distância Parâmetros Alpha: 2.6179756275269756e-05\n",
      "Média das distâncias: 1.3089906657975383e-05\n",
      "Iniciando passo 37\n"
     ]
    },
    {
     "name": "stderr",
     "output_type": "stream",
     "text": [
      " 17%|█▋        | 17/100 [00:01<00:09,  8.99epoch/s, loss=1.48, loss_val=1.48]\n"
     ]
    },
    {
     "name": "stdout",
     "output_type": "stream",
     "text": [
      "Iniciando treinamento:\n",
      "Tamanho da amostra de treino: 1000\n",
      "Tamanho da amostra de validação: 214\n",
      "Distância Parâmetros Rede Neural: 1.2921703247482391e-10\n",
      "Distância Parâmetros Alpha: 2.5108465359036412e-05\n",
      "Média das distâncias: 1.2554297288034443e-05\n",
      "Iniciando passo 38\n"
     ]
    },
    {
     "name": "stderr",
     "output_type": "stream",
     "text": [
      " 15%|█▌        | 15/100 [00:01<00:10,  8.33epoch/s, loss=1.48, loss_val=1.48]\n"
     ]
    },
    {
     "name": "stdout",
     "output_type": "stream",
     "text": [
      "Iniciando treinamento:\n",
      "Tamanho da amostra de treino: 1000\n",
      "Tamanho da amostra de validação: 214\n",
      "Distância Parâmetros Rede Neural: 8.906541819087982e-11\n",
      "Distância Parâmetros Alpha: 2.4148616003728783e-05\n",
      "Média das distâncias: 1.2074352534573487e-05\n",
      "Iniciando passo 39\n"
     ]
    },
    {
     "name": "stderr",
     "output_type": "stream",
     "text": [
      " 17%|█▋        | 17/100 [00:01<00:09,  8.90epoch/s, loss=1.48, loss_val=1.48]\n"
     ]
    },
    {
     "name": "stdout",
     "output_type": "stream",
     "text": [
      "Iniciando treinamento:\n",
      "Tamanho da amostra de treino: 1000\n",
      "Tamanho da amostra de validação: 214\n",
      "Distância Parâmetros Rede Neural: 1.2794835861648624e-10\n",
      "Distância Parâmetros Alpha: 2.3009458767740098e-05\n",
      "Média das distâncias: 1.1504793358049358e-05\n",
      "Iniciando passo 40\n"
     ]
    },
    {
     "name": "stderr",
     "output_type": "stream",
     "text": [
      " 13%|█▎        | 13/100 [00:01<00:11,  7.83epoch/s, loss=1.47, loss_val=1.48]\n"
     ]
    },
    {
     "name": "stdout",
     "output_type": "stream",
     "text": [
      "Iniciando treinamento:\n",
      "Tamanho da amostra de treino: 1000\n",
      "Tamanho da amostra de validação: 214\n",
      "Distância Parâmetros Rede Neural: 5.743938264803635e-11\n",
      "Distância Parâmetros Alpha: 2.184168846670924e-05\n",
      "Média das distâncias: 1.0920872953045943e-05\n",
      "Learning rate reduzida para 1.0000000000000002e-07\n",
      "Iniciando passo 41\n"
     ]
    },
    {
     "name": "stderr",
     "output_type": "stream",
     "text": [
      " 11%|█         | 11/100 [00:01<00:12,  7.33epoch/s, loss=1.47, loss_val=1.48]\n"
     ]
    },
    {
     "name": "stdout",
     "output_type": "stream",
     "text": [
      "Iniciando treinamento:\n",
      "Tamanho da amostra de treino: 1000\n",
      "Tamanho da amostra de validação: 214\n",
      "Distância Parâmetros Rede Neural: 3.2884182495874137e-13\n",
      "Distância Parâmetros Alpha: 2.0507716426851006e-05\n",
      "Média das distâncias: 1.0253858377846416e-05\n",
      "Iniciando passo 42\n"
     ]
    },
    {
     "name": "stderr",
     "output_type": "stream",
     "text": [
      "  6%|▌         | 6/100 [00:01<00:19,  4.86epoch/s, loss=1.47, loss_val=1.48]\n"
     ]
    },
    {
     "name": "stdout",
     "output_type": "stream",
     "text": [
      "Iniciando treinamento:\n",
      "Tamanho da amostra de treino: 1000\n",
      "Tamanho da amostra de validação: 214\n",
      "Distância Parâmetros Rede Neural: 8.913915913534774e-15\n",
      "Distância Parâmetros Alpha: 1.4879384388478476e-05\n",
      "Média das distâncias: 7.439692198696196e-06\n",
      "Iniciando passo 43\n"
     ]
    },
    {
     "name": "stderr",
     "output_type": "stream",
     "text": [
      "  7%|▋         | 7/100 [00:01<00:15,  5.95epoch/s, loss=1.47, loss_val=1.48]\n"
     ]
    },
    {
     "name": "stdout",
     "output_type": "stream",
     "text": [
      "Iniciando treinamento:\n",
      "Tamanho da amostra de treino: 1000\n",
      "Tamanho da amostra de validação: 214\n",
      "Distância Parâmetros Rede Neural: 3.606868571283148e-14\n",
      "Distância Parâmetros Alpha: 1.078799305155891e-05\n",
      "Média das distâncias: 5.393996543813798e-06\n",
      "Iniciando passo 44\n"
     ]
    },
    {
     "name": "stderr",
     "output_type": "stream",
     "text": [
      " 34%|███▍      | 34/100 [00:02<00:05, 11.45epoch/s, loss=1.47, loss_val=1.48]\n"
     ]
    },
    {
     "name": "stdout",
     "output_type": "stream",
     "text": [
      "Iniciando treinamento:\n",
      "Tamanho da amostra de treino: 1000\n",
      "Tamanho da amostra de validação: 214\n",
      "Distância Parâmetros Rede Neural: 7.77410283734577e-12\n",
      "Distância Parâmetros Alpha: 8.23725629592631e-06\n",
      "Média das distâncias: 4.118632035014573e-06\n",
      "Iniciando passo 45\n"
     ]
    },
    {
     "name": "stderr",
     "output_type": "stream",
     "text": [
      " 35%|███▌      | 35/100 [00:03<00:05, 11.56epoch/s, loss=1.47, loss_val=1.48]\n",
      "  0%|          | 0/100 [00:00<?, ?epoch/s]"
     ]
    },
    {
     "name": "stdout",
     "output_type": "stream",
     "text": [
      "Iniciando treinamento:\n",
      "Tamanho da amostra de treino: 1000\n",
      "Tamanho da amostra de validação: 214\n",
      "Distância Parâmetros Rede Neural: 8.253376916879322e-12\n",
      "Distância Parâmetros Alpha: 9.095395354044186e-06\n",
      "Média das distâncias: 4.547701803710551e-06\n",
      "Iniciando passo 46\n"
     ]
    },
    {
     "name": "stderr",
     "output_type": "stream",
     "text": [
      " 23%|██▎       | 23/100 [00:02<00:07, 10.05epoch/s, loss=1.47, loss_val=1.48]\n"
     ]
    },
    {
     "name": "stdout",
     "output_type": "stream",
     "text": [
      "Iniciando treinamento:\n",
      "Tamanho da amostra de treino: 1000\n",
      "Tamanho da amostra de validação: 214\n",
      "Distância Parâmetros Rede Neural: 2.986609583841058e-12\n",
      "Distância Parâmetros Alpha: 9.369596998810735e-06\n",
      "Média das distâncias: 4.68479999271016e-06\n",
      "Iniciando passo 47\n"
     ]
    },
    {
     "name": "stderr",
     "output_type": "stream",
     "text": [
      " 27%|██▋       | 27/100 [00:02<00:07,  9.92epoch/s, loss=1.47, loss_val=1.48]\n"
     ]
    },
    {
     "name": "stdout",
     "output_type": "stream",
     "text": [
      "Iniciando treinamento:\n",
      "Tamanho da amostra de treino: 1000\n",
      "Tamanho da amostra de validação: 214\n",
      "Distância Parâmetros Rede Neural: 4.472920834706604e-12\n",
      "Distância Parâmetros Alpha: 8.177566539260883e-06\n",
      "Média das distâncias: 4.088785506090859e-06\n",
      "Iniciando passo 48\n"
     ]
    },
    {
     "name": "stderr",
     "output_type": "stream",
     "text": [
      " 50%|█████     | 50/100 [00:04<00:04, 11.30epoch/s, loss=1.47, loss_val=1.48]\n"
     ]
    },
    {
     "name": "stdout",
     "output_type": "stream",
     "text": [
      "Iniciando treinamento:\n",
      "Tamanho da amostra de treino: 1000\n",
      "Tamanho da amostra de validação: 214\n",
      "Distância Parâmetros Rede Neural: 1.8610207125890786e-11\n",
      "Distância Parâmetros Alpha: 7.713661934642755e-06\n",
      "Média das distâncias: 3.85684027242494e-06\n",
      "Iniciando passo 49\n"
     ]
    },
    {
     "name": "stderr",
     "output_type": "stream",
     "text": [
      " 30%|███       | 30/100 [00:02<00:06, 10.48epoch/s, loss=1.47, loss_val=1.48]\n"
     ]
    },
    {
     "name": "stdout",
     "output_type": "stream",
     "text": [
      "Iniciando treinamento:\n",
      "Tamanho da amostra de treino: 1000\n",
      "Tamanho da amostra de validação: 214\n",
      "Distância Parâmetros Rede Neural: 5.767152215000405e-12\n",
      "Distância Parâmetros Alpha: 8.875589360261971e-06\n",
      "Média das distâncias: 4.437797563707093e-06\n",
      "Iniciando passo 50\n"
     ]
    },
    {
     "name": "stderr",
     "output_type": "stream",
     "text": [
      " 15%|█▌        | 15/100 [00:01<00:09,  8.79epoch/s, loss=1.47, loss_val=1.48]\n"
     ]
    },
    {
     "name": "stdout",
     "output_type": "stream",
     "text": [
      "Iniciando treinamento:\n",
      "Tamanho da amostra de treino: 1000\n",
      "Tamanho da amostra de validação: 214\n",
      "Distância Parâmetros Rede Neural: 9.188654437987103e-13\n",
      "Distância Parâmetros Alpha: 7.75918685930218e-06\n",
      "Média das distâncias: 3.8795938890838125e-06\n",
      "Learning rate reduzida para 1.0000000000000004e-08\n",
      "Iniciando passo 51\n"
     ]
    },
    {
     "name": "stderr",
     "output_type": "stream",
     "text": [
      " 11%|█         | 11/100 [00:01<00:11,  7.57epoch/s, loss=1.47, loss_val=1.48]\n"
     ]
    },
    {
     "name": "stdout",
     "output_type": "stream",
     "text": [
      "Iniciando treinamento:\n",
      "Tamanho da amostra de treino: 1000\n",
      "Tamanho da amostra de validação: 214\n",
      "Distância Parâmetros Rede Neural: 3.1339342588092626e-15\n",
      "Distância Parâmetros Alpha: 6.109070379362415e-06\n",
      "Média das distâncias: 3.0545351912481747e-06\n",
      "Iniciando passo 52\n"
     ]
    },
    {
     "name": "stderr",
     "output_type": "stream",
     "text": [
      " 12%|█▏        | 12/100 [00:01<00:11,  7.40epoch/s, loss=1.47, loss_val=1.48]\n"
     ]
    },
    {
     "name": "stdout",
     "output_type": "stream",
     "text": [
      "Iniciando treinamento:\n",
      "Tamanho da amostra de treino: 1000\n",
      "Tamanho da amostra de validação: 214\n",
      "Distância Parâmetros Rede Neural: 4.267260741190908e-15\n",
      "Distância Parâmetros Alpha: 4.1995311922138045e-06\n",
      "Média das distâncias: 2.0997655982405325e-06\n",
      "Iniciando passo 53\n"
     ]
    },
    {
     "name": "stderr",
     "output_type": "stream",
     "text": [
      "  9%|▉         | 9/100 [00:01<00:13,  6.66epoch/s, loss=1.47, loss_val=1.48]\n"
     ]
    },
    {
     "name": "stdout",
     "output_type": "stream",
     "text": [
      "Iniciando treinamento:\n",
      "Tamanho da amostra de treino: 1000\n",
      "Tamanho da amostra de validação: 214\n",
      "Distância Parâmetros Rede Neural: 1.3819977194918969e-15\n",
      "Distância Parâmetros Alpha: 3.08343125799717e-06\n",
      "Média das distâncias: 1.541715629689584e-06\n",
      "Iniciando passo 54\n"
     ]
    },
    {
     "name": "stderr",
     "output_type": "stream",
     "text": [
      " 14%|█▍        | 14/100 [00:01<00:11,  7.53epoch/s, loss=1.47, loss_val=1.48]\n"
     ]
    },
    {
     "name": "stdout",
     "output_type": "stream",
     "text": [
      "Iniciando treinamento:\n",
      "Tamanho da amostra de treino: 1000\n",
      "Tamanho da amostra de validação: 214\n",
      "Distância Parâmetros Rede Neural: 7.064489814474865e-15\n",
      "Distância Parâmetros Alpha: 2.267246026498919e-06\n",
      "Média das distâncias: 1.1336230167817044e-06\n",
      "Iniciando passo 55\n"
     ]
    },
    {
     "name": "stderr",
     "output_type": "stream",
     "text": [
      "  7%|▋         | 7/100 [00:01<00:15,  5.82epoch/s, loss=1.47, loss_val=1.48]\n"
     ]
    },
    {
     "name": "stdout",
     "output_type": "stream",
     "text": [
      "Iniciando treinamento:\n",
      "Tamanho da amostra de treino: 1000\n",
      "Tamanho da amostra de validação: 214\n",
      "Distância Parâmetros Rede Neural: 3.4335705892513334e-16\n",
      "Distância Parâmetros Alpha: 1.814584747061525e-06\n",
      "Média das distâncias: 9.072923737024411e-07\n",
      "Algoritmo convergiu após 55 iterações. Retornando.\n",
      "Número de arquivos no diretório: 55\n"
     ]
    }
   ],
   "source": [
    "set_all_seeds(1)\n",
    "\n",
    "sim_results = fit_cure_model(\"logarithmic\", None,\n",
    "               file_info[\"t_train\"], file_info[\"t_val\"],\n",
    "               file_info[\"delta_train\"], file_info[\"delta_val\"],\n",
    "               file_info[\"img_train\"], file_info[\"img_val\"],\n",
    "               batch_size = None,\n",
    "               seed = 1, verbose = 3)"
   ]
  },
  {
   "cell_type": "code",
   "execution_count": 9,
   "id": "3a2fd59f-d342-432f-a03a-1a7cab4f6e0c",
   "metadata": {},
   "outputs": [
    {
     "data": {
      "text/plain": [
       "array([2.0991089 , 1.22312386, 0.8514238 , 0.50337854, 0.09969946,\n",
       "       1.        ])"
      ]
     },
     "execution_count": 9,
     "metadata": {},
     "output_type": "execute_result"
    }
   ],
   "source": [
    "sim_results[\"new_alpha\"]"
   ]
  }
 ],
 "metadata": {
  "kernelspec": {
   "display_name": "Python 3 (ipykernel)",
   "language": "python",
   "name": "python3"
  },
  "language_info": {
   "codemirror_mode": {
    "name": "ipython",
    "version": 3
   },
   "file_extension": ".py",
   "mimetype": "text/x-python",
   "name": "python",
   "nbconvert_exporter": "python",
   "pygments_lexer": "ipython3",
   "version": "3.10.16"
  }
 },
 "nbformat": 4,
 "nbformat_minor": 5
}
