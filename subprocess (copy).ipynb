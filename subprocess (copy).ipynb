{
 "cells": [
  {
   "cell_type": "code",
   "execution_count": 1,
   "id": "579cb74f-6bdc-45d8-8366-1d189667dc7b",
   "metadata": {},
   "outputs": [
    {
     "name": "stderr",
     "output_type": "stream",
     "text": [
      "WARNING: All log messages before absl::InitializeLog() is called are written to STDERR\n",
      "E0000 00:00:1740168187.307817   58498 cuda_dnn.cc:8310] Unable to register cuDNN factory: Attempting to register factory for plugin cuDNN when one has already been registered\n",
      "E0000 00:00:1740168187.311583   58498 cuda_blas.cc:1418] Unable to register cuBLAS factory: Attempting to register factory for plugin cuBLAS when one has already been registered\n",
      "I0000 00:00:1740168188.962351   58498 gpu_device.cc:2022] Created device /job:localhost/replica:0/task:0/device:GPU:0 with 4203 MB memory:  -> device: 0, name: NVIDIA GeForce RTX 3050 6GB Laptop GPU, pci bus id: 0000:01:00.0, compute capability: 8.6\n",
      "/home/natan/.pyenv/versions/3.10.16/lib/python3.10/site-packages/tqdm/auto.py:21: TqdmWarning: IProgress not found. Please update jupyter and ipywidgets. See https://ipywidgets.readthedocs.io/en/stable/user_install.html\n",
      "  from .autonotebook import tqdm as notebook_tqdm\n"
     ]
    }
   ],
   "source": [
    "import numpy as np\n",
    "import pandas as pd\n",
    "from matplotlib import pyplot as plt\n",
    "import random\n",
    "\n",
    "from scipy.special import comb, loggamma, lambertw\n",
    "from scipy.stats import multinomial, expon\n",
    "\n",
    "from silence_tensorflow import silence_tensorflow\n",
    "silence_tensorflow()\n",
    "import tensorflow as tf\n",
    "\n",
    "config = tf.compat.v1.ConfigProto()\n",
    "config.gpu_options.allow_growth = True\n",
    "sess = tf.compat.v1.Session(config = config)\n",
    "\n",
    "import os, shutil\n",
    "import json\n",
    "import subprocess\n",
    "\n",
    "from net_model import *\n",
    "from custom_model import *\n",
    "from mps_models import *\n",
    "\n",
    "import mps\n",
    "import pwexp"
   ]
  },
  {
   "cell_type": "markdown",
   "id": "da7aefba-c0e3-4ef5-96c0-d5f6e8b946f6",
   "metadata": {},
   "source": [
    "# Load data"
   ]
  },
  {
   "cell_type": "code",
   "execution_count": 2,
   "id": "0cc83901-3fb2-4402-9de2-4243dd4746a1",
   "metadata": {},
   "outputs": [
    {
     "name": "stdout",
     "output_type": "stream",
     "text": [
      "Dimensão dos dados de treino: (280, 23)\n",
      "Dimensão dos dados de teste: (72, 23)\n",
      "Dimensão dos dados completos: (352, 23)\n",
      "Dimensão das imagens: (160, 200, 1)\n"
     ]
    }
   ],
   "source": [
    "df_train = pd.read_csv(\"../Datasets/trainSet.csv\")\n",
    "df_train = df_train.iloc[:,1:]\n",
    "\n",
    "df_test = pd.read_csv(\"../Datasets/testSet.csv\")\n",
    "df_test = df_test.iloc[:,1:]\n",
    "\n",
    "df = pd.concat([df_train, df_test])\n",
    "\n",
    "print(\"Dimensão dos dados de treino: {}\".format(df_train.shape))\n",
    "print(\"Dimensão dos dados de teste: {}\".format(df_test.shape))\n",
    "print(\"Dimensão dos dados completos: {}\".format(df.shape))\n",
    "\n",
    "mri = np.load(\"../Datasets/mri.npz\")\n",
    "\n",
    "mriTrain = (mri[\"train_images\"] / np.max(mri[\"train_images\"]))\n",
    "# mriTrain = mri[\"train_images\"]\n",
    "# Remove uma observação do conjunto, que contava com dados de especificação faltantes\n",
    "mriTrain = np.delete(mriTrain, 230, axis=0)\n",
    "\n",
    "mriTest = (mri[\"test_images\"] / np.max(mri[\"test_images\"]))\n",
    "# mriTest = mri[\"test_images\"]\n",
    "\n",
    "image_dim = mriTrain[0].shape\n",
    "print(\"Dimensão das imagens: {}\".format(image_dim))\n",
    "\n",
    "x_train = mriTrain\n",
    "t_train = df_train.time.to_numpy()\n",
    "delta_train = df_train.delta.to_numpy()\n",
    "m_train = df_train.delta.to_numpy()\n",
    "x_test = mriTest\n",
    "t_test = df_test.time.to_numpy()\n",
    "delta_test = df_test.delta.to_numpy()\n",
    "m_test = df_test.delta.to_numpy()"
   ]
  },
  {
   "cell_type": "markdown",
   "id": "e5dd122e-eea5-4b0b-9636-9b8531861bd9",
   "metadata": {},
   "source": [
    "# Definição do modelo"
   ]
  },
  {
   "cell_type": "code",
   "execution_count": 36,
   "id": "9782594a-52a6-46b2-9f25-ae061565c33e",
   "metadata": {},
   "outputs": [],
   "source": [
    "# from custom_model import *"
   ]
  },
  {
   "cell_type": "code",
   "execution_count": 4,
   "id": "d34f8259-cdb5-41f1-9886-bef25c86a4a8",
   "metadata": {},
   "outputs": [],
   "source": [
    "# # Funções traduzidas para o treinamento da rede neural - Poisson\n",
    "# log_a_poisson = lambda x : -tf.math.lgamma(x+1)\n",
    "# log_phi_poisson = lambda theta : tf.math.log(theta)\n",
    "# C_poisson = lambda theta : tf.math.exp(theta)\n",
    "# C_inv_poisson = lambda x : tf.math.log(x)\n",
    "# B_poisson = 101\n",
    "# sup_poisson = \"np.arange(0, B_poisson, 1).astype(np.float64)\"\n",
    "# log_a_poisson_str = \"lambda x : -tf.math.lgamma(x+1)\"\n",
    "# log_phi_poisson_str = \"lambda theta : tf.math.log(theta)\"\n",
    "# C_poisson_str = \"lambda theta : tf.math.exp(theta)\"\n",
    "# C_inv_poisson_str = \"lambda x : tf.math.log(x)\"\n",
    "# B_poisson_str = \"101\"\n",
    "# sup_poisson_str = \"np.arange(0, B, 1).astype(np.float64)\""
   ]
  },
  {
   "cell_type": "code",
   "execution_count": 5,
   "id": "5e9d4a7f-02fe-4aee-85a9-35f003bc37ed",
   "metadata": {},
   "outputs": [
    {
     "name": "stderr",
     "output_type": "stream",
     "text": [
      "/home/natan/.pyenv/versions/3.10.16/lib/python3.10/site-packages/keras/src/layers/convolutional/base_conv.py:107: UserWarning: Do not pass an `input_shape`/`input_dim` argument to a layer. When using Sequential models, prefer using an `Input(shape)` object as the first layer in the model instead.\n",
      "  super().__init__(activity_regularizer=activity_regularizer, **kwargs)\n",
      "I0000 00:00:1740167378.309158   34352 gpu_device.cc:2022] Created device /job:localhost/replica:0/task:0/device:GPU:0 with 4203 MB memory:  -> device: 0, name: NVIDIA GeForce RTX 3050 6GB Laptop GPU, pci bus id: 0000:01:00.0, compute capability: 8.6\n",
      "I0000 00:00:1740167378.930261   34352 cuda_dnn.cc:529] Loaded cuDNN version 90300\n"
     ]
    },
    {
     "data": {
      "text/html": [
       "<pre style=\"white-space:pre;overflow-x:auto;line-height:normal;font-family:Menlo,'DejaVu Sans Mono',consolas,'Courier New',monospace\"><span style=\"font-weight: bold\">Model: \"mp_scr_model\"</span>\n",
       "</pre>\n"
      ],
      "text/plain": [
       "\u001b[1mModel: \"mp_scr_model\"\u001b[0m\n"
      ]
     },
     "metadata": {},
     "output_type": "display_data"
    },
    {
     "data": {
      "text/html": [
       "<pre style=\"white-space:pre;overflow-x:auto;line-height:normal;font-family:Menlo,'DejaVu Sans Mono',consolas,'Courier New',monospace\">┏━━━━━━━━━━━━━━━━━━━━━━━━━━━━━━━━━┳━━━━━━━━━━━━━━━━━━━━━━━━┳━━━━━━━━━━━━━━━┓\n",
       "┃<span style=\"font-weight: bold\"> Layer (type)                    </span>┃<span style=\"font-weight: bold\"> Output Shape           </span>┃<span style=\"font-weight: bold\">       Param # </span>┃\n",
       "┡━━━━━━━━━━━━━━━━━━━━━━━━━━━━━━━━━╇━━━━━━━━━━━━━━━━━━━━━━━━╇━━━━━━━━━━━━━━━┩\n",
       "│ conv2d (<span style=\"color: #0087ff; text-decoration-color: #0087ff\">Conv2D</span>)                 │ (<span style=\"color: #00af00; text-decoration-color: #00af00\">1</span>, <span style=\"color: #00af00; text-decoration-color: #00af00\">160</span>, <span style=\"color: #00af00; text-decoration-color: #00af00\">200</span>, <span style=\"color: #00af00; text-decoration-color: #00af00\">4</span>)       │           <span style=\"color: #00af00; text-decoration-color: #00af00\">104</span> │\n",
       "├─────────────────────────────────┼────────────────────────┼───────────────┤\n",
       "│ max_pooling2d (<span style=\"color: #0087ff; text-decoration-color: #0087ff\">MaxPooling2D</span>)    │ ?                      │             <span style=\"color: #00af00; text-decoration-color: #00af00\">0</span> │\n",
       "├─────────────────────────────────┼────────────────────────┼───────────────┤\n",
       "│ conv2d_1 (<span style=\"color: #0087ff; text-decoration-color: #0087ff\">Conv2D</span>)               │ (<span style=\"color: #00af00; text-decoration-color: #00af00\">1</span>, <span style=\"color: #00af00; text-decoration-color: #00af00\">80</span>, <span style=\"color: #00af00; text-decoration-color: #00af00\">100</span>, <span style=\"color: #00af00; text-decoration-color: #00af00\">12</span>)       │         <span style=\"color: #00af00; text-decoration-color: #00af00\">1,212</span> │\n",
       "├─────────────────────────────────┼────────────────────────┼───────────────┤\n",
       "│ max_pooling2d_1 (<span style=\"color: #0087ff; text-decoration-color: #0087ff\">MaxPooling2D</span>)  │ ?                      │             <span style=\"color: #00af00; text-decoration-color: #00af00\">0</span> │\n",
       "├─────────────────────────────────┼────────────────────────┼───────────────┤\n",
       "│ conv2d_2 (<span style=\"color: #0087ff; text-decoration-color: #0087ff\">Conv2D</span>)               │ (<span style=\"color: #00af00; text-decoration-color: #00af00\">1</span>, <span style=\"color: #00af00; text-decoration-color: #00af00\">40</span>, <span style=\"color: #00af00; text-decoration-color: #00af00\">50</span>, <span style=\"color: #00af00; text-decoration-color: #00af00\">32</span>)        │         <span style=\"color: #00af00; text-decoration-color: #00af00\">9,632</span> │\n",
       "├─────────────────────────────────┼────────────────────────┼───────────────┤\n",
       "│ max_pooling2d_2 (<span style=\"color: #0087ff; text-decoration-color: #0087ff\">MaxPooling2D</span>)  │ ?                      │             <span style=\"color: #00af00; text-decoration-color: #00af00\">0</span> │\n",
       "├─────────────────────────────────┼────────────────────────┼───────────────┤\n",
       "│ reshape (<span style=\"color: #0087ff; text-decoration-color: #0087ff\">Reshape</span>)               │ (<span style=\"color: #00af00; text-decoration-color: #00af00\">1</span>, <span style=\"color: #00af00; text-decoration-color: #00af00\">16000</span>)             │             <span style=\"color: #00af00; text-decoration-color: #00af00\">0</span> │\n",
       "├─────────────────────────────────┼────────────────────────┼───────────────┤\n",
       "│ dense (<span style=\"color: #0087ff; text-decoration-color: #0087ff\">Dense</span>)                   │ (<span style=\"color: #00af00; text-decoration-color: #00af00\">1</span>, <span style=\"color: #00af00; text-decoration-color: #00af00\">128</span>)               │     <span style=\"color: #00af00; text-decoration-color: #00af00\">2,048,128</span> │\n",
       "├─────────────────────────────────┼────────────────────────┼───────────────┤\n",
       "│ dense_1 (<span style=\"color: #0087ff; text-decoration-color: #0087ff\">Dense</span>)                 │ (<span style=\"color: #00af00; text-decoration-color: #00af00\">1</span>, <span style=\"color: #00af00; text-decoration-color: #00af00\">1</span>)                 │           <span style=\"color: #00af00; text-decoration-color: #00af00\">128</span> │\n",
       "└─────────────────────────────────┴────────────────────────┴───────────────┘\n",
       "</pre>\n"
      ],
      "text/plain": [
       "┏━━━━━━━━━━━━━━━━━━━━━━━━━━━━━━━━━┳━━━━━━━━━━━━━━━━━━━━━━━━┳━━━━━━━━━━━━━━━┓\n",
       "┃\u001b[1m \u001b[0m\u001b[1mLayer (type)                   \u001b[0m\u001b[1m \u001b[0m┃\u001b[1m \u001b[0m\u001b[1mOutput Shape          \u001b[0m\u001b[1m \u001b[0m┃\u001b[1m \u001b[0m\u001b[1m      Param #\u001b[0m\u001b[1m \u001b[0m┃\n",
       "┡━━━━━━━━━━━━━━━━━━━━━━━━━━━━━━━━━╇━━━━━━━━━━━━━━━━━━━━━━━━╇━━━━━━━━━━━━━━━┩\n",
       "│ conv2d (\u001b[38;5;33mConv2D\u001b[0m)                 │ (\u001b[38;5;34m1\u001b[0m, \u001b[38;5;34m160\u001b[0m, \u001b[38;5;34m200\u001b[0m, \u001b[38;5;34m4\u001b[0m)       │           \u001b[38;5;34m104\u001b[0m │\n",
       "├─────────────────────────────────┼────────────────────────┼───────────────┤\n",
       "│ max_pooling2d (\u001b[38;5;33mMaxPooling2D\u001b[0m)    │ ?                      │             \u001b[38;5;34m0\u001b[0m │\n",
       "├─────────────────────────────────┼────────────────────────┼───────────────┤\n",
       "│ conv2d_1 (\u001b[38;5;33mConv2D\u001b[0m)               │ (\u001b[38;5;34m1\u001b[0m, \u001b[38;5;34m80\u001b[0m, \u001b[38;5;34m100\u001b[0m, \u001b[38;5;34m12\u001b[0m)       │         \u001b[38;5;34m1,212\u001b[0m │\n",
       "├─────────────────────────────────┼────────────────────────┼───────────────┤\n",
       "│ max_pooling2d_1 (\u001b[38;5;33mMaxPooling2D\u001b[0m)  │ ?                      │             \u001b[38;5;34m0\u001b[0m │\n",
       "├─────────────────────────────────┼────────────────────────┼───────────────┤\n",
       "│ conv2d_2 (\u001b[38;5;33mConv2D\u001b[0m)               │ (\u001b[38;5;34m1\u001b[0m, \u001b[38;5;34m40\u001b[0m, \u001b[38;5;34m50\u001b[0m, \u001b[38;5;34m32\u001b[0m)        │         \u001b[38;5;34m9,632\u001b[0m │\n",
       "├─────────────────────────────────┼────────────────────────┼───────────────┤\n",
       "│ max_pooling2d_2 (\u001b[38;5;33mMaxPooling2D\u001b[0m)  │ ?                      │             \u001b[38;5;34m0\u001b[0m │\n",
       "├─────────────────────────────────┼────────────────────────┼───────────────┤\n",
       "│ reshape (\u001b[38;5;33mReshape\u001b[0m)               │ (\u001b[38;5;34m1\u001b[0m, \u001b[38;5;34m16000\u001b[0m)             │             \u001b[38;5;34m0\u001b[0m │\n",
       "├─────────────────────────────────┼────────────────────────┼───────────────┤\n",
       "│ dense (\u001b[38;5;33mDense\u001b[0m)                   │ (\u001b[38;5;34m1\u001b[0m, \u001b[38;5;34m128\u001b[0m)               │     \u001b[38;5;34m2,048,128\u001b[0m │\n",
       "├─────────────────────────────────┼────────────────────────┼───────────────┤\n",
       "│ dense_1 (\u001b[38;5;33mDense\u001b[0m)                 │ (\u001b[38;5;34m1\u001b[0m, \u001b[38;5;34m1\u001b[0m)                 │           \u001b[38;5;34m128\u001b[0m │\n",
       "└─────────────────────────────────┴────────────────────────┴───────────────┘\n"
      ]
     },
     "metadata": {},
     "output_type": "display_data"
    },
    {
     "data": {
      "text/html": [
       "<pre style=\"white-space:pre;overflow-x:auto;line-height:normal;font-family:Menlo,'DejaVu Sans Mono',consolas,'Courier New',monospace\"><span style=\"font-weight: bold\"> Total params: </span><span style=\"color: #00af00; text-decoration-color: #00af00\">2,059,204</span> (7.86 MB)\n",
       "</pre>\n"
      ],
      "text/plain": [
       "\u001b[1m Total params: \u001b[0m\u001b[38;5;34m2,059,204\u001b[0m (7.86 MB)\n"
      ]
     },
     "metadata": {},
     "output_type": "display_data"
    },
    {
     "data": {
      "text/html": [
       "<pre style=\"white-space:pre;overflow-x:auto;line-height:normal;font-family:Menlo,'DejaVu Sans Mono',consolas,'Courier New',monospace\"><span style=\"font-weight: bold\"> Trainable params: </span><span style=\"color: #00af00; text-decoration-color: #00af00\">2,059,204</span> (7.86 MB)\n",
       "</pre>\n"
      ],
      "text/plain": [
       "\u001b[1m Trainable params: \u001b[0m\u001b[38;5;34m2,059,204\u001b[0m (7.86 MB)\n"
      ]
     },
     "metadata": {},
     "output_type": "display_data"
    },
    {
     "data": {
      "text/html": [
       "<pre style=\"white-space:pre;overflow-x:auto;line-height:normal;font-family:Menlo,'DejaVu Sans Mono',consolas,'Courier New',monospace\"><span style=\"font-weight: bold\"> Non-trainable params: </span><span style=\"color: #00af00; text-decoration-color: #00af00\">0</span> (0.00 B)\n",
       "</pre>\n"
      ],
      "text/plain": [
       "\u001b[1m Non-trainable params: \u001b[0m\u001b[38;5;34m0\u001b[0m (0.00 B)\n"
      ]
     },
     "metadata": {},
     "output_type": "display_data"
    }
   ],
   "source": [
    "# poisson_model = MPScrModel(log_a_poisson, log_phi_poisson, C_poisson, C_inv_poisson, sup_poisson)\n",
    "# poisson_model.define_structure(shape_input = x_train[0].shape)\n",
    "# poisson_model.summary()"
   ]
  },
  {
   "cell_type": "markdown",
   "id": "d67d9a37-c38f-454b-83a3-0d6893337b0b",
   "metadata": {},
   "source": [
    "# Treinamento do modelo"
   ]
  },
  {
   "cell_type": "code",
   "execution_count": 10,
   "id": "fd2abed4-f8b3-4d42-9c32-295b94e86dbc",
   "metadata": {},
   "outputs": [
    {
     "name": "stdout",
     "output_type": "stream",
     "text": [
      "alpha0: [1. 1. 1. 1. 1. 1.]\n",
      "cuts: [ 0.     2.062  3.36   4.495  6.32  12.2  ]\n"
     ]
    }
   ],
   "source": [
    "# alpha0, s_t = initialize_alpha_s(t_train, n_cuts = 5)\n",
    "# s_t = np.array([0.0, 2.062, 3.36, 4.495, 6.32, 12.2])\n",
    "\n",
    "# print(\"alpha0: {}\".format(alpha0))\n",
    "# print(\"cuts: {}\".format(s_t))"
   ]
  },
  {
   "cell_type": "code",
   "execution_count": 7,
   "id": "4a26d532-45c4-46e5-9a17-e4534546628e",
   "metadata": {},
   "outputs": [
    {
     "name": "stderr",
     "output_type": "stream",
     "text": [
      "WARNING: All log messages before absl::InitializeLog() is called are written to STDERR\n",
      "E0000 00:00:1740167380.042539   34490 cuda_dnn.cc:8310] Unable to register cuDNN factory: Attempting to register factory for plugin cuDNN when one has already been registered\n",
      "E0000 00:00:1740167380.045998   34490 cuda_blas.cc:1418] Unable to register cuBLAS factory: Attempting to register factory for plugin cuBLAS when one has already been registered\n",
      "I0000 00:00:1740167382.163304   34490 gpu_device.cc:2022] Created device /job:localhost/replica:0/task:0/device:GPU:0 with 3972 MB memory:  -> device: 0, name: NVIDIA GeForce RTX 3050 6GB Laptop GPU, pci bus id: 0000:01:00.0, compute capability: 8.6\n",
      "I0000 00:00:1740167382.281382   34490 gpu_device.cc:2022] Created device /job:localhost/replica:0/task:0/device:GPU:0 with 3972 MB memory:  -> device: 0, name: NVIDIA GeForce RTX 3050 6GB Laptop GPU, pci bus id: 0000:01:00.0, compute capability: 8.6\n",
      "/home/natan/.pyenv/versions/3.10.16/lib/python3.10/site-packages/keras/src/layers/convolutional/base_conv.py:107: UserWarning: Do not pass an `input_shape`/`input_dim` argument to a layer. When using Sequential models, prefer using an `Input(shape)` object as the first layer in the model instead.\n",
      "  super().__init__(activity_regularizer=activity_regularizer, **kwargs)\n",
      "I0000 00:00:1740167382.889132   34490 cuda_dnn.cc:529] Loaded cuDNN version 90300\n"
     ]
    },
    {
     "name": "stdout",
     "output_type": "stream",
     "text": [
      "Iniciando passo 1\n"
     ]
    },
    {
     "name": "stderr",
     "output_type": "stream",
     "text": [
      "WARNING: All log messages before absl::InitializeLog() is called are written to STDERR\n",
      "I0000 00:00:1740167384.156896   34562 service.cc:148] XLA service 0x7c2534005220 initialized for platform CUDA (this does not guarantee that XLA will be used). Devices:\n",
      "I0000 00:00:1740167384.156954   34562 service.cc:156]   StreamExecutor device (0): NVIDIA GeForce RTX 3050 6GB Laptop GPU, Compute Capability 8.6\n",
      "I0000 00:00:1740167388.091052   34562 device_compiler.h:188] Compiled cluster using XLA!  This line is logged at most once for the lifetime of the process.\n",
      " 16%|█▌        | 16/100 [00:10<00:54,  1.55epoch/s, loss=0.419, loss_val=0.537]\n"
     ]
    },
    {
     "name": "stdout",
     "output_type": "stream",
     "text": [
      "Iniciando treinamento:\n",
      "Tamanho da amostra de treino: 280\n",
      "Tamanho da amostra de validação: 72\n",
      "Distância Parâmetros Rede Neural: 5.9907080490142555e-06\n",
      "Distância Parâmetros Alpha: 0.39179786441162995\n",
      "Média das distâncias: 0.19590192755983948\n",
      "Iniciando passo 2\n"
     ]
    },
    {
     "name": "stderr",
     "output_type": "stream",
     "text": [
      "  7%|▋         | 7/100 [00:03<00:47,  1.96epoch/s, loss=0.515, loss_val=0.616]\n"
     ]
    },
    {
     "name": "stdout",
     "output_type": "stream",
     "text": [
      "Iniciando treinamento:\n",
      "Tamanho da amostra de treino: 280\n",
      "Tamanho da amostra de validação: 72\n",
      "Distância Parâmetros Rede Neural: 1.6544040607754863e-06\n",
      "Distância Parâmetros Alpha: 0.0021952056642063292\n",
      "Média das distâncias: 0.0010984300341335524\n",
      "Iniciando passo 3\n"
     ]
    },
    {
     "name": "stderr",
     "output_type": "stream",
     "text": [
      "  8%|▊         | 8/100 [00:04<00:50,  1.84epoch/s, loss=0.671, loss_val=0.696]\n"
     ]
    },
    {
     "name": "stdout",
     "output_type": "stream",
     "text": [
      "Iniciando treinamento:\n",
      "Tamanho da amostra de treino: 280\n",
      "Tamanho da amostra de validação: 72\n",
      "Distância Parâmetros Rede Neural: 5.798723802763154e-06\n",
      "Distância Parâmetros Alpha: 0.0022763340992361185\n",
      "Média das distâncias: 0.0011410664115194407\n",
      "Iniciando passo 4\n"
     ]
    },
    {
     "name": "stderr",
     "output_type": "stream",
     "text": [
      " 15%|█▌        | 15/100 [00:05<00:30,  2.76epoch/s, loss=0.625, loss_val=0.767]\n"
     ]
    },
    {
     "name": "stdout",
     "output_type": "stream",
     "text": [
      "Iniciando treinamento:\n",
      "Tamanho da amostra de treino: 280\n",
      "Tamanho da amostra de validação: 72\n",
      "Distância Parâmetros Rede Neural: 4.377449548056619e-06\n",
      "Distância Parâmetros Alpha: 0.0034976152959809493\n",
      "Média das distâncias: 0.001750996372764503\n",
      "Iniciando passo 5\n"
     ]
    },
    {
     "name": "stderr",
     "output_type": "stream",
     "text": [
      " 14%|█▍        | 14/100 [00:05<00:31,  2.75epoch/s, loss=0.612, loss_val=0.757]\n"
     ]
    },
    {
     "name": "stdout",
     "output_type": "stream",
     "text": [
      "Iniciando treinamento:\n",
      "Tamanho da amostra de treino: 280\n",
      "Tamanho da amostra de validação: 72\n",
      "Distância Parâmetros Rede Neural: 5.269935436951904e-06\n",
      "Distância Parâmetros Alpha: 0.0007512567945016673\n",
      "Média das distâncias: 0.0003782633649693096\n",
      "Iniciando passo 6\n"
     ]
    },
    {
     "name": "stderr",
     "output_type": "stream",
     "text": [
      " 10%|█         | 10/100 [00:04<00:37,  2.40epoch/s, loss=0.767, loss_val=0.785]\n"
     ]
    },
    {
     "name": "stdout",
     "output_type": "stream",
     "text": [
      "Iniciando treinamento:\n",
      "Tamanho da amostra de treino: 280\n",
      "Tamanho da amostra de validação: 72\n",
      "Distância Parâmetros Rede Neural: 4.168280003032721e-06\n",
      "Distância Parâmetros Alpha: 0.0004664446249852689\n",
      "Média das distâncias: 0.0002353064524941508\n",
      "Iniciando passo 7\n"
     ]
    },
    {
     "name": "stderr",
     "output_type": "stream",
     "text": [
      "  6%|▌         | 6/100 [00:03<00:55,  1.70epoch/s, loss=0.81, loss_val=0.801] \n"
     ]
    },
    {
     "name": "stdout",
     "output_type": "stream",
     "text": [
      "Iniciando treinamento:\n",
      "Tamanho da amostra de treino: 280\n",
      "Tamanho da amostra de validação: 72\n",
      "Distância Parâmetros Rede Neural: 6.712155272813652e-07\n",
      "Distância Parâmetros Alpha: 0.0005271433021557952\n",
      "Média das distâncias: 0.0002639072588415383\n",
      "Iniciando passo 8\n"
     ]
    },
    {
     "name": "stderr",
     "output_type": "stream",
     "text": [
      " 13%|█▎        | 13/100 [00:04<00:32,  2.65epoch/s, loss=0.72, loss_val=0.824] \n"
     ]
    },
    {
     "name": "stdout",
     "output_type": "stream",
     "text": [
      "Iniciando treinamento:\n",
      "Tamanho da amostra de treino: 280\n",
      "Tamanho da amostra de validação: 72\n",
      "Distância Parâmetros Rede Neural: 4.593785342232322e-06\n",
      "Distância Parâmetros Alpha: 0.0005474321960453804\n",
      "Média das distâncias: 0.00027601299069380635\n",
      "Iniciando passo 9\n"
     ]
    },
    {
     "name": "stderr",
     "output_type": "stream",
     "text": [
      "  6%|▌         | 6/100 [00:03<00:53,  1.77epoch/s, loss=0.892, loss_val=0.819]\n"
     ]
    },
    {
     "name": "stdout",
     "output_type": "stream",
     "text": [
      "Iniciando treinamento:\n",
      "Tamanho da amostra de treino: 280\n",
      "Tamanho da amostra de validação: 72\n",
      "Distância Parâmetros Rede Neural: 8.314671835135164e-07\n",
      "Distância Parâmetros Alpha: 8.032140131643128e-05\n",
      "Média das distâncias: 4.05764342499724e-05\n",
      "Iniciando passo 10\n"
     ]
    },
    {
     "name": "stderr",
     "output_type": "stream",
     "text": [
      "  8%|▊         | 8/100 [00:03<00:44,  2.07epoch/s, loss=0.847, loss_val=0.84] \n"
     ]
    },
    {
     "name": "stdout",
     "output_type": "stream",
     "text": [
      "Iniciando treinamento:\n",
      "Tamanho da amostra de treino: 280\n",
      "Tamanho da amostra de validação: 72\n",
      "Distância Parâmetros Rede Neural: 3.5305046105011237e-06\n",
      "Distância Parâmetros Alpha: 0.00024024852448425494\n",
      "Média das distâncias: 0.00012188951454737804\n",
      "Learning rate reduzida para 0.0001\n",
      "Iniciando passo 11\n"
     ]
    },
    {
     "name": "stderr",
     "output_type": "stream",
     "text": [
      "  6%|▌         | 6/100 [00:03<00:52,  1.79epoch/s, loss=0.9, loss_val=0.835]  \n"
     ]
    },
    {
     "name": "stdout",
     "output_type": "stream",
     "text": [
      "Iniciando treinamento:\n",
      "Tamanho da amostra de treino: 280\n",
      "Tamanho da amostra de validação: 72\n",
      "Distância Parâmetros Rede Neural: 3.0880400341875286e-09\n",
      "Distância Parâmetros Alpha: 4.858227446713989e-05\n",
      "Média das distâncias: 2.4292681253587038e-05\n",
      "Iniciando passo 12\n"
     ]
    },
    {
     "name": "stderr",
     "output_type": "stream",
     "text": [
      "  9%|▉         | 9/100 [00:04<00:40,  2.24epoch/s, loss=0.815, loss_val=0.84] \n"
     ]
    },
    {
     "name": "stdout",
     "output_type": "stream",
     "text": [
      "Iniciando treinamento:\n",
      "Tamanho da amostra de treino: 280\n",
      "Tamanho da amostra de validação: 72\n",
      "Distância Parâmetros Rede Neural: 1.275090419037877e-07\n",
      "Distância Parâmetros Alpha: 2.0322399984071427e-05\n",
      "Média das distâncias: 1.0224954512987607e-05\n",
      "Iniciando passo 13\n"
     ]
    },
    {
     "name": "stderr",
     "output_type": "stream",
     "text": [
      "  7%|▋         | 7/100 [00:03<00:48,  1.93epoch/s, loss=0.883, loss_val=0.852]\n"
     ]
    },
    {
     "name": "stdout",
     "output_type": "stream",
     "text": [
      "Iniciando treinamento:\n",
      "Tamanho da amostra de treino: 280\n",
      "Tamanho da amostra de validação: 72\n",
      "Distância Parâmetros Rede Neural: 3.539992801568851e-08\n",
      "Distância Parâmetros Alpha: 2.637743042722119e-05\n",
      "Média das distâncias: 1.3206415177618439e-05\n",
      "Iniciando passo 14\n"
     ]
    },
    {
     "name": "stderr",
     "output_type": "stream",
     "text": [
      "  7%|▋         | 7/100 [00:03<00:47,  1.95epoch/s, loss=0.806, loss_val=0.863]\n"
     ]
    },
    {
     "name": "stdout",
     "output_type": "stream",
     "text": [
      "Iniciando treinamento:\n",
      "Tamanho da amostra de treino: 280\n",
      "Tamanho da amostra de validação: 72\n",
      "Distância Parâmetros Rede Neural: 4.840132385541297e-08\n",
      "Distância Parâmetros Alpha: 3.1573223358184125e-05\n",
      "Média das distâncias: 1.5810812341019768e-05\n",
      "Iniciando passo 15\n"
     ]
    },
    {
     "name": "stderr",
     "output_type": "stream",
     "text": [
      "  6%|▌         | 6/100 [00:03<00:54,  1.74epoch/s, loss=0.866, loss_val=0.865]\n"
     ]
    },
    {
     "name": "stdout",
     "output_type": "stream",
     "text": [
      "Iniciando treinamento:\n",
      "Tamanho da amostra de treino: 280\n",
      "Tamanho da amostra de validação: 72\n",
      "Distância Parâmetros Rede Neural: 7.567414450576242e-09\n",
      "Distância Parâmetros Alpha: 7.10471738757976e-06\n",
      "Média das distâncias: 3.556142401015168e-06\n",
      "Iniciando passo 16\n"
     ]
    },
    {
     "name": "stderr",
     "output_type": "stream",
     "text": [
      "  6%|▌         | 6/100 [00:03<00:54,  1.73epoch/s, loss=0.744, loss_val=0.861]\n"
     ]
    },
    {
     "name": "stdout",
     "output_type": "stream",
     "text": [
      "Iniciando treinamento:\n",
      "Tamanho da amostra de treino: 280\n",
      "Tamanho da amostra de validação: 72\n",
      "Distância Parâmetros Rede Neural: 3.985261298856721e-09\n",
      "Distância Parâmetros Alpha: 2.2991384524602244e-07\n",
      "Média das distâncias: 1.1694955327243958e-07\n",
      "Algoritmo convergiu após 16 iterações. Retornando.\n"
     ]
    },
    {
     "name": "stderr",
     "output_type": "stream",
     "text": [
      "/home/natan/.pyenv/versions/3.10.16/lib/python3.10/site-packages/keras/src/layers/convolutional/base_conv.py:107: UserWarning: Do not pass an `input_shape`/`input_dim` argument to a layer. When using Sequential models, prefer using an `Input(shape)` object as the first layer in the model instead.\n",
      "  super().__init__(activity_regularizer=activity_regularizer, **kwargs)\n"
     ]
    },
    {
     "name": "stdout",
     "output_type": "stream",
     "text": [
      "Número de arquivos no diretório: 16\n"
     ]
    }
   ],
   "source": [
    "# # alpha_xie = np.array([0.028723076, 0.048700187, 0.10390695, 0.16946955, 0.5868493, 1.0])\n",
    "# # alpha0 = alpha_xie.copy()\n",
    "\n",
    "# set_all_seeds(10)\n",
    "# poisson_model = MPScrModel(log_a_poisson, log_phi_poisson, C_poisson, C_inv_poisson, sup_poisson)\n",
    "# poisson_model.define_structure(shape_input = x_train[0].shape)\n",
    "# # print(img_model_poisson.get_weights()[0][0])\n",
    "# # print(img_model_poisson.predict(x_train, verbose = False).flatten())\n",
    "\n",
    "# results = call_EM(\"EM.py\",\n",
    "#                   log_a_poisson_str, log_phi_poisson_str, C_poisson_str, C_inv_poisson_str, B_poisson_str, sup_poisson_str,\n",
    "#                   poisson_model, alpha0, s_t,\n",
    "#                   x_train, t_train, delta_train, delta_train,\n",
    "#                   max_iterations = 60,\n",
    "#                   early_stopping_em = True, early_stopping_em_warmup = 5, early_stopping_em_eps = 1.0e-6,\n",
    "#                   epochs = 100, batch_size = 64, shuffle = True,\n",
    "#                   learning_rate = 0.001, run_eagerly = False,\n",
    "#                   early_stopping_nn = True, early_stopping_min_delta_nn = 0.0, early_stopping_patience_nn = 5,\n",
    "#                   reduce_lr = True, reduce_lr_steps = 10, reduce_lr_factor = 0.1,\n",
    "#                   validation = True,\n",
    "#                   x_val = x_test, t_val = t_test, delta_val = delta_test, m_val = delta_test,\n",
    "#                   verbose = 3, alpha_known = False)"
   ]
  },
  {
   "cell_type": "code",
   "execution_count": 10,
   "id": "266e6718-8694-46b3-9d89-c1d45b064bd5",
   "metadata": {},
   "outputs": [
    {
     "name": "stdout",
     "output_type": "stream",
     "text": [
      "alpha estimado: [0.0416439  0.0773185  0.11681997 0.11095238 0.16378548 1.        ]\n",
      "alpha xie: [0.01570256 0.04739518 0.09240146 0.13731525 0.43543998 1.        ]\n"
     ]
    },
    {
     "data": {
      "image/png": "[encoded data removed]",
      "text/plain": [
       "<Figure size 1200x600 with 1 Axes>"
      ]
     },
     "metadata": {},
     "output_type": "display_data"
    }
   ],
   "source": [
    "tv = np.arange(0, s_t[-1], 0.1)\n",
    "S1v = S1(tv, results[\"alpha_history\"][-1], s_t)\n",
    "\n",
    "alpha_xie = np.array([0.01570256, 0.04739518, 0.09240146, 0.13731525, 0.43543998, 1.])\n",
    "S1v_xie = S1(tv, alpha_xie, s_t)\n",
    "\n",
    "print(\"alpha estimado: {}\".format(results[\"alpha_history\"][-1]))\n",
    "print(\"alpha xie: {}\".format(alpha_xie))\n",
    "\n",
    "fig, ax = plt.subplots(figsize = (12, 6))\n",
    "plt.plot(tv, S1v)\n",
    "plt.plot(tv, S1v_xie)\n",
    "plt.axhline(0.6, color = \"black\")\n",
    "plt.axvline(6, color = \"black\")\n",
    "plt.grid()\n",
    "plt.show()"
   ]
  },
  {
   "cell_type": "code",
   "execution_count": 9,
   "id": "6e22a2fa-b25b-4adc-b48f-0353b3c3d076",
   "metadata": {},
   "outputs": [
    {
     "data": {
      "image/png": "[encoded data removed]",
      "text/plain": [
       "<Figure size 640x480 with 1 Axes>"
      ]
     },
     "metadata": {},
     "output_type": "display_data"
    }
   ],
   "source": [
    "plt.hist(results[\"m_history\"][-1], edgecolor = \"black\")\n",
    "plt.show()"
   ]
  },
  {
   "cell_type": "markdown",
   "id": "d98bdb0d-a68a-4abe-bd3a-eaead64902d5",
   "metadata": {},
   "source": [
    "# Simulação"
   ]
  },
  {
   "cell_type": "code",
   "execution_count": 3,
   "id": "095a629a-d6d1-48be-9495-f804c6d19bf1",
   "metadata": {},
   "outputs": [],
   "source": [
    "fashion_mnist = tf.keras.datasets.fashion_mnist\n",
    "(train_images, train_labels), (test_images, test_labels) = fashion_mnist.load_data()\n",
    "\n",
    "i_valid_train = pd.Series(train_labels).isin([0,1,2,3,4]).to_numpy()\n",
    "i_valid_test = pd.Series(test_labels).isin([0,1,2,3,4]).to_numpy()\n",
    "\n",
    "# Filters to take only the images with labels in [0, 1, 2, 3, 4]\n",
    "train_images = train_images[i_valid_train]\n",
    "train_images = train_images / np.max(train_images)\n",
    "train_shape = train_images.shape\n",
    "# Adds one more dimension for keras to identify the \"colors\" dimension\n",
    "train_images = np.reshape(train_images, (train_shape[0], train_shape[1], train_shape[2], 1))\n",
    "\n",
    "test_images = test_images[i_valid_test]\n",
    "test_images = test_images / np.max(test_images)\n",
    "test_shape = test_images.shape\n",
    "# Adds one more dimension for keras to identify the \"colors\" dimension\n",
    "test_images = np.reshape(test_images, (test_shape[0], test_shape[1], test_shape[2], 1))\n",
    "\n",
    "train_labels = train_labels[i_valid_train]\n",
    "test_labels = test_labels[i_valid_test]"
   ]
  },
  {
   "cell_type": "code",
   "execution_count": 4,
   "id": "e2e77af7-f43d-47b1-8771-d7b162b89d7e",
   "metadata": {},
   "outputs": [],
   "source": [
    "def load_file(data_dir, file_index, distribution, train_images, test_images):\n",
    "    '''\n",
    "        Example:\n",
    "            data_dir = \"SimulationDataset/Scenario1/n500\"\n",
    "            file_index = 20\n",
    "            distribution = \"poisson\"\n",
    "    '''\n",
    "    index_path = \"{}/indices_{}.csv\".format(data_dir, file_index, distribution)\n",
    "    data_path = \"{}/{}/data_{}.csv\".format(data_dir, distribution, file_index)\n",
    "    df_index = pd.read_csv(index_path)\n",
    "    df_data = pd.read_csv(data_path)\n",
    "\n",
    "    index_train = df_index.loc[df_index.set == \"train\",\"index\"].to_numpy()\n",
    "    index_val = df_index.loc[df_index.set == \"val\",\"index\"].to_numpy()\n",
    "    index_test = df_index.loc[df_index.set == \"test\",\"index\"].to_numpy()\n",
    "\n",
    "    # Values for the thetas\n",
    "    theta_train = df_data.loc[df_data.set == \"train\", \"theta\"]\n",
    "    theta_val = df_data.loc[df_data.set == \"val\", \"theta\"]\n",
    "    theta_test = df_data.loc[df_data.set == \"test\", \"theta\"]\n",
    "    # Values for the latent variable\n",
    "    m_train = df_data.loc[df_data.set == \"train\", \"m\"]\n",
    "    m_val = df_data.loc[df_data.set == \"val\", \"m\"]\n",
    "    m_test = df_data.loc[df_data.set == \"test\", \"m\"]\n",
    "    # Values for the time variable\n",
    "    t_train = df_data.loc[df_data.set == \"train\", \"t\"]\n",
    "    t_val = df_data.loc[df_data.set == \"val\", \"t\"]\n",
    "    t_test = df_data.loc[df_data.set == \"test\", \"t\"]\n",
    "    # Values for the censorship indicators\n",
    "    delta_train = df_data.loc[df_data.set == \"train\", \"delta\"]\n",
    "    delta_val = df_data.loc[df_data.set == \"val\", \"delta\"]\n",
    "    delta_test = df_data.loc[df_data.set == \"test\", \"delta\"]\n",
    "\n",
    "    img_train = train_images[index_train,:,:]\n",
    "    img_val = train_images[index_val,:,:]\n",
    "    img_test = test_images[index_test,:,:]\n",
    "\n",
    "    result = {\n",
    "        \"theta_train\": theta_train, \"theta_val\": theta_val, \"theta_test\": theta_test,\n",
    "        \"m_train\": m_train, \"m_val\": m_val, \"m_test\": m_test,\n",
    "        \"t_train\": t_train, \"t_val\": t_val, \"t_test\": t_test,\n",
    "        \"delta_train\": delta_train, \"delta_val\": delta_val, \"delta_test\": delta_test,\n",
    "        \"img_train\": img_train, \"img_val\": img_val, \"img_test\": img_test,\n",
    "        \"index_train\": index_train, \"index_val\": index_val, \"index_test\": index_test\n",
    "    }\n",
    "    \n",
    "    return result"
   ]
  },
  {
   "cell_type": "code",
   "execution_count": 5,
   "id": "bdebeceb-cde9-443d-a553-465190fce419",
   "metadata": {},
   "outputs": [
    {
     "name": "stdout",
     "output_type": "stream",
     "text": [
      "Creating directories structure\n"
     ]
    }
   ],
   "source": [
    "import os, shutil\n",
    "from pathlib import Path\n",
    "\n",
    "print(\"Creating directories structure\")\n",
    "dists_scenario1 = [\"poisson\", \"logarithmic\", \"geometric\", \"mvnb2\", \"bernoulli\", \"bin5\"]\n",
    "dists_scenario2 = [\"borel\", \"rgp2\", \"rgp10\", \"haight\", \"geeta3\"]\n",
    "for dist in dists_scenario1:\n",
    "    Path(\"SimulationResults/Scenario1/n500/{}\".format(dist)).mkdir(parents=True, exist_ok=True)\n",
    "    Path(\"SimulationResults/Scenario1/n1000/{}\".format(dist)).mkdir(parents=True, exist_ok=True)\n",
    "    Path(\"SimulationResults/Scenario1/n3000/{}\".format(dist)).mkdir(parents=True, exist_ok=True)\n",
    "for dist in dists_scenario2:\n",
    "    Path(\"SimulationResults/Scenario2/n500/{}\".format(dist)).mkdir(parents=True, exist_ok=True)\n",
    "    Path(\"SimulationResults/Scenario2/n1000/{}\".format(dist)).mkdir(parents=True, exist_ok=True)\n",
    "    Path(\"SimulationResults/Scenario2/n3000/{}\".format(dist)).mkdir(parents=True, exist_ok=True)"
   ]
  },
  {
   "cell_type": "code",
   "execution_count": 38,
   "id": "968f742b-3273-4cbf-af58-ec5dca01448a",
   "metadata": {},
   "outputs": [],
   "source": [
    "def fit_simulation(distribution,\n",
    "                   t_train, t_val,\n",
    "                   delta_train, delta_val,\n",
    "                   img_train, img_val,\n",
    "                   q = None,\n",
    "                   batch_size = None,\n",
    "                   seed = 1):\n",
    "    set_all_seeds(seed)\n",
    "    \n",
    "    alpha0, s_t = initialize_alpha_s(t_train, n_cuts = 5)\n",
    "    \n",
    "    if(distribution == \"poisson\"):\n",
    "        log_a_tf = log_a_poisson_tf\n",
    "        log_phi_tf = log_phi_poisson_tf\n",
    "        C_tf = C_poisson_tf\n",
    "        C_inv_tf = C_inv_poisson_tf\n",
    "        sup = sup_poisson\n",
    "        \n",
    "        log_a_str = log_a_poisson_str\n",
    "        log_phi_str = log_phi_poisson_str\n",
    "        C_str = C_poisson_str\n",
    "        C_inv_str = C_inv_poisson_str\n",
    "        sup_str = sup_poisson_str\n",
    "        B_str = \"10001\"\n",
    "    elif(distribution == \"logarithmic\"):\n",
    "        log_a_tf = log_a_log_tf\n",
    "        \n",
    "        log_phi_tf = log_phi_log_tf\n",
    "        C_tf = C_log_tf\n",
    "        C_inv_tf = C_inv_log_tf\n",
    "        sup = sup_log\n",
    "        \n",
    "        log_a_str = log_a_log_str\n",
    "        log_phi_str = log_phi_log_str\n",
    "        C_str = C_log_str\n",
    "        C_inv_str = C_inv_log_str\n",
    "        sup_str = sup_log_str\n",
    "        B_str = \"10001\"\n",
    "    elif(distribution == \"nb\"):\n",
    "        if(q is None):\n",
    "            raise(\"Please, specify the fixed parameter (q) for the distribution.\")\n",
    "        log_a_tf = log_a_mvnb_tf\n",
    "        log_phi_tf = log_phi_mvnb_tf\n",
    "        C_tf = C_mvnb_tf\n",
    "        C_inv_tf = C_inv_mvnb_tf\n",
    "        sup = sup_mvnb\n",
    "        \n",
    "        log_a_str = log_a_log_str\n",
    "        log_phi_str = log_phi_log_str\n",
    "        C_str = C_log_str\n",
    "        C_inv_str = C_inv_log_str\n",
    "        sup_str = sup_log_str\n",
    "        B_str = \"10001\"\n",
    "        \n",
    "    mps_model = MPScrModel(log_a_tf, log_phi_tf, C_tf, C_inv_tf, sup)\n",
    "    mps_model.define_structure(shape_input = img_train[0].shape)\n",
    "\n",
    "    # If batch_size is null, use just one big batch\n",
    "    if(batch_size is None):\n",
    "        batch_size = len(t_train)\n",
    "    \n",
    "    results = call_EM(\"EM.py\",\n",
    "                      log_a_str, log_phi_str, C_str, C_inv_str, B_str, sup_str,\n",
    "                      mps_model, alpha0, s_t,\n",
    "                      img_train, t_train, delta_train, delta_train,\n",
    "                      max_iterations = 60,\n",
    "                      early_stopping_em = True, early_stopping_em_warmup = 5, early_stopping_em_eps = 1.0e-6,\n",
    "                      epochs = 100, batch_size = 64, shuffle = True,\n",
    "                      learning_rate = 0.001, run_eagerly = True,\n",
    "                      early_stopping_nn = True, early_stopping_min_delta_nn = 0.0, early_stopping_patience_nn = 5,\n",
    "                      reduce_lr = True, reduce_lr_steps = 10, reduce_lr_factor = 0.1,\n",
    "                      validation = True,\n",
    "                      x_val = img_val, t_val = t_val, delta_val = delta_val, m_val = delta_val,\n",
    "                      verbose = 3, alpha_known = False)\n",
    "    return results"
   ]
  },
  {
   "cell_type": "code",
   "execution_count": 7,
   "id": "7b373fe8-fda6-481a-958d-b6fb9dac9b0b",
   "metadata": {},
   "outputs": [],
   "source": [
    "fake_file_info = {\n",
    "    'theta_train': None,\n",
    "    'theta_val': None,\n",
    "    'theta_test': None,\n",
    "    'm_train': None,\n",
    "    'm_val': None,\n",
    "    'm_test': None,\n",
    "    't_train': t_train,\n",
    "    't_val': t_test,\n",
    "    't_test': t_test,\n",
    "    'delta_train': delta_train,\n",
    "    'delta_val': delta_test,\n",
    "    'delta_test': delta_test,\n",
    "    'img_train': x_train,\n",
    "    'img_val': x_test,\n",
    "    'img_test': x_test,\n",
    "    'index_train': None,\n",
    "    'index_val': None,\n",
    "    'index_test': None\n",
    "}"
   ]
  },
  {
   "cell_type": "code",
   "execution_count": 8,
   "id": "54355e2e-9901-4c0b-a450-e801e2167749",
   "metadata": {},
   "outputs": [
    {
     "name": "stdout",
     "output_type": "stream",
     "text": [
      "[ 0.          3.18191781  4.9769863   7.06246575  9.13643836 12.11780822]\n"
     ]
    },
    {
     "name": "stderr",
     "output_type": "stream",
     "text": [
      "/home/natan/.pyenv/versions/3.10.16/lib/python3.10/site-packages/keras/src/layers/convolutional/base_conv.py:107: UserWarning: Do not pass an `input_shape`/`input_dim` argument to a layer. When using Sequential models, prefer using an `Input(shape)` object as the first layer in the model instead.\n",
      "  super().__init__(activity_regularizer=activity_regularizer, **kwargs)\n",
      "I0000 00:00:1740168208.052226   58498 gpu_device.cc:2022] Created device /job:localhost/replica:0/task:0/device:GPU:0 with 4203 MB memory:  -> device: 0, name: NVIDIA GeForce RTX 3050 6GB Laptop GPU, pci bus id: 0000:01:00.0, compute capability: 8.6\n",
      "I0000 00:00:1740168208.581582   58498 cuda_dnn.cc:529] Loaded cuDNN version 90300\n",
      "WARNING: All log messages before absl::InitializeLog() is called are written to STDERR\n",
      "E0000 00:00:1740168209.543126   58623 cuda_dnn.cc:8310] Unable to register cuDNN factory: Attempting to register factory for plugin cuDNN when one has already been registered\n",
      "E0000 00:00:1740168209.546727   58623 cuda_blas.cc:1418] Unable to register cuBLAS factory: Attempting to register factory for plugin cuBLAS when one has already been registered\n",
      "I0000 00:00:1740168211.665779   58623 gpu_device.cc:2022] Created device /job:localhost/replica:0/task:0/device:GPU:0 with 3972 MB memory:  -> device: 0, name: NVIDIA GeForce RTX 3050 6GB Laptop GPU, pci bus id: 0000:01:00.0, compute capability: 8.6\n",
      "I0000 00:00:1740168211.786505   58623 gpu_device.cc:2022] Created device /job:localhost/replica:0/task:0/device:GPU:0 with 3972 MB memory:  -> device: 0, name: NVIDIA GeForce RTX 3050 6GB Laptop GPU, pci bus id: 0000:01:00.0, compute capability: 8.6\n",
      "/home/natan/.pyenv/versions/3.10.16/lib/python3.10/site-packages/keras/src/layers/convolutional/base_conv.py:107: UserWarning: Do not pass an `input_shape`/`input_dim` argument to a layer. When using Sequential models, prefer using an `Input(shape)` object as the first layer in the model instead.\n",
      "  super().__init__(activity_regularizer=activity_regularizer, **kwargs)\n",
      "I0000 00:00:1740168212.443657   58623 cuda_dnn.cc:529] Loaded cuDNN version 90300\n"
     ]
    },
    {
     "name": "stdout",
     "output_type": "stream",
     "text": [
      "Iniciando passo 1\n"
     ]
    },
    {
     "name": "stderr",
     "output_type": "stream",
     "text": [
      "  6%|▌         | 6/100 [00:06<01:49,  1.16s/epoch, loss=0.619, loss_val=0.516]\n"
     ]
    },
    {
     "name": "stdout",
     "output_type": "stream",
     "text": [
      "Iniciando treinamento:\n",
      "Tamanho da amostra de treino: 280\n",
      "Tamanho da amostra de validação: 72\n",
      "Distância Parâmetros Rede Neural: 7.465551459531171e-06\n",
      "Distância Parâmetros Alpha: 0.39179786441162995\n",
      "Média das distâncias: 0.19590266498154474\n",
      "Iniciando passo 2\n"
     ]
    },
    {
     "name": "stderr",
     "output_type": "stream",
     "text": [
      "  9%|▉         | 9/100 [00:02<00:29,  3.13epoch/s, loss=0.485, loss_val=0.53] \n"
     ]
    },
    {
     "name": "stdout",
     "output_type": "stream",
     "text": [
      "Iniciando treinamento:\n",
      "Tamanho da amostra de treino: 280\n",
      "Tamanho da amostra de validação: 72\n",
      "Distância Parâmetros Rede Neural: 1.725458423316999e-06\n",
      "Distância Parâmetros Alpha: 7.067763709093147e-05\n",
      "Média das distâncias: 3.620154775712423e-05\n",
      "Iniciando passo 3\n"
     ]
    },
    {
     "name": "stderr",
     "output_type": "stream",
     "text": [
      "  7%|▋         | 7/100 [00:02<00:29,  3.15epoch/s, loss=0.655, loss_val=0.629]\n"
     ]
    },
    {
     "name": "stdout",
     "output_type": "stream",
     "text": [
      "Iniciando treinamento:\n",
      "Tamanho da amostra de treino: 280\n",
      "Tamanho da amostra de validação: 72\n",
      "Distância Parâmetros Rede Neural: 3.4073414922714043e-07\n",
      "Distância Parâmetros Alpha: 0.0020994030964094934\n",
      "Média das distâncias: 0.0010498719152793603\n",
      "Iniciando passo 4\n"
     ]
    },
    {
     "name": "stderr",
     "output_type": "stream",
     "text": [
      "  7%|▋         | 7/100 [00:02<00:29,  3.12epoch/s, loss=0.639, loss_val=0.665]\n"
     ]
    },
    {
     "name": "stdout",
     "output_type": "stream",
     "text": [
      "Iniciando treinamento:\n",
      "Tamanho da amostra de treino: 280\n",
      "Tamanho da amostra de validação: 72\n",
      "Distância Parâmetros Rede Neural: 6.318434215649649e-07\n",
      "Distância Parâmetros Alpha: 0.0009045677011126608\n",
      "Média das distâncias: 0.00045259977226711287\n",
      "Iniciando passo 5\n"
     ]
    },
    {
     "name": "stderr",
     "output_type": "stream",
     "text": [
      " 12%|█▏        | 12/100 [00:03<00:27,  3.15epoch/s, loss=0.568, loss_val=0.757]\n"
     ]
    },
    {
     "name": "stdout",
     "output_type": "stream",
     "text": [
      "Iniciando treinamento:\n",
      "Tamanho da amostra de treino: 280\n",
      "Tamanho da amostra de validação: 72\n",
      "Distância Parâmetros Rede Neural: 1.8080761274559676e-06\n",
      "Distância Parâmetros Alpha: 0.0031466037067331165\n",
      "Média das distâncias: 0.0015742058914302863\n",
      "Iniciando passo 6\n"
     ]
    },
    {
     "name": "stderr",
     "output_type": "stream",
     "text": [
      " 24%|██▍       | 24/100 [00:07<00:24,  3.13epoch/s, loss=0.635, loss_val=0.762]\n"
     ]
    },
    {
     "name": "stdout",
     "output_type": "stream",
     "text": [
      "Iniciando treinamento:\n",
      "Tamanho da amostra de treino: 280\n",
      "Tamanho da amostra de validação: 72\n",
      "Distância Parâmetros Rede Neural: 2.107563363120754e-05\n",
      "Distância Parâmetros Alpha: 0.0007595890055129015\n",
      "Média das distâncias: 0.00039033231957205454\n",
      "Iniciando passo 7\n"
     ]
    },
    {
     "name": "stderr",
     "output_type": "stream",
     "text": [
      "  6%|▌         | 6/100 [00:01<00:29,  3.15epoch/s, loss=0.603, loss_val=0.775]\n"
     ]
    },
    {
     "name": "stdout",
     "output_type": "stream",
     "text": [
      "Iniciando treinamento:\n",
      "Tamanho da amostra de treino: 280\n",
      "Tamanho da amostra de validação: 72\n",
      "Distância Parâmetros Rede Neural: 2.346075230756216e-06\n",
      "Distância Parâmetros Alpha: 0.00025188113005481633\n",
      "Média das distâncias: 0.00012711360264278627\n",
      "Iniciando passo 8\n"
     ]
    },
    {
     "name": "stderr",
     "output_type": "stream",
     "text": [
      "  8%|▊         | 8/100 [00:02<00:29,  3.13epoch/s, loss=0.844, loss_val=0.785]\n"
     ]
    },
    {
     "name": "stdout",
     "output_type": "stream",
     "text": [
      "Iniciando treinamento:\n",
      "Tamanho da amostra de treino: 280\n",
      "Tamanho da amostra de validação: 72\n",
      "Distância Parâmetros Rede Neural: 4.742767975472936e-06\n",
      "Distância Parâmetros Alpha: 0.0004876564365966715\n",
      "Média das distâncias: 0.0002461996022860722\n",
      "Iniciando passo 9\n"
     ]
    },
    {
     "name": "stderr",
     "output_type": "stream",
     "text": [
      " 10%|█         | 10/100 [00:03<00:29,  3.07epoch/s, loss=0.839, loss_val=0.809]\n"
     ]
    },
    {
     "name": "stdout",
     "output_type": "stream",
     "text": [
      "Iniciando treinamento:\n",
      "Tamanho da amostra de treino: 280\n",
      "Tamanho da amostra de validação: 72\n",
      "Distância Parâmetros Rede Neural: 4.528055351821983e-06\n",
      "Distância Parâmetros Alpha: 0.0005246735851832257\n",
      "Média das distâncias: 0.0002646008202675238\n",
      "Iniciando passo 10\n"
     ]
    },
    {
     "name": "stderr",
     "output_type": "stream",
     "text": [
      "  7%|▋         | 7/100 [00:02<00:30,  3.09epoch/s, loss=0.622, loss_val=0.843]\n"
     ]
    },
    {
     "name": "stdout",
     "output_type": "stream",
     "text": [
      "Iniciando treinamento:\n",
      "Tamanho da amostra de treino: 280\n",
      "Tamanho da amostra de validação: 72\n",
      "Distância Parâmetros Rede Neural: 1.288383558679304e-06\n",
      "Distância Parâmetros Alpha: 0.0005659032081922335\n",
      "Média das distâncias: 0.0002835957958754564\n",
      "Learning rate reduzida para 0.0001\n",
      "Iniciando passo 11\n"
     ]
    },
    {
     "name": "stderr",
     "output_type": "stream",
     "text": [
      "  6%|▌         | 6/100 [00:01<00:29,  3.14epoch/s, loss=0.613, loss_val=0.83] \n",
      "  0%|          | 0/100 [00:00<?, ?epoch/s]"
     ]
    },
    {
     "name": "stdout",
     "output_type": "stream",
     "text": [
      "Iniciando treinamento:\n",
      "Tamanho da amostra de treino: 280\n",
      "Tamanho da amostra de validação: 72\n",
      "Distância Parâmetros Rede Neural: 1.4579784912216637e-08\n",
      "Distância Parâmetros Alpha: 0.00024091204304780203\n",
      "Média das distâncias: 0.00012046331141635713\n",
      "Iniciando passo 12\n"
     ]
    },
    {
     "name": "stderr",
     "output_type": "stream",
     "text": [
      "  6%|▌         | 6/100 [00:01<00:28,  3.27epoch/s, loss=0.787, loss_val=0.823]\n"
     ]
    },
    {
     "name": "stdout",
     "output_type": "stream",
     "text": [
      "Iniciando treinamento:\n",
      "Tamanho da amostra de treino: 280\n",
      "Tamanho da amostra de validação: 72\n",
      "Distância Parâmetros Rede Neural: 1.5026168669511196e-08\n",
      "Distância Parâmetros Alpha: 5.125989355917148e-05\n",
      "Média das distâncias: 2.5637459863920495e-05\n",
      "Iniciando passo 13\n"
     ]
    },
    {
     "name": "stderr",
     "output_type": "stream",
     "text": [
      "  6%|▌         | 6/100 [00:01<00:29,  3.24epoch/s, loss=0.752, loss_val=0.809]\n"
     ]
    },
    {
     "name": "stdout",
     "output_type": "stream",
     "text": [
      "Iniciando treinamento:\n",
      "Tamanho da amostra de treino: 280\n",
      "Tamanho da amostra de validação: 72\n",
      "Distância Parâmetros Rede Neural: 9.56259715680197e-09\n",
      "Distância Parâmetros Alpha: 1.1341003181529093e-06\n",
      "Média das distâncias: 5.718314576548556e-07\n",
      "Algoritmo convergiu após 13 iterações. Retornando.\n"
     ]
    },
    {
     "name": "stderr",
     "output_type": "stream",
     "text": [
      "/home/natan/.pyenv/versions/3.10.16/lib/python3.10/site-packages/keras/src/layers/convolutional/base_conv.py:107: UserWarning: Do not pass an `input_shape`/`input_dim` argument to a layer. When using Sequential models, prefer using an `Input(shape)` object as the first layer in the model instead.\n",
      "  super().__init__(activity_regularizer=activity_regularizer, **kwargs)\n"
     ]
    },
    {
     "name": "stdout",
     "output_type": "stream",
     "text": [
      "Número de arquivos no diretório: 13\n"
     ]
    }
   ],
   "source": [
    "set_all_seeds(10)\n",
    "\n",
    "sim_results = fit_simulation(\"logarithmic\",\n",
    "               fake_file_info[\"t_train\"], fake_file_info[\"t_val\"],\n",
    "               fake_file_info[\"delta_train\"], fake_file_info[\"delta_val\"],\n",
    "               fake_file_info[\"img_train\"], fake_file_info[\"img_val\"],\n",
    "               batch_size = None,\n",
    "               seed = 1)"
   ]
  },
  {
   "cell_type": "code",
   "execution_count": 11,
   "id": "9abc345b-599e-4421-89ea-d5b9c5368c4f",
   "metadata": {},
   "outputs": [
    {
     "name": "stdout",
     "output_type": "stream",
     "text": [
      "alpha estimado: [0.04274537 0.08251279 0.12731988 0.13075798 0.21122608 1.        ]\n",
      "alpha xie: [0.01570256 0.04739518 0.09240146 0.13731525 0.43543998 1.        ]\n"
     ]
    },
    {
     "data": {
      "image/png": "[encoded data removed]",
      "text/plain": [
       "<Figure size 1200x600 with 1 Axes>"
      ]
     },
     "metadata": {},
     "output_type": "display_data"
    }
   ],
   "source": [
    "tv = np.arange(0, s_t[-1], 0.1)\n",
    "S1v = S1(tv, sim_results[\"alpha_history\"][-1], s_t)\n",
    "\n",
    "alpha_xie = np.array([0.01570256, 0.04739518, 0.09240146, 0.13731525, 0.43543998, 1.])\n",
    "S1v_xie = S1(tv, alpha_xie, s_t)\n",
    "\n",
    "print(\"alpha estimado: {}\".format(sim_results[\"alpha_history\"][-1]))\n",
    "print(\"alpha xie: {}\".format(alpha_xie))\n",
    "\n",
    "fig, ax = plt.subplots(figsize = (12, 6))\n",
    "plt.plot(tv, S1v)\n",
    "plt.plot(tv, S1v_xie)\n",
    "plt.axhline(0.6, color = \"black\")\n",
    "plt.axvline(6, color = \"black\")\n",
    "plt.grid()\n",
    "plt.show()"
   ]
  },
  {
   "cell_type": "code",
   "execution_count": 37,
   "id": "e11f9582-932f-4b88-9810-bd07457aeb49",
   "metadata": {},
   "outputs": [
    {
     "name": "stdout",
     "output_type": "stream",
     "text": [
      "Keys: ['theta_train', 'theta_val', 'theta_test', 'm_train', 'm_val', 'm_test', 't_train', 't_val', 't_test', 'delta_train', 'delta_val', 'delta_test', 'img_train', 'img_val', 'img_test', 'index_train', 'index_val', 'index_test']\n"
     ]
    }
   ],
   "source": [
    "file_info = load_file(\"SimulationDataset/Scenario1/n3000/\", 1, \"logarithmic\", train_images, test_images)\n",
    "print( \"Keys: {}\".format(list(file_info.keys())) )"
   ]
  },
  {
   "cell_type": "code",
   "execution_count": 39,
   "id": "d833513a-9418-4653-9eaf-1fefa8481c6a",
   "metadata": {},
   "outputs": [
    {
     "ename": "NameError",
     "evalue": "name 'log_a_log_str' is not defined",
     "output_type": "error",
     "traceback": [
      "\u001b[0;31m---------------------------------------------------------------------------\u001b[0m",
      "\u001b[0;31mNameError\u001b[0m                                 Traceback (most recent call last)",
      "Cell \u001b[0;32mIn[39], line 3\u001b[0m\n\u001b[1;32m      1\u001b[0m set_all_seeds(\u001b[38;5;241m10\u001b[39m)\n\u001b[0;32m----> 3\u001b[0m sim_results \u001b[38;5;241m=\u001b[39m \u001b[43mfit_simulation\u001b[49m\u001b[43m(\u001b[49m\u001b[38;5;124;43m\"\u001b[39;49m\u001b[38;5;124;43mlogarithmic\u001b[39;49m\u001b[38;5;124;43m\"\u001b[39;49m\u001b[43m,\u001b[49m\n\u001b[1;32m      4\u001b[0m \u001b[43m               \u001b[49m\u001b[43mfile_info\u001b[49m\u001b[43m[\u001b[49m\u001b[38;5;124;43m\"\u001b[39;49m\u001b[38;5;124;43mt_train\u001b[39;49m\u001b[38;5;124;43m\"\u001b[39;49m\u001b[43m]\u001b[49m\u001b[43m,\u001b[49m\u001b[43m \u001b[49m\u001b[43mfile_info\u001b[49m\u001b[43m[\u001b[49m\u001b[38;5;124;43m\"\u001b[39;49m\u001b[38;5;124;43mt_val\u001b[39;49m\u001b[38;5;124;43m\"\u001b[39;49m\u001b[43m]\u001b[49m\u001b[43m,\u001b[49m\n\u001b[1;32m      5\u001b[0m \u001b[43m               \u001b[49m\u001b[43mfile_info\u001b[49m\u001b[43m[\u001b[49m\u001b[38;5;124;43m\"\u001b[39;49m\u001b[38;5;124;43mdelta_train\u001b[39;49m\u001b[38;5;124;43m\"\u001b[39;49m\u001b[43m]\u001b[49m\u001b[43m,\u001b[49m\u001b[43m \u001b[49m\u001b[43mfile_info\u001b[49m\u001b[43m[\u001b[49m\u001b[38;5;124;43m\"\u001b[39;49m\u001b[38;5;124;43mdelta_val\u001b[39;49m\u001b[38;5;124;43m\"\u001b[39;49m\u001b[43m]\u001b[49m\u001b[43m,\u001b[49m\n\u001b[1;32m      6\u001b[0m \u001b[43m               \u001b[49m\u001b[43mfile_info\u001b[49m\u001b[43m[\u001b[49m\u001b[38;5;124;43m\"\u001b[39;49m\u001b[38;5;124;43mimg_train\u001b[39;49m\u001b[38;5;124;43m\"\u001b[39;49m\u001b[43m]\u001b[49m\u001b[43m,\u001b[49m\u001b[43m \u001b[49m\u001b[43mfile_info\u001b[49m\u001b[43m[\u001b[49m\u001b[38;5;124;43m\"\u001b[39;49m\u001b[38;5;124;43mimg_val\u001b[39;49m\u001b[38;5;124;43m\"\u001b[39;49m\u001b[43m]\u001b[49m\u001b[43m,\u001b[49m\n\u001b[1;32m      7\u001b[0m \u001b[43m               \u001b[49m\u001b[43mbatch_size\u001b[49m\u001b[43m \u001b[49m\u001b[38;5;241;43m=\u001b[39;49m\u001b[43m \u001b[49m\u001b[38;5;28;43;01mNone\u001b[39;49;00m\u001b[43m,\u001b[49m\n\u001b[1;32m      8\u001b[0m \u001b[43m               \u001b[49m\u001b[43mseed\u001b[49m\u001b[43m \u001b[49m\u001b[38;5;241;43m=\u001b[39;49m\u001b[43m \u001b[49m\u001b[38;5;241;43m1\u001b[39;49m\u001b[43m)\u001b[49m\n",
      "Cell \u001b[0;32mIn[38], line 33\u001b[0m, in \u001b[0;36mfit_simulation\u001b[0;34m(distribution, t_train, t_val, delta_train, delta_val, img_train, img_val, q, batch_size, seed)\u001b[0m\n\u001b[1;32m     30\u001b[0m C_inv_tf \u001b[38;5;241m=\u001b[39m C_inv_log_tf\n\u001b[1;32m     31\u001b[0m sup \u001b[38;5;241m=\u001b[39m sup_log\n\u001b[0;32m---> 33\u001b[0m log_a_str \u001b[38;5;241m=\u001b[39m \u001b[43mlog_a_log_str\u001b[49m\n\u001b[1;32m     34\u001b[0m log_phi_str \u001b[38;5;241m=\u001b[39m log_phi_log_str\n\u001b[1;32m     35\u001b[0m C_str \u001b[38;5;241m=\u001b[39m C_log_str\n",
      "\u001b[0;31mNameError\u001b[0m: name 'log_a_log_str' is not defined"
     ]
    }
   ],
   "source": [
    "set_all_seeds(10)\n",
    "\n",
    "sim_results = fit_simulation(\"logarithmic\",\n",
    "               file_info[\"t_train\"], file_info[\"t_val\"],\n",
    "               file_info[\"delta_train\"], file_info[\"delta_val\"],\n",
    "               file_info[\"img_train\"], file_info[\"img_val\"],\n",
    "               batch_size = None,\n",
    "               seed = 1)"
   ]
  },
  {
   "cell_type": "code",
   "execution_count": 33,
   "id": "bf8d184e-4cec-49c9-8ec7-c40cd6407ee3",
   "metadata": {},
   "outputs": [
    {
     "name": "stdout",
     "output_type": "stream",
     "text": [
      "alpha estimado: [0.98001261 0.89815018 1.30820455 0.65660689 1.         1.        ]\n",
      "alpha xie: [1 1 1 1 1 1]\n"
     ]
    },
    {
     "data": {
      "image/png": "[encoded data removed]",
      "text/plain": [
       "<Figure size 1200x600 with 1 Axes>"
      ]
     },
     "metadata": {},
     "output_type": "display_data"
    }
   ],
   "source": [
    "tv = np.arange(0, s_t[-1], 0.1)\n",
    "S1v = S1(tv, sim_results[\"alpha_history\"][-1], s_t)\n",
    "\n",
    "alpha_xie = np.array([1, 1, 1, 1, 1, 1])\n",
    "S1v_xie = S1(tv, alpha_xie, s_t)\n",
    "\n",
    "print(\"alpha estimado: {}\".format(sim_results[\"alpha_history\"][-1]))\n",
    "print(\"alpha xie: {}\".format(alpha_xie))\n",
    "\n",
    "fig, ax = plt.subplots(figsize = (12, 6))\n",
    "plt.plot(tv, S1v)\n",
    "plt.plot(tv, S1v_xie)\n",
    "plt.axhline(0.6, color = \"black\")\n",
    "plt.axvline(6, color = \"black\")\n",
    "plt.grid()\n",
    "plt.show()"
   ]
  },
  {
   "cell_type": "code",
   "execution_count": 34,
   "id": "b473b2ed-64b9-4629-81ce-9bb4ffd68065",
   "metadata": {},
   "outputs": [
    {
     "name": "stdout",
     "output_type": "stream",
     "text": [
      "\u001b[1m94/94\u001b[0m \u001b[32m━━━━━━━━━━━━━━━━━━━━\u001b[0m\u001b[37m\u001b[0m \u001b[1m1s\u001b[0m 3ms/step    \n",
      "\u001b[1m21/21\u001b[0m \u001b[32m━━━━━━━━━━━━━━━━━━━━\u001b[0m\u001b[37m\u001b[0m \u001b[1m0s\u001b[0m 6ms/step \n"
     ]
    }
   ],
   "source": [
    "eta_pred_train = sim_results[\"new_model\"].predict(file_info[\"img_train\"])\n",
    "eta_pred_test = sim_results[\"new_model\"].predict(file_info[\"img_test\"])"
   ]
  },
  {
   "cell_type": "code",
   "execution_count": 35,
   "id": "c28079a7-579c-4398-b18f-847095970f12",
   "metadata": {},
   "outputs": [
    {
     "data": {
      "text/plain": [
       "0       0\n",
       "1       0\n",
       "2       0\n",
       "3       1\n",
       "4       5\n",
       "       ..\n",
       "2995    1\n",
       "2996    0\n",
       "2997    2\n",
       "2998    0\n",
       "2999    0\n",
       "Name: m, Length: 3000, dtype: int64"
      ]
     },
     "execution_count": 35,
     "metadata": {},
     "output_type": "execute_result"
    }
   ],
   "source": [
    "file_info[\"m_train\"]"
   ]
  }
 ],
 "metadata": {
  "kernelspec": {
   "display_name": "Python 3 (ipykernel)",
   "language": "python",
   "name": "python3"
  },
  "language_info": {
   "codemirror_mode": {
    "name": "ipython",
    "version": 3
   },
   "file_extension": ".py",
   "mimetype": "text/x-python",
   "name": "python",
   "nbconvert_exporter": "python",
   "pygments_lexer": "ipython3",
   "version": "3.10.16"
  }
 },
 "nbformat": 4,
 "nbformat_minor": 5
}
