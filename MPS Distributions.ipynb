{
 "cells": [
  {
   "cell_type": "markdown",
   "id": "f4659741-7f30-4d3e-823f-511579215fad",
   "metadata": {},
   "source": [
    "Prosseguimos o desenvolvimento do trabalho elaborando um estudo de simulações a partir do conjunto de imagens Fashion-MNIST. Para cada classe de roupa (10 classes) atribuímos um valor específico para $\\theta(x)$. Deste modo, esperamos que o modelo seja capaz de diferenciar os tipos de imagens e estimar o parâmetro associado a elas corretamente."
   ]
  },
  {
   "cell_type": "code",
   "execution_count": 1,
   "id": "579cb74f-6bdc-45d8-8366-1d189667dc7b",
   "metadata": {},
   "outputs": [],
   "source": [
    "import numpy as np\n",
    "import pandas as pd\n",
    "from matplotlib import pyplot as plt\n",
    "import random\n",
    "from time import time\n",
    "\n",
    "from scipy.special import comb, loggamma, lambertw\n",
    "\n",
    "import mps\n",
    "import pwexp"
   ]
  },
  {
   "cell_type": "code",
   "execution_count": 2,
   "id": "a86066f3-31ab-4c1a-8dc1-2530180938a4",
   "metadata": {},
   "outputs": [],
   "source": [
    "# Valor máximo do suporte da distribuição\n",
    "B = 100001\n",
    "\n",
    "# ---------------------------- Poisson (Pocr) ----------------------------\n",
    "# Versões sem o tensorflow\n",
    "log_a_poisson = lambda m : -loggamma(m+1)\n",
    "log_phi_poisson = lambda theta : np.log(theta)\n",
    "C_poisson = lambda theta : np.exp(theta)\n",
    "C_inv_poisson = lambda u : np.log(u)\n",
    "# Versões para o tensorflow\n",
    "log_a_poisson_tf = lambda m : -tf.math.lgamma(m+1)\n",
    "log_phi_poisson_tf = lambda theta : tf.math.log(theta)\n",
    "C_poisson_tf = lambda theta : tf.math.exp(theta)\n",
    "C_inv_poisson_tf = lambda u : tf.math.log(u)\n",
    "sup_poisson = np.arange(0, B, 1).astype(np.float64)\n",
    "\n",
    "theta_min_poisson = None\n",
    "theta_max_poisson = None\n",
    "def E_poisson(theta):\n",
    "    return theta\n",
    "# Variance is always equal to the mean\n",
    "def Var_poisson(theta):\n",
    "    return theta\n",
    "\n",
    "# ---------------------------- Logarithmic (Locr) ----------------------------\n",
    "# Versões sem o tensorflow\n",
    "log_a_log = lambda m : -np.log(m+1)\n",
    "log_phi_log = lambda theta : np.log(theta)\n",
    "C_log = lambda theta : -np.log(1-theta)/theta\n",
    "C_inv_log = lambda u : 1 + np.real(lambertw(-u*np.exp(-u))) / u\n",
    "# Versões para o tensorflow\n",
    "log_a_log_tf = lambda m : -tf.math.log(m+1)\n",
    "log_phi_log_tf = lambda theta : tf.math.log(theta)\n",
    "C_log_tf = lambda theta : -tf.math.log(1-theta)/theta\n",
    "C_inv_log_tf = lambda u : 1 + tfp.math.lambertw(-u*tf.math.exp(-u)) / u\n",
    "sup_log = np.arange(0, B, 1).astype(np.float64)\n",
    "\n",
    "theta_min_log = 0\n",
    "theta_max_log = 1\n",
    "def E_log(theta):\n",
    "    return -theta / (np.log(1-theta)*(1-theta)) - 1\n",
    "# Overdispersion: in this case, variance is always greater than mean\n",
    "def Var_log(theta):\n",
    "    return -theta*(theta + np.log(1-theta)) / ((1-theta)**2*(np.log(1-theta))**2)\n",
    "\n",
    "# ---------------------------- Binomial Negativa (+Geométrica) (NBcr + Gecr) ----------------------------\n",
    "# Versões sem o tensorflow\n",
    "def log_a_nb(q):\n",
    "    return lambda m : loggamma(m+q) - loggamma(m+1) - loggamma(q)\n",
    "def log_phi_nb(q):\n",
    "    return lambda theta : np.log(1-theta)\n",
    "def C_nb(q):\n",
    "    return lambda theta : theta**(-q)\n",
    "def C_inv_nb(q):\n",
    "    return lambda u : u**(-1/q)\n",
    "# Versões para o tensorflow\n",
    "def log_a_nb_tf(q):\n",
    "    return lambda m : tf.math.lgamma(m+q) - tf.math.lgamma(m+1) - tf.math.lgamma(q)\n",
    "def log_phi_nb_tf(q):\n",
    "    return lambda theta : tf.math.log(1-theta)\n",
    "def C_nb_tf(q):\n",
    "    return lambda theta : theta**(-q)\n",
    "def C_inv_nb_tf(q):\n",
    "    return lambda u : u**(-1/q)\n",
    "sup_nb = np.arange(0, B, 1).astype(np.float64)\n",
    "\n",
    "theta_min_nb = 0\n",
    "theta_max_nb = 1\n",
    "def E_nb(q, theta):\n",
    "    return q*(1-theta)/theta\n",
    "# Overdispersion: in this case, variance is always greater than mean\n",
    "def Var_nb(q, theta):\n",
    "    return q*(1-theta)/theta**2\n",
    "\n",
    "# ---------------------------- Binomial (+Bernoulli) (Bincr + Bercr) ----------------------------\n",
    "# Versões sem o tensorflow\n",
    "def log_a_bin(q):\n",
    "    return lambda m : loggamma(q+1) - loggamma(m+1) - loggamma(q-m+1)\n",
    "def log_phi_bin(q):\n",
    "    return lambda theta : np.log(theta) - np.log(1-theta)\n",
    "def C_bin(q):\n",
    "    return lambda theta : (1-theta)**(-q)\n",
    "def C_inv_bin(q):\n",
    "    return lambda u : 1 - u**(-1/q)\n",
    "# Versões para o tensorflow\n",
    "def log_a_bin_tf(q):\n",
    "    return lambda m : tf.math.lgamma(q+1) - tf.math.lgamma(m+1) - tf.math.lgamma(q-m+1)\n",
    "def log_phi_bin_tf(q):\n",
    "    return lambda theta : tf.math.log(theta) - tf.math.log(1-theta)\n",
    "def C_bin_tf(q):\n",
    "    return lambda theta : (1-theta)**(-q)\n",
    "def C_inv_bin_tf(q):\n",
    "    return lambda u : 1 - u**(-1/q)\n",
    "def sup_bin(q):\n",
    "    return np.arange(0, q+1, 1).astype(np.float64)\n",
    "\n",
    "theta_min_bin = 0\n",
    "theta_max_bin = 1\n",
    "def E_bin(q, theta):\n",
    "    return q*theta\n",
    "# Underdispersion: in this case, variance is always lesser than mean\n",
    "def Var_bin(q, theta):\n",
    "    return q*theta*(1-theta)\n",
    "\n",
    "# ---------------------------- Borel (Bocr) ----------------------------\n",
    "# Versões sem o tensorflow\n",
    "log_a_borel = lambda m : (m-1)*np.log(m+1) - loggamma(m+1)\n",
    "log_phi_borel = lambda theta : np.log(theta) - theta\n",
    "C_borel = lambda theta : np.exp(theta)\n",
    "C_inv_borel = lambda u : np.log(u)\n",
    "# Versões para o tensorflow\n",
    "log_a_borel_tf = lambda m : (m-1)*tf.math.log(m+1) - tf.math.lgamma(m+1)\n",
    "log_phi_borel_tf = lambda theta : tf.math.log(theta) - theta\n",
    "C_borel_tf = lambda theta : tf.math.exp(theta)\n",
    "C_inv_borel_tf = lambda u : tf.math.log(u)\n",
    "sup_borel = np.arange(0, B, 1).astype(np.float64)\n",
    "\n",
    "theta_min_borel = 0\n",
    "theta_max_borel = 1\n",
    "def E_borel(theta):\n",
    "    return theta/(1-theta)\n",
    "# Overdispersion: in this case, variance is always greater than mean\n",
    "def Var_borel(theta):\n",
    "    mu = theta/(1-theta)\n",
    "    return mu*(1+mu)**2\n",
    "\n",
    "# ---------------------------- Restricted Generalized Poisson (RGPcr) ----------------------------\n",
    "# Versões sem o tensorflow\n",
    "def log_a_rgp(q):\n",
    "    return lambda m : (m-1)*np.log(1+q*m) - loggamma(m+1)\n",
    "def log_phi_rgp(q):\n",
    "    return lambda theta : np.log(theta) - q*theta\n",
    "def C_rgp(q):\n",
    "    return lambda theta : np.exp(theta)\n",
    "def C_inv_rgp(q):\n",
    "    return lambda u : np.log(u)\n",
    "# Versões para o tensorflow\n",
    "def log_a_rgp_tf(q):\n",
    "    return lambda m : (m-1)*tf.math.log(1+q*m) - tf.math.lgamma(m+1)\n",
    "def log_phi_rgp_tf(q):\n",
    "    return lambda theta : tf.math.log(theta) - q*theta\n",
    "def C_rgp_tf(q):\n",
    "    return lambda theta : tf.math.exp(theta)\n",
    "def C_inv_rgp_tf(q):\n",
    "    return lambda u : tf.math.log(u)\n",
    "def sup_rgp(q):\n",
    "    if(q > 0):\n",
    "        return np.arange(0, B, 1).astype(np.float64)\n",
    "    else:\n",
    "        if(q < -1):\n",
    "            raise Exception(\"q value can't be less than -1\")\n",
    "        max_sup_candidates = np.arange(1, 101)\n",
    "        max_sup = max_sup_candidates[(1 + max_sup_candidates*q) > 0][-1]\n",
    "        return np.arange(max_sup+1)\n",
    "\n",
    "theta_min_rgp = 0\n",
    "# The RGP theta parameter must be lesser than q, otherwise its probabilities do not sum to one\n",
    "def theta_max_rgp(q):\n",
    "    return np.abs(1/q)\n",
    "def E_rgp(q, theta):\n",
    "    return theta/(1-q*theta)\n",
    "# Overdispersion: in this case, variance is always greater than mean\n",
    "def Var_rgp(q, theta):\n",
    "    mu = theta/(1 - q*theta)\n",
    "    return mu / (1-q*theta)**2\n",
    "\n",
    "\n",
    "# ---------------------------- Haight (Catalan) (Cacr) - Geeta(q = 2) ----------------------------\n",
    "# Versões sem o tensorflow\n",
    "log_a_haight = lambda m : loggamma(2*m+2) - loggamma(m+2) - loggamma(m+1) - np.log(2*m+1)\n",
    "log_phi_haight = lambda theta : np.log(theta) + np.log(1-theta)\n",
    "C_haight = lambda theta : 1/(1-theta)\n",
    "C_inv_haight = lambda u : 1 - 1/u\n",
    "# Versões para o tensorflow\n",
    "log_a_haight_tf = lambda m : tf.math.lgamma(2*m+2) - tf.math.lgamma(m+2) - tf.math.lgamma(m+1) - tf.math.log(2*m+1)\n",
    "log_phi_haight_tf = lambda theta : tf.math.log(theta) + tf.math.log(1-theta)\n",
    "C_haight_tf = lambda theta : 1/(1-theta)\n",
    "C_inv_haight_tf = lambda u : 1 - 1/u\n",
    "sup_haight = np.arange(0, B, 1).astype(np.float64)\n",
    "\n",
    "theta_min_haight = 0\n",
    "theta_max_haight = 0.5\n",
    "def E_haight(theta):\n",
    "    p = theta\n",
    "    s = 1-p\n",
    "    return s/(s-p) - 1\n",
    "# Overdispersion: in this case, variance is always greater than mean\n",
    "def Var_haight(theta):\n",
    "    p = theta\n",
    "    s = 1-p\n",
    "    return p*s/(s-p)**2 + 2*p**2*s/(s-p)**3\n",
    "\n",
    "# ---------------------------- Geeta (Gecr) ----------------------------\n",
    "# Versões sem o tensorflow\n",
    "def log_a_geeta(q):\n",
    "    return lambda m : loggamma(q*m+q) - loggamma(m+2) - loggamma((q-1)*m+q-1) - np.log(q*m+q-1)\n",
    "def log_phi_geeta(q):\n",
    "    return lambda theta : np.log(theta) + (q-1)*np.log(1-theta)\n",
    "def C_geeta(q):\n",
    "    return lambda theta : (1-theta)**(1-q)\n",
    "def C_inv_geeta(q):\n",
    "    return lambda u : 1 - u**(1/(1-q))\n",
    "# Versões para o tensorflow\n",
    "def log_a_geeta_tf(q):\n",
    "    return lambda m : tf.math.lgamma(q*m+q) - tf.math.lgamma(m+2) - tf.math.lgamma(q*m+q) - tf.math.log(q*m+q-1)\n",
    "def log_phi_geeta_tf(q):\n",
    "    return lambda theta : tf.math.log(theta) + (q-1)*tf.math.log(1-theta)\n",
    "def C_geeta_tf(q):\n",
    "    return lambda theta : 1/(1-theta)\n",
    "def C_inv_geeta_tf(q):\n",
    "    return lambda u : 1 - u**(1/(1-q))\n",
    "sup_geeta = np.arange(0, B, 1).astype(np.float64)\n",
    "\n",
    "theta_min_geeta = 0\n",
    "theta_max_geeta = lambda q : 1/q\n",
    "def E_geeta(q, theta):\n",
    "    p = theta\n",
    "    s = 1-p\n",
    "    return s/(s-p*(q-1)) - 1\n",
    "def Var_geeta(q, theta):\n",
    "    p = theta\n",
    "    s = 1-p\n",
    "    return p*s*(q-1)/(s-p*(q-1))**2 + p**2*s*(q-1)*q/(s-p*(q-1))**3"
   ]
  },
  {
   "cell_type": "code",
   "execution_count": 3,
   "id": "a6ca9e21-7464-479c-adf0-2b3a6dff1eb0",
   "metadata": {},
   "outputs": [],
   "source": [
    "def sim_dist(log_a, log_phi, sup, theta, n):\n",
    "    x = mps.rvs(log_a, log_phi, theta, sup, size = n)\n",
    "    x_mean = np.mean(x)\n",
    "    x_var = np.var(x)\n",
    "    print(\"    Sample mean: {:.6f}\".format(x_mean))\n",
    "    print(\"    Sample var: {:.6f}\".format(x_var))\n",
    "    \n",
    "def sim_dist_thetas(log_a, log_phi, sup, thetas, n, E_func, Var_func, q = None):\n",
    "    for theta in thetas:\n",
    "        print(\"--- theta = {:.4f}\".format(theta))\n",
    "        if(q is None):\n",
    "            print(\"    Theoretical mean: {:.6f}\".format(E_func(theta)))\n",
    "            print(\"    Theoretical variance: {:.6f}\".format(Var_func(theta)))\n",
    "        else:\n",
    "            print(\"    Theoretical mean: {:.6f}\".format(E_func(q, theta)))\n",
    "            print(\"    Theoretical variance: {:.6f}\".format(Var_func(q, theta)))\n",
    "        sim_dist(log_a, log_phi, sup, theta, n)"
   ]
  },
  {
   "cell_type": "code",
   "execution_count": 4,
   "id": "ce486ea9-a6c0-49dd-b677-75756de5440b",
   "metadata": {},
   "outputs": [],
   "source": [
    "n = 500000"
   ]
  },
  {
   "cell_type": "markdown",
   "id": "e451d99e-2f36-4a33-8d12-52d4144d34e3",
   "metadata": {},
   "source": [
    "## Poisson distribution"
   ]
  },
  {
   "cell_type": "code",
   "execution_count": 5,
   "id": "8f477258-63f9-409a-acbe-921376495dce",
   "metadata": {},
   "outputs": [
    {
     "name": "stdout",
     "output_type": "stream",
     "text": [
      "Poisson distribution\n",
      "--- theta = 0.5000\n",
      "    Theoretical mean: 0.500000\n",
      "    Theoretical variance: 0.500000\n",
      "    Sample mean: 0.498838\n",
      "    Sample var: 0.497779\n",
      "--- theta = 1.0000\n",
      "    Theoretical mean: 1.000000\n",
      "    Theoretical variance: 1.000000\n",
      "    Sample mean: 1.001584\n",
      "    Sample var: 1.003077\n",
      "--- theta = 2.0000\n",
      "    Theoretical mean: 2.000000\n",
      "    Theoretical variance: 2.000000\n",
      "    Sample mean: 1.998274\n",
      "    Sample var: 2.002119\n",
      "--- theta = 5.0000\n",
      "    Theoretical mean: 5.000000\n",
      "    Theoretical variance: 5.000000\n",
      "    Sample mean: 5.005134\n",
      "    Sample var: 5.017140\n",
      "--- theta = 10.0000\n",
      "    Theoretical mean: 10.000000\n",
      "    Theoretical variance: 10.000000\n",
      "    Sample mean: 9.997680\n",
      "    Sample var: 9.998907\n",
      "--- theta = 20.0000\n",
      "    Theoretical mean: 20.000000\n",
      "    Theoretical variance: 20.000000\n",
      "    Sample mean: 19.999880\n",
      "    Sample var: 20.019204\n"
     ]
    }
   ],
   "source": [
    "print(\"Poisson distribution\")\n",
    "sim_dist_thetas(log_a_poisson, log_phi_poisson, sup_poisson, [0.5, 1, 2, 5, 10, 20], n, E_poisson, Var_poisson, q = None)"
   ]
  },
  {
   "cell_type": "markdown",
   "id": "dbcf4e3e-6cb8-4342-893c-aa0cb7aab657",
   "metadata": {},
   "source": [
    "## Logarithmic distribution"
   ]
  },
  {
   "cell_type": "code",
   "execution_count": 6,
   "id": "4485192f-f8c5-4db2-9386-35ddab572806",
   "metadata": {},
   "outputs": [
    {
     "name": "stdout",
     "output_type": "stream",
     "text": [
      "Logarithmic distribution\n",
      "--- theta = 0.1000\n",
      "    Theoretical mean: 0.054580\n",
      "    Theoretical variance: 0.059616\n",
      "    Sample mean: 0.054840\n",
      "    Sample var: 0.059961\n",
      "--- theta = 0.2500\n",
      "    Theoretical mean: 0.158686\n",
      "    Theoretical variance: 0.202361\n",
      "    Sample mean: 0.157880\n",
      "    Sample var: 0.202430\n",
      "--- theta = 0.5000\n",
      "    Theoretical mean: 0.442695\n",
      "    Theoretical variance: 0.804021\n",
      "    Sample mean: 0.442598\n",
      "    Sample var: 0.808641\n",
      "--- theta = 0.7500\n",
      "    Theoretical mean: 1.164043\n",
      "    Theoretical variance: 3.973090\n",
      "    Sample mean: 1.167708\n",
      "    Sample var: 3.983818\n",
      "--- theta = 0.9000\n",
      "    Theoretical mean: 2.908650\n",
      "    Theoretical variance: 23.808956\n",
      "    Sample mean: 2.912396\n",
      "    Sample var: 23.739918\n"
     ]
    }
   ],
   "source": [
    "print(\"Logarithmic distribution\")\n",
    "sim_dist_thetas(log_a_log, log_phi_log, sup_log, [0.1, 0.25, 0.5, 0.75, 0.9], n, E_log, Var_log, q = None)"
   ]
  },
  {
   "cell_type": "markdown",
   "id": "607a7cd4-3037-4f40-a535-3a19431ee6ac",
   "metadata": {},
   "source": [
    "## NB(q = 1) distribution (Geometric distribution)"
   ]
  },
  {
   "cell_type": "code",
   "execution_count": 7,
   "id": "e896205d-3f29-411c-ad6d-3ae245659c16",
   "metadata": {},
   "outputs": [
    {
     "name": "stdout",
     "output_type": "stream",
     "text": [
      "Geometric distribution\n",
      "--- theta = 0.1000\n",
      "    Theoretical mean: 9.000000\n",
      "    Theoretical variance: 90.000000\n",
      "    Sample mean: 9.001216\n",
      "    Sample var: 90.092975\n",
      "--- theta = 0.2500\n",
      "    Theoretical mean: 3.000000\n",
      "    Theoretical variance: 12.000000\n",
      "    Sample mean: 3.000770\n",
      "    Sample var: 12.004357\n",
      "--- theta = 0.5000\n",
      "    Theoretical mean: 1.000000\n",
      "    Theoretical variance: 2.000000\n",
      "    Sample mean: 1.001546\n",
      "    Sample var: 2.008540\n",
      "--- theta = 0.7500\n",
      "    Theoretical mean: 0.333333\n",
      "    Theoretical variance: 0.444444\n",
      "    Sample mean: 0.332754\n",
      "    Sample var: 0.444489\n",
      "--- theta = 0.9000\n",
      "    Theoretical mean: 0.111111\n",
      "    Theoretical variance: 0.123457\n",
      "    Sample mean: 0.111058\n",
      "    Sample var: 0.124040\n"
     ]
    }
   ],
   "source": [
    "print(\"Geometric distribution\")\n",
    "sim_dist_thetas(log_a_nb(1), log_phi_nb(1), sup_nb, [0.1, 0.25, 0.5, 0.75, 0.9], n, E_nb, Var_nb, q = 1)"
   ]
  },
  {
   "cell_type": "markdown",
   "id": "e7b08ddc-61dd-4371-b3ab-2565ef23e5fa",
   "metadata": {},
   "source": [
    "## NB(q = 2) distribution"
   ]
  },
  {
   "cell_type": "code",
   "execution_count": 8,
   "id": "cd6eec0c-ca6f-4e8f-96aa-fe133c940b09",
   "metadata": {},
   "outputs": [
    {
     "name": "stdout",
     "output_type": "stream",
     "text": [
      "Geometric distribution\n",
      "--- theta = 0.1000\n",
      "    Theoretical mean: 18.000000\n",
      "    Theoretical variance: 180.000000\n",
      "    Sample mean: 18.005812\n",
      "    Sample var: 179.617398\n",
      "--- theta = 0.2500\n",
      "    Theoretical mean: 6.000000\n",
      "    Theoretical variance: 24.000000\n",
      "    Sample mean: 5.984566\n",
      "    Sample var: 23.818452\n",
      "--- theta = 0.5000\n",
      "    Theoretical mean: 2.000000\n",
      "    Theoretical variance: 4.000000\n",
      "    Sample mean: 2.001676\n",
      "    Sample var: 3.989941\n",
      "--- theta = 0.7500\n",
      "    Theoretical mean: 0.666667\n",
      "    Theoretical variance: 0.888889\n",
      "    Sample mean: 0.667212\n",
      "    Sample var: 0.889092\n",
      "--- theta = 0.9000\n",
      "    Theoretical mean: 0.222222\n",
      "    Theoretical variance: 0.246914\n",
      "    Sample mean: 0.221348\n",
      "    Sample var: 0.244829\n"
     ]
    }
   ],
   "source": [
    "print(\"Geometric distribution\")\n",
    "sim_dist_thetas(log_a_nb(2), log_phi_nb(2), sup_nb, [0.1, 0.25, 0.5, 0.75, 0.9], n, E_nb, Var_nb, q = 2)"
   ]
  },
  {
   "cell_type": "markdown",
   "id": "97ffdd4d-422d-40b1-866a-f7c2fb83aa88",
   "metadata": {},
   "source": [
    "## Bin(q = 1) distribution (Bernoulli)"
   ]
  },
  {
   "cell_type": "code",
   "execution_count": 9,
   "id": "3a6f1be5-dfe0-462b-8379-f74c19fa162c",
   "metadata": {},
   "outputs": [
    {
     "name": "stdout",
     "output_type": "stream",
     "text": [
      "Bernoulli distribution\n",
      "--- theta = 0.1000\n",
      "    Theoretical mean: 0.100000\n",
      "    Theoretical variance: 0.090000\n",
      "    Sample mean: 0.100034\n",
      "    Sample var: 0.090027\n",
      "--- theta = 0.2500\n",
      "    Theoretical mean: 0.250000\n",
      "    Theoretical variance: 0.187500\n",
      "    Sample mean: 0.250198\n",
      "    Sample var: 0.187599\n",
      "--- theta = 0.5000\n",
      "    Theoretical mean: 0.500000\n",
      "    Theoretical variance: 0.250000\n",
      "    Sample mean: 0.498894\n",
      "    Sample var: 0.249999\n",
      "--- theta = 0.7500\n",
      "    Theoretical mean: 0.750000\n",
      "    Theoretical variance: 0.187500\n",
      "    Sample mean: 0.751434\n",
      "    Sample var: 0.186781\n",
      "--- theta = 0.9000\n",
      "    Theoretical mean: 0.900000\n",
      "    Theoretical variance: 0.090000\n",
      "    Sample mean: 0.900070\n",
      "    Sample var: 0.089944\n"
     ]
    }
   ],
   "source": [
    "print(\"Bernoulli distribution\")\n",
    "sim_dist_thetas(log_a_bin(1), log_phi_bin(1), sup_bin(1), [0.1, 0.25, 0.5, 0.75, 0.9], n, E_bin, Var_bin, q = 1)"
   ]
  },
  {
   "cell_type": "markdown",
   "id": "d74452ea-dd8b-4901-94f6-c6c0ed384f04",
   "metadata": {},
   "source": [
    "## Bin(q = 20) distribution"
   ]
  },
  {
   "cell_type": "code",
   "execution_count": 10,
   "id": "b2f95930-5f36-477c-a35b-b00150acf9f4",
   "metadata": {},
   "outputs": [
    {
     "name": "stdout",
     "output_type": "stream",
     "text": [
      "Bernoulli distribution\n",
      "--- theta = 0.1000\n",
      "    Theoretical mean: 2.000000\n",
      "    Theoretical variance: 1.800000\n",
      "    Sample mean: 1.996498\n",
      "    Sample var: 1.799394\n",
      "--- theta = 0.2500\n",
      "    Theoretical mean: 5.000000\n",
      "    Theoretical variance: 3.750000\n",
      "    Sample mean: 4.998596\n",
      "    Sample var: 3.747694\n",
      "--- theta = 0.5000\n",
      "    Theoretical mean: 10.000000\n",
      "    Theoretical variance: 5.000000\n",
      "    Sample mean: 9.997152\n",
      "    Sample var: 5.004980\n",
      "--- theta = 0.7500\n",
      "    Theoretical mean: 15.000000\n",
      "    Theoretical variance: 3.750000\n",
      "    Sample mean: 15.004490\n",
      "    Sample var: 3.741110\n",
      "--- theta = 0.9000\n",
      "    Theoretical mean: 18.000000\n",
      "    Theoretical variance: 1.800000\n",
      "    Sample mean: 18.002872\n",
      "    Sample var: 1.802384\n"
     ]
    }
   ],
   "source": [
    "print(\"Bernoulli distribution\")\n",
    "sim_dist_thetas(log_a_bin(20), log_phi_bin(20), sup_bin(20), [0.1, 0.25, 0.5, 0.75, 0.9], n, E_bin, Var_bin, q = 20)"
   ]
  },
  {
   "cell_type": "markdown",
   "id": "8ff48cd1-0ee6-403e-a53d-b2eeb1e643ce",
   "metadata": {},
   "source": [
    "## Borel distribution"
   ]
  },
  {
   "cell_type": "code",
   "execution_count": 11,
   "id": "3b5c6883-3018-408c-865a-379ae8de445d",
   "metadata": {},
   "outputs": [
    {
     "name": "stdout",
     "output_type": "stream",
     "text": [
      "Borel distribution\n",
      "--- theta = 0.1000\n",
      "    Theoretical mean: 0.111111\n",
      "    Theoretical variance: 0.137174\n",
      "    Sample mean: 0.111124\n",
      "    Sample var: 0.136591\n",
      "--- theta = 0.2500\n",
      "    Theoretical mean: 0.333333\n",
      "    Theoretical variance: 0.592593\n",
      "    Sample mean: 0.333254\n",
      "    Sample var: 0.591364\n",
      "--- theta = 0.5000\n",
      "    Theoretical mean: 1.000000\n",
      "    Theoretical variance: 4.000000\n",
      "    Sample mean: 1.002470\n",
      "    Sample var: 4.044468\n",
      "--- theta = 0.7500\n",
      "    Theoretical mean: 3.000000\n",
      "    Theoretical variance: 48.000000\n",
      "    Sample mean: 2.976798\n",
      "    Sample var: 46.565624\n",
      "--- theta = 0.9000\n",
      "    Theoretical mean: 9.000000\n",
      "    Theoretical variance: 900.000000\n",
      "    Sample mean: 8.950290\n",
      "    Sample var: 886.998799\n"
     ]
    }
   ],
   "source": [
    "print(\"Borel distribution\")\n",
    "sim_dist_thetas(log_a_borel, log_phi_borel, sup_borel, [0.1, 0.25, 0.5, 0.75, 0.9], n, E_borel, Var_borel, q = None)"
   ]
  },
  {
   "cell_type": "markdown",
   "id": "983c0dc8-0a42-4a3f-b307-0a52fe39085b",
   "metadata": {},
   "source": [
    "## RGP(q = 2) distribution"
   ]
  },
  {
   "cell_type": "code",
   "execution_count": 12,
   "id": "6612a4ce-86d5-47ed-8fbd-ba20ca701f09",
   "metadata": {},
   "outputs": [
    {
     "name": "stdout",
     "output_type": "stream",
     "text": [
      "RGP distribution\n",
      "--- theta = 0.1000\n",
      "    Theoretical mean: 0.125000\n",
      "    Theoretical variance: 0.195312\n",
      "    Sample mean: 0.124226\n",
      "    Sample var: 0.194018\n",
      "--- theta = 0.2000\n",
      "    Theoretical mean: 0.333333\n",
      "    Theoretical variance: 0.925926\n",
      "    Sample mean: 0.331648\n",
      "    Sample var: 0.920970\n",
      "--- theta = 0.3000\n",
      "    Theoretical mean: 0.750000\n",
      "    Theoretical variance: 4.687500\n",
      "    Sample mean: 0.748172\n",
      "    Sample var: 4.695171\n",
      "--- theta = 0.4000\n",
      "    Theoretical mean: 2.000000\n",
      "    Theoretical variance: 50.000000\n",
      "    Sample mean: 2.010076\n",
      "    Sample var: 49.888846\n",
      "--- theta = 0.4900\n",
      "    Theoretical mean: 24.500000\n",
      "    Theoretical variance: 61250.000000\n",
      "    Sample mean: 24.348680\n",
      "    Sample var: 60359.225182\n"
     ]
    }
   ],
   "source": [
    "print(\"RGP distribution\")\n",
    "sim_dist_thetas(log_a_rgp(2), log_phi_rgp(2), sup_rgp(2), [0.1, 0.2, 0.3, 0.4, 0.49], n, E_rgp, Var_rgp, q = 2)"
   ]
  },
  {
   "cell_type": "markdown",
   "id": "7506920d-641a-481e-8414-29bb5f2edcb7",
   "metadata": {},
   "source": [
    "## RGP(q = -1/10) distribution"
   ]
  },
  {
   "cell_type": "code",
   "execution_count": 13,
   "id": "eca7419e-fc8b-4a8e-afcd-626f00552abb",
   "metadata": {},
   "outputs": [
    {
     "name": "stdout",
     "output_type": "stream",
     "text": [
      "RGP distribution\n",
      "--- theta = 0.5000\n",
      "    Theoretical mean: 0.476190\n",
      "    Theoretical variance: 0.431919\n",
      "    Sample mean: 0.477178\n",
      "    Sample var: 0.432679\n",
      "--- theta = 1.0000\n",
      "    Theoretical mean: 0.909091\n",
      "    Theoretical variance: 0.751315\n",
      "    Sample mean: 0.909068\n",
      "    Sample var: 0.751095\n",
      "--- theta = 2.0000\n",
      "    Theoretical mean: 1.666667\n",
      "    Theoretical variance: 1.157407\n",
      "    Sample mean: 1.667560\n",
      "    Sample var: 1.158664\n",
      "--- theta = 5.0000\n",
      "    Theoretical mean: 3.333333\n",
      "    Theoretical variance: 1.481481\n",
      "    Sample mean: 3.334426\n",
      "    Sample var: 1.486809\n",
      "--- theta = 9.0000\n",
      "    Theoretical mean: 4.736842\n",
      "    Theoretical variance: 1.312145\n",
      "    Sample mean: 4.738218\n",
      "    Sample var: 1.310188\n"
     ]
    }
   ],
   "source": [
    "print(\"RGP distribution\")\n",
    "sim_dist_thetas(log_a_rgp(-1/10), log_phi_rgp(-1/10), sup_rgp(-1/10), [0.5, 1, 2, 5, 9], n, E_rgp, Var_rgp, q = -1/10)"
   ]
  },
  {
   "cell_type": "markdown",
   "id": "98cfad1b-122a-4462-82e9-8b4eae1678c2",
   "metadata": {},
   "source": [
    "## Haight distribution"
   ]
  },
  {
   "cell_type": "code",
   "execution_count": 14,
   "id": "753c948c-627d-41aa-9470-312a7b44c71a",
   "metadata": {},
   "outputs": [
    {
     "name": "stdout",
     "output_type": "stream",
     "text": [
      "Haight distribution\n",
      "--- theta = 0.1000\n",
      "    Theoretical mean: 0.125000\n",
      "    Theoretical variance: 0.175781\n",
      "    Sample mean: 0.124894\n",
      "    Sample var: 0.177027\n",
      "--- theta = 0.2000\n",
      "    Theoretical mean: 0.333333\n",
      "    Theoretical variance: 0.740741\n",
      "    Sample mean: 0.333814\n",
      "    Sample var: 0.743954\n",
      "--- theta = 0.3000\n",
      "    Theoretical mean: 0.750000\n",
      "    Theoretical variance: 3.281250\n",
      "    Sample mean: 0.749240\n",
      "    Sample var: 3.269339\n",
      "--- theta = 0.4000\n",
      "    Theoretical mean: 2.000000\n",
      "    Theoretical variance: 30.000000\n",
      "    Sample mean: 1.986384\n",
      "    Sample var: 29.682899\n",
      "--- theta = 0.4900\n",
      "    Theoretical mean: 24.500000\n",
      "    Theoretical variance: 31237.500000\n",
      "    Sample mean: 24.513788\n",
      "    Sample var: 32060.419302\n"
     ]
    }
   ],
   "source": [
    "print(\"Haight distribution\")\n",
    "sim_dist_thetas(log_a_haight, log_phi_haight, sup_haight, [0.1, 0.2, 0.3, 0.4, 0.49], n, E_haight, Var_haight, q = None)"
   ]
  },
  {
   "cell_type": "markdown",
   "id": "ce1d0f46-9b5c-4e2d-8732-8dcc87dc1e58",
   "metadata": {},
   "source": [
    "## Geeta(q = 3) distribution"
   ]
  },
  {
   "cell_type": "code",
   "execution_count": 15,
   "id": "a7ba1b06-fd6d-402e-9aca-349415e8e970",
   "metadata": {},
   "outputs": [
    {
     "name": "stdout",
     "output_type": "stream",
     "text": [
      "Geeta distribution (q = 3)\n",
      "--- theta = 0.0500\n",
      "    Theoretical mean: 0.117647\n",
      "    Theoretical variance: 0.154692\n",
      "    Sample mean: 0.117660\n",
      "    Sample var: 0.154936\n",
      "--- theta = 0.1000\n",
      "    Theoretical mean: 0.285714\n",
      "    Theoretical variance: 0.524781\n",
      "    Sample mean: 0.284208\n",
      "    Sample var: 0.519750\n",
      "--- theta = 0.2000\n",
      "    Theoretical mean: 1.000000\n",
      "    Theoretical variance: 5.000000\n",
      "    Sample mean: 1.000426\n",
      "    Sample var: 5.011970\n",
      "--- theta = 0.3000\n",
      "    Theoretical mean: 6.000000\n",
      "    Theoretical variance: 420.000000\n",
      "    Sample mean: 6.023440\n",
      "    Sample var: 414.106551\n",
      "--- theta = 0.3300\n",
      "    Theoretical mean: 66.000000\n",
      "    Theoretical variance: 442200.000000\n",
      "    Sample mean: 67.048758\n",
      "    Sample var: 480890.076613\n"
     ]
    }
   ],
   "source": [
    "print(\"Geeta distribution (q = 3)\")\n",
    "sim_dist_thetas(log_a_geeta(3), log_phi_geeta(3), sup_geeta, [0.05, 0.1, 0.2, 0.3, 0.33], n, E_geeta, Var_geeta, q = 3)"
   ]
  }
 ],
 "metadata": {
  "kernelspec": {
   "display_name": "Python 3 (ipykernel)",
   "language": "python",
   "name": "python3"
  },
  "language_info": {
   "codemirror_mode": {
    "name": "ipython",
    "version": 3
   },
   "file_extension": ".py",
   "mimetype": "text/x-python",
   "name": "python",
   "nbconvert_exporter": "python",
   "pygments_lexer": "ipython3",
   "version": "3.9.12"
  }
 },
 "nbformat": 4,
 "nbformat_minor": 5
}
