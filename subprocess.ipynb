{
 "cells": [
  {
   "cell_type": "code",
   "execution_count": 1,
   "id": "579cb74f-6bdc-45d8-8366-1d189667dc7b",
   "metadata": {},
   "outputs": [
    {
     "name": "stderr",
     "output_type": "stream",
     "text": [
      "WARNING: All log messages before absl::InitializeLog() is called are written to STDERR\n",
      "E0000 00:00:1740211717.356269  153958 cuda_dnn.cc:8310] Unable to register cuDNN factory: Attempting to register factory for plugin cuDNN when one has already been registered\n",
      "E0000 00:00:1740211717.359897  153958 cuda_blas.cc:1418] Unable to register cuBLAS factory: Attempting to register factory for plugin cuBLAS when one has already been registered\n",
      "I0000 00:00:1740211719.465197  153958 gpu_device.cc:2022] Created device /job:localhost/replica:0/task:0/device:GPU:0 with 3844 MB memory:  -> device: 0, name: NVIDIA GeForce RTX 3050 6GB Laptop GPU, pci bus id: 0000:01:00.0, compute capability: 8.6\n",
      "/home/natan/.pyenv/versions/3.10.16/lib/python3.10/site-packages/tqdm/auto.py:21: TqdmWarning: IProgress not found. Please update jupyter and ipywidgets. See https://ipywidgets.readthedocs.io/en/stable/user_install.html\n",
      "  from .autonotebook import tqdm as notebook_tqdm\n"
     ]
    }
   ],
   "source": [
    "import numpy as np\n",
    "import pandas as pd\n",
    "from matplotlib import pyplot as plt\n",
    "import random\n",
    "\n",
    "from scipy.special import comb, loggamma, lambertw\n",
    "from scipy.stats import multinomial, expon\n",
    "\n",
    "from silence_tensorflow import silence_tensorflow\n",
    "silence_tensorflow()\n",
    "import tensorflow as tf\n",
    "import tensorflow_probability as tfp\n",
    "\n",
    "config = tf.compat.v1.ConfigProto()\n",
    "config.gpu_options.allow_growth = True\n",
    "sess = tf.compat.v1.Session(config = config)\n",
    "\n",
    "import os, shutil\n",
    "import json\n",
    "import subprocess\n",
    "\n",
    "from net_model import *\n",
    "from custom_model import *\n",
    "from mps_models import *\n",
    "\n",
    "import mps\n",
    "import pwexp"
   ]
  },
  {
   "cell_type": "markdown",
   "id": "da7aefba-c0e3-4ef5-96c0-d5f6e8b946f6",
   "metadata": {},
   "source": [
    "# Load data"
   ]
  },
  {
   "cell_type": "markdown",
   "id": "d98bdb0d-a68a-4abe-bd3a-eaead64902d5",
   "metadata": {},
   "source": [
    "# Simulação"
   ]
  },
  {
   "cell_type": "code",
   "execution_count": 2,
   "id": "095a629a-d6d1-48be-9495-f804c6d19bf1",
   "metadata": {},
   "outputs": [],
   "source": [
    "fashion_mnist = tf.keras.datasets.fashion_mnist\n",
    "(train_images, train_labels), (test_images, test_labels) = fashion_mnist.load_data()\n",
    "\n",
    "i_valid_train = pd.Series(train_labels).isin([0,1,2,3,4]).to_numpy()\n",
    "i_valid_test = pd.Series(test_labels).isin([0,1,2,3,4]).to_numpy()\n",
    "\n",
    "# Filters to take only the images with labels in [0, 1, 2, 3, 4]\n",
    "train_images = train_images[i_valid_train]\n",
    "train_images = train_images / np.max(train_images)\n",
    "train_shape = train_images.shape\n",
    "# Adds one more dimension for keras to identify the \"colors\" dimension\n",
    "train_images = np.reshape(train_images, (train_shape[0], train_shape[1], train_shape[2], 1))\n",
    "\n",
    "test_images = test_images[i_valid_test]\n",
    "test_images = test_images / np.max(test_images)\n",
    "test_shape = test_images.shape\n",
    "# Adds one more dimension for keras to identify the \"colors\" dimension\n",
    "test_images = np.reshape(test_images, (test_shape[0], test_shape[1], test_shape[2], 1))\n",
    "\n",
    "train_labels = train_labels[i_valid_train]\n",
    "test_labels = test_labels[i_valid_test]"
   ]
  },
  {
   "cell_type": "code",
   "execution_count": 3,
   "id": "e2e77af7-f43d-47b1-8771-d7b162b89d7e",
   "metadata": {},
   "outputs": [],
   "source": [
    "def load_file(data_dir, file_index, distribution, train_images, test_images):\n",
    "    '''\n",
    "        Example:\n",
    "            data_dir = \"SimulationDataset/Scenario1/n500\"\n",
    "            file_index = 20\n",
    "            distribution = \"poisson\"\n",
    "    '''\n",
    "    index_path = \"{}/indices_{}.csv\".format(data_dir, file_index, distribution)\n",
    "    data_path = \"{}/{}/data_{}.csv\".format(data_dir, distribution, file_index)\n",
    "    df_index = pd.read_csv(index_path)\n",
    "    df_data = pd.read_csv(data_path)\n",
    "\n",
    "    index_train = df_index.loc[df_index.set == \"train\",\"index\"].to_numpy()\n",
    "    index_val = df_index.loc[df_index.set == \"val\",\"index\"].to_numpy()\n",
    "    index_test = df_index.loc[df_index.set == \"test\",\"index\"].to_numpy()\n",
    "\n",
    "    # Values for the thetas\n",
    "    theta_train = df_data.loc[df_data.set == \"train\", \"theta\"]\n",
    "    theta_val = df_data.loc[df_data.set == \"val\", \"theta\"]\n",
    "    theta_test = df_data.loc[df_data.set == \"test\", \"theta\"]\n",
    "    # Values for the latent variable\n",
    "    m_train = df_data.loc[df_data.set == \"train\", \"m\"]\n",
    "    m_val = df_data.loc[df_data.set == \"val\", \"m\"]\n",
    "    m_test = df_data.loc[df_data.set == \"test\", \"m\"]\n",
    "    # Values for the time variable\n",
    "    t_train = df_data.loc[df_data.set == \"train\", \"t\"]\n",
    "    t_val = df_data.loc[df_data.set == \"val\", \"t\"]\n",
    "    t_test = df_data.loc[df_data.set == \"test\", \"t\"]\n",
    "    # Values for the censorship indicators\n",
    "    delta_train = df_data.loc[df_data.set == \"train\", \"delta\"]\n",
    "    delta_val = df_data.loc[df_data.set == \"val\", \"delta\"]\n",
    "    delta_test = df_data.loc[df_data.set == \"test\", \"delta\"]\n",
    "\n",
    "    img_train = train_images[index_train,:,:]\n",
    "    img_val = train_images[index_val,:,:]\n",
    "    img_test = test_images[index_test,:,:]\n",
    "\n",
    "    result = {\n",
    "        \"theta_train\": theta_train, \"theta_val\": theta_val, \"theta_test\": theta_test,\n",
    "        \"m_train\": m_train, \"m_val\": m_val, \"m_test\": m_test,\n",
    "        \"t_train\": t_train, \"t_val\": t_val, \"t_test\": t_test,\n",
    "        \"delta_train\": delta_train, \"delta_val\": delta_val, \"delta_test\": delta_test,\n",
    "        \"img_train\": img_train, \"img_val\": img_val, \"img_test\": img_test,\n",
    "        \"index_train\": index_train, \"index_val\": index_val, \"index_test\": index_test\n",
    "    }\n",
    "    \n",
    "    return result"
   ]
  },
  {
   "cell_type": "code",
   "execution_count": 4,
   "id": "bdebeceb-cde9-443d-a553-465190fce419",
   "metadata": {},
   "outputs": [
    {
     "name": "stdout",
     "output_type": "stream",
     "text": [
      "Creating directories structure\n"
     ]
    }
   ],
   "source": [
    "import os, shutil\n",
    "from pathlib import Path\n",
    "\n",
    "print(\"Creating directories structure\")\n",
    "dists_scenario1 = [\"poisson\", \"logarithmic\", \"geometric\", \"mvnb2\", \"bernoulli\", \"bin5\"]\n",
    "dists_scenario2 = [\"borel\", \"rgp2\", \"rgp10\", \"haight\", \"geeta3\"]\n",
    "for dist in dists_scenario1:\n",
    "    Path(\"SimulationResults/Scenario1/n500/{}\".format(dist)).mkdir(parents=True, exist_ok=True)\n",
    "    Path(\"SimulationResults/Scenario1/n1000/{}\".format(dist)).mkdir(parents=True, exist_ok=True)\n",
    "    Path(\"SimulationResults/Scenario1/n3000/{}\".format(dist)).mkdir(parents=True, exist_ok=True)\n",
    "for dist in dists_scenario2:\n",
    "    Path(\"SimulationResults/Scenario2/n500/{}\".format(dist)).mkdir(parents=True, exist_ok=True)\n",
    "    Path(\"SimulationResults/Scenario2/n1000/{}\".format(dist)).mkdir(parents=True, exist_ok=True)\n",
    "    Path(\"SimulationResults/Scenario2/n3000/{}\".format(dist)).mkdir(parents=True, exist_ok=True)"
   ]
  },
  {
   "cell_type": "code",
   "execution_count": 5,
   "id": "968f742b-3273-4cbf-af58-ec5dca01448a",
   "metadata": {},
   "outputs": [],
   "source": [
    "def fit_cure_model(distribution, q,\n",
    "                   t_train, t_val,\n",
    "                   delta_train, delta_val,\n",
    "                   img_train, img_val,\n",
    "                   batch_size = None,\n",
    "                   seed = 1):\n",
    "    set_all_seeds(seed)\n",
    "    \n",
    "    alpha0, s_t = initialize_alpha_s(t_train, n_cuts = 5)\n",
    "    \n",
    "    if(distribution == \"poisson\"):      \n",
    "        log_a_str = log_a_poisson_str\n",
    "        log_phi_str = log_phi_poisson_str\n",
    "        C_str = C_poisson_str\n",
    "        C_inv_str = C_inv_poisson_str\n",
    "        sup_str = sup_poisson_str\n",
    "        theta_min = None\n",
    "        theta_max = None\n",
    "    elif(distribution == \"logarithmic\"):\n",
    "        log_a_str = log_a_log_str\n",
    "        log_phi_str = log_phi_log_str\n",
    "        C_str = C_log_str\n",
    "        C_inv_str = C_inv_log_str\n",
    "        sup_str = sup_log_str\n",
    "        theta_min = 0\n",
    "        theta_max = 1\n",
    "    elif(distribution == \"nb\" or distribution == \"mvnb\"):\n",
    "        if(q is None):\n",
    "            raise Exception(\"Please, specify the fixed parameter (q) for the distribution.\")\n",
    "        # In the EM.py file, we must ensure that q is of type tf.float64 for it to work properly\n",
    "        q_argument = \"tf.constant({}, dtype = tf.float64)\".format(q)\n",
    "        log_a_str = log_a_mvnb_str.format(q_argument)\n",
    "        log_phi_str = log_phi_mvnb_str.format(q_argument)\n",
    "        C_str = C_mvnb_str.format(q_argument)\n",
    "        C_inv_str = C_inv_mvnb_str.format(q_argument)\n",
    "        sup_str = sup_mvnb_str.format(q_argument)\n",
    "        theta_min = None\n",
    "        theta_max = None\n",
    "    elif(distribution == \"geometric\"):\n",
    "        # In the EM.py file, we must ensure that q is of type tf.float64 for it to work properly\n",
    "        q_argument = \"tf.constant(1, dtype = tf.float64)\"\n",
    "        log_a_str = log_a_mvnb_str.format(q_argument)\n",
    "        log_phi_str = log_phi_mvnb_str.format(q_argument)\n",
    "        C_str = C_mvnb_str.format(q_argument)\n",
    "        C_inv_str = C_inv_mvnb_str.format(q_argument)\n",
    "        sup_str = sup_mvnb_str.format(q_argument)\n",
    "        theta_min = None\n",
    "        theta_max = None\n",
    "    elif(distribution == \"binomial\"): \n",
    "        if(q is None):\n",
    "            raise Exception(\"Please, specify the fixed parameter (q) for the distribution.\")\n",
    "        # In the EM.py file, we must ensure that q is of type tf.float64 for it to work properly\n",
    "        q_argument = \"tf.constant({}, dtype = tf.float64)\".format(q)\n",
    "        log_a_str = log_a_bin_str.format(q_argument)\n",
    "        log_phi_str = log_phi_bin_str.format(q_argument)\n",
    "        C_str = C_bin_str.format(q_argument)\n",
    "        C_inv_str = C_inv_bin_str.format(q_argument)\n",
    "        sup_str = sup_bin_str.format(q_argument)\n",
    "        theta_min = 0\n",
    "        theta_max = 1\n",
    "    elif(distribution == \"bernoulli\"):\n",
    "        # In the EM.py file, we must ensure that q is of type tf.float64 for it to work properly\n",
    "        q_argument = \"tf.constant(1, dtype = tf.float64)\"\n",
    "        log_a_str = log_a_bin_str.format(q_argument)\n",
    "        log_phi_str = log_phi_bin_str.format(q_argument)\n",
    "        C_str = C_bin_str.format(q_argument)\n",
    "        C_inv_str = C_inv_bin_str.format(q_argument)\n",
    "        sup_str = sup_bin_str.format(q_argument)\n",
    "        theta_min = 0\n",
    "        theta_max = 1\n",
    "    elif(distribution == \"rgp\"):\n",
    "        if(q is None):\n",
    "            raise Exception(\"Please, specify the fixed parameter (q) for the distribution.\")\n",
    "        # In the EM.py file, we must ensure that q is of type tf.float64 for it to work properly\n",
    "        q_argument = \"tf.constant({}, dtype = tf.float64)\".format(q)\n",
    "        log_a_str = log_a_rgp_str.format(q_argument)\n",
    "        log_phi_str = log_phi_rgp_str.format(q_argument)\n",
    "        C_str = C_rgp_str.format(q_argument)\n",
    "        C_inv_str = C_inv_rgp_str.format(q_argument)\n",
    "        sup_str = sup_rgp_str.format(q_argument)\n",
    "        theta_min = 0\n",
    "        theta_max = np.abs(1/q)\n",
    "    elif(distribution == \"borel\"):\n",
    "        # In the EM.py file, we must ensure that q is of type tf.float64 for it to work properly\n",
    "        q_argument = \"tf.constant(1, dtype = tf.float64)\"\n",
    "        log_a_str = log_a_rgp_str.format(q_argument)\n",
    "        log_phi_str = log_phi_rgp_str.format(q_argument)\n",
    "        C_str = C_rgp_str.format(q_argument)\n",
    "        C_inv_str = C_inv_rgp_str.format(q_argument)\n",
    "        sup_str = sup_rgp_str.format(q_argument)\n",
    "        theta_min = 0\n",
    "        theta_max = 1\n",
    "    elif(distribution == \"geeta\"):\n",
    "        if(q is None):\n",
    "            raise Exception(\"Please, specify the fixed parameter (q) for the distribution.\")\n",
    "        # In the EM.py file, we must ensure that q is of type tf.float64 for it to work properly\n",
    "        q_argument = \"tf.constant({}, dtype = tf.float64)\".format(q)\n",
    "        log_a_str = log_a_geeta_str.format(q_argument)\n",
    "        log_phi_str = log_phi_geeta_str.format(q_argument)\n",
    "        C_str = C_geeta_str.format(q_argument)\n",
    "        C_inv_str = C_inv_geeta_str.format(q_argument)\n",
    "        sup_str = sup_geeta_str.format(q_argument)\n",
    "        theta_min = 0\n",
    "        theta_max = np.abs(1/q)\n",
    "    elif(distribution == \"haight\"):\n",
    "        # In the EM.py file, we must ensure that q is of type tf.float64 for it to work properly\n",
    "        q_argument = \"tf.constant(2, dtype = tf.float64)\"\n",
    "        log_a_str = log_a_geeta_str.format(q_argument)\n",
    "        log_phi_str = log_phi_geeta_str.format(q_argument)\n",
    "        C_str = C_geeta_str.format(q_argument)\n",
    "        C_inv_str = C_inv_geeta_str.format(q_argument)\n",
    "        sup_str = sup_geeta_str.format(q_argument)\n",
    "        theta_min = 0\n",
    "        theta_max = 1/2\n",
    "\n",
    "    print(sup_str)\n",
    "    \n",
    "    # Because it only serves to initialize the model weights, the distribution does not matter in this case (that's why we use the Poisson here)\n",
    "    mps_model = MPScrModel(log_a_poisson_tf, log_phi_poisson_tf, C_poisson_tf, C_inv_poisson_tf, sup_poisson)\n",
    "    mps_model.define_structure(shape_input = img_train[0].shape)\n",
    "\n",
    "    # If batch_size is null, use just one big batch\n",
    "    if(batch_size is None):\n",
    "        batch_size = len(t_train)\n",
    "    \n",
    "    results = call_EM(\"EM.py\",\n",
    "                      log_a_str, log_phi_str, C_str, C_inv_str, sup_str, theta_min, theta_max,\n",
    "                      mps_model, alpha0, s_t,\n",
    "                      img_train, t_train, delta_train, delta_train,\n",
    "                      max_iterations = 60,\n",
    "                      early_stopping_em = True, early_stopping_em_warmup = 5, early_stopping_em_eps = 1.0e-6,\n",
    "                      epochs = 100, batch_size = 64, shuffle = True,\n",
    "                      learning_rate = 0.001, run_eagerly = True,\n",
    "                      early_stopping_nn = True, early_stopping_min_delta_nn = 0.0, early_stopping_patience_nn = 5,\n",
    "                      reduce_lr = True, reduce_lr_steps = 10, reduce_lr_factor = 0.1,\n",
    "                      validation = True,\n",
    "                      x_val = img_val, t_val = t_val, delta_val = delta_val, m_val = delta_val,\n",
    "                      verbose = 3, alpha_known = False)\n",
    "    return results"
   ]
  },
  {
   "cell_type": "code",
   "execution_count": 29,
   "id": "54355e2e-9901-4c0b-a450-e801e2167749",
   "metadata": {},
   "outputs": [
    {
     "name": "stdout",
     "output_type": "stream",
     "text": [
      "Keys: ['theta_train', 'theta_val', 'theta_test', 'm_train', 'm_val', 'm_test', 't_train', 't_val', 't_test', 'delta_train', 'delta_val', 'delta_test', 'img_train', 'img_val', 'img_test', 'index_train', 'index_val', 'index_test']\n"
     ]
    }
   ],
   "source": [
    "file_info = load_file(\"SimulationDataset/Scenario2/n1000/\", 1, \"borel\", train_images, test_images)\n",
    "print( \"Keys: {}\".format(list(file_info.keys())) )"
   ]
  },
  {
   "cell_type": "code",
   "execution_count": 12,
   "id": "2a291023-00ad-4b6d-a2ad-bf24f0fa261d",
   "metadata": {},
   "outputs": [],
   "source": [
    "alpha0, s_t = initialize_alpha_s(file_info[\"t_train\"], n_cuts = 5)"
   ]
  },
  {
   "cell_type": "code",
   "execution_count": 13,
   "id": "d833513a-9418-4653-9eaf-1fefa8481c6a",
   "metadata": {},
   "outputs": [
    {
     "name": "stdout",
     "output_type": "stream",
     "text": [
      "sup_rgp(tf.constant(1, dtype = tf.float64))\n"
     ]
    },
    {
     "name": "stderr",
     "output_type": "stream",
     "text": [
      "/home/natan/.pyenv/versions/3.10.16/lib/python3.10/site-packages/keras/src/layers/convolutional/base_conv.py:107: UserWarning: Do not pass an `input_shape`/`input_dim` argument to a layer. When using Sequential models, prefer using an `Input(shape)` object as the first layer in the model instead.\n",
      "  super().__init__(activity_regularizer=activity_regularizer, **kwargs)\n",
      "WARNING: All log messages before absl::InitializeLog() is called are written to STDERR\n",
      "E0000 00:00:1740212330.904879  161502 cuda_dnn.cc:8310] Unable to register cuDNN factory: Attempting to register factory for plugin cuDNN when one has already been registered\n",
      "E0000 00:00:1740212330.908638  161502 cuda_blas.cc:1418] Unable to register cuBLAS factory: Attempting to register factory for plugin cuBLAS when one has already been registered\n",
      "I0000 00:00:1740212334.245944  161502 gpu_device.cc:2022] Created device /job:localhost/replica:0/task:0/device:GPU:0 with 3676 MB memory:  -> device: 0, name: NVIDIA GeForce RTX 3050 6GB Laptop GPU, pci bus id: 0000:01:00.0, compute capability: 8.6\n",
      "I0000 00:00:1740212334.274179  161502 gpu_device.cc:2022] Created device /job:localhost/replica:0/task:0/device:GPU:0 with 3676 MB memory:  -> device: 0, name: NVIDIA GeForce RTX 3050 6GB Laptop GPU, pci bus id: 0000:01:00.0, compute capability: 8.6\n",
      "/home/natan/.pyenv/versions/3.10.16/lib/python3.10/site-packages/keras/src/layers/convolutional/base_conv.py:107: UserWarning: Do not pass an `input_shape`/`input_dim` argument to a layer. When using Sequential models, prefer using an `Input(shape)` object as the first layer in the model instead.\n",
      "  super().__init__(activity_regularizer=activity_regularizer, **kwargs)\n",
      "I0000 00:00:1740212335.125835  161502 cuda_dnn.cc:529] Loaded cuDNN version 90300\n"
     ]
    },
    {
     "name": "stdout",
     "output_type": "stream",
     "text": [
      "Warning: The cure probability for this model lies between 0.367879 and 1.000000\n",
      "Iniciando passo 1\n"
     ]
    },
    {
     "name": "stderr",
     "output_type": "stream",
     "text": [
      " 36%|███▌      | 36/100 [00:26<00:46,  1.36epoch/s, loss=1.18, loss_val=1.12] \n"
     ]
    },
    {
     "name": "stdout",
     "output_type": "stream",
     "text": [
      "Iniciando treinamento:\n",
      "Tamanho da amostra de treino: 1000\n",
      "Tamanho da amostra de validação: 214\n",
      "Distância Parâmetros Rede Neural: 0.00047711968912985347\n",
      "Distância Parâmetros Alpha: 0.6992395577006051\n",
      "Média das distâncias: 0.3498583386948675\n",
      "Iniciando passo 2\n"
     ]
    },
    {
     "name": "stderr",
     "output_type": "stream",
     "text": [
      " 16%|█▌        | 16/100 [00:10<00:52,  1.59epoch/s, loss=1.59, loss_val=1.71]\n"
     ]
    },
    {
     "name": "stdout",
     "output_type": "stream",
     "text": [
      "Iniciando treinamento:\n",
      "Tamanho da amostra de treino: 1000\n",
      "Tamanho da amostra de validação: 214\n",
      "Distância Parâmetros Rede Neural: 8.186887584370783e-05\n",
      "Distância Parâmetros Alpha: 0.18224067054401757\n",
      "Média das distâncias: 0.09116126970993065\n",
      "Iniciando passo 3\n"
     ]
    },
    {
     "name": "stderr",
     "output_type": "stream",
     "text": [
      "  9%|▉         | 9/100 [00:05<00:59,  1.54epoch/s, loss=2.6, loss_val=2.24] \n"
     ]
    },
    {
     "name": "stdout",
     "output_type": "stream",
     "text": [
      "Iniciando treinamento:\n",
      "Tamanho da amostra de treino: 1000\n",
      "Tamanho da amostra de validação: 214\n",
      "Distância Parâmetros Rede Neural: 1.433781360803244e-05\n",
      "Distância Parâmetros Alpha: 0.03864966091888405\n",
      "Média das distâncias: 0.01933199936624604\n",
      "Iniciando passo 4\n"
     ]
    },
    {
     "name": "stderr",
     "output_type": "stream",
     "text": [
      "  8%|▊         | 8/100 [00:05<01:05,  1.39epoch/s, loss=3.24, loss_val=0.0249] \n"
     ]
    },
    {
     "name": "stdout",
     "output_type": "stream",
     "text": [
      "Iniciando treinamento:\n",
      "Tamanho da amostra de treino: 1000\n",
      "Tamanho da amostra de validação: 214\n",
      "Distância Parâmetros Rede Neural: 5.604349357030808e-06\n",
      "Distância Parâmetros Alpha: 0.019156680286314256\n",
      "Média das distâncias: 0.009581142317835644\n",
      "Iniciando passo 5\n"
     ]
    },
    {
     "name": "stderr",
     "output_type": "stream",
     "text": [
      "  7%|▋         | 7/100 [00:04<01:01,  1.51epoch/s, loss=4.23, loss_val=3.44]     \n"
     ]
    },
    {
     "name": "stdout",
     "output_type": "stream",
     "text": [
      "Iniciando treinamento:\n",
      "Tamanho da amostra de treino: 1000\n",
      "Tamanho da amostra de validação: 214\n",
      "Distância Parâmetros Rede Neural: 8.369272048882198e-06\n",
      "Distância Parâmetros Alpha: 0.00612134136651318\n",
      "Média das distâncias: 0.003064855319281031\n",
      "Iniciando passo 6\n"
     ]
    },
    {
     "name": "stderr",
     "output_type": "stream",
     "text": [
      "  7%|▋         | 7/100 [00:04<01:01,  1.52epoch/s, loss=0.0209, loss_val=0.00964]\n"
     ]
    },
    {
     "name": "stdout",
     "output_type": "stream",
     "text": [
      "Iniciando treinamento:\n",
      "Tamanho da amostra de treino: 1000\n",
      "Tamanho da amostra de validação: 214\n",
      "Distância Parâmetros Rede Neural: 8.606345376074543e-06\n",
      "Distância Parâmetros Alpha: 0.0026169733752803887\n",
      "Média das distâncias: 0.0013127898603282316\n",
      "Iniciando passo 7\n"
     ]
    },
    {
     "name": "stderr",
     "output_type": "stream",
     "text": [
      "  8%|▊         | 8/100 [00:05<01:02,  1.47epoch/s, loss=2.83, loss_val=0.00802]\n"
     ]
    },
    {
     "name": "stdout",
     "output_type": "stream",
     "text": [
      "Iniciando treinamento:\n",
      "Tamanho da amostra de treino: 1000\n",
      "Tamanho da amostra de validação: 214\n",
      "Distância Parâmetros Rede Neural: 8.821835279097234e-06\n",
      "Distância Parâmetros Alpha: 0.0015918610789345865\n",
      "Média das distâncias: 0.0008003414571068418\n",
      "Iniciando passo 8\n"
     ]
    },
    {
     "name": "stderr",
     "output_type": "stream",
     "text": [
      "  6%|▌         | 6/100 [00:03<00:59,  1.57epoch/s, loss=3.35, loss_val=0.0275]  \n"
     ]
    },
    {
     "name": "stdout",
     "output_type": "stream",
     "text": [
      "Iniciando treinamento:\n",
      "Tamanho da amostra de treino: 1000\n",
      "Tamanho da amostra de validação: 214\n",
      "Distância Parâmetros Rede Neural: 6.552224517105339e-06\n",
      "Distância Parâmetros Alpha: 0.0008352495800619339\n",
      "Média das distâncias: 0.0004209009022895196\n",
      "Iniciando passo 9\n"
     ]
    },
    {
     "name": "stderr",
     "output_type": "stream",
     "text": [
      " 17%|█▋        | 17/100 [00:11<00:58,  1.42epoch/s, loss=9.2, loss_val=5.34]     \n"
     ]
    },
    {
     "name": "stdout",
     "output_type": "stream",
     "text": [
      "Iniciando treinamento:\n",
      "Tamanho da amostra de treino: 1000\n",
      "Tamanho da amostra de validação: 214\n",
      "Distância Parâmetros Rede Neural: 2.7272186521269813e-05\n",
      "Distância Parâmetros Alpha: 0.001880132413155217\n",
      "Média das distâncias: 0.0009537022998382434\n",
      "Iniciando passo 10\n"
     ]
    },
    {
     "name": "stderr",
     "output_type": "stream",
     "text": [
      " 14%|█▍        | 14/100 [00:08<00:51,  1.68epoch/s, loss=3.25, loss_val=0.0167]  \n"
     ]
    },
    {
     "name": "stdout",
     "output_type": "stream",
     "text": [
      "Iniciando treinamento:\n",
      "Tamanho da amostra de treino: 1000\n",
      "Tamanho da amostra de validação: 214\n",
      "Distância Parâmetros Rede Neural: 1.709500587157463e-05\n",
      "Distância Parâmetros Alpha: 0.0006540366840909118\n",
      "Média das distâncias: 0.00033556584498124325\n",
      "Learning rate reduzida para 0.0001\n",
      "Iniciando passo 11\n"
     ]
    },
    {
     "name": "stderr",
     "output_type": "stream",
     "text": [
      "  6%|▌         | 6/100 [00:03<01:00,  1.56epoch/s, loss=6.42, loss_val=0.0164]   \n"
     ]
    },
    {
     "name": "stdout",
     "output_type": "stream",
     "text": [
      "Iniciando treinamento:\n",
      "Tamanho da amostra de treino: 1000\n",
      "Tamanho da amostra de validação: 214\n",
      "Distância Parâmetros Rede Neural: 1.9482991006664664e-07\n",
      "Distância Parâmetros Alpha: 0.0002702918490974661\n",
      "Média das distâncias: 0.00013524333950376636\n",
      "Iniciando passo 12\n"
     ]
    },
    {
     "name": "stderr",
     "output_type": "stream",
     "text": [
      "  6%|▌         | 6/100 [00:03<01:00,  1.55epoch/s, loss=9.66, loss_val=0.0163]  \n"
     ]
    },
    {
     "name": "stdout",
     "output_type": "stream",
     "text": [
      "Iniciando treinamento:\n",
      "Tamanho da amostra de treino: 1000\n",
      "Tamanho da amostra de validação: 214\n",
      "Distância Parâmetros Rede Neural: 1.2667679731429488e-07\n",
      "Distância Parâmetros Alpha: 0.0002244571232517902\n",
      "Média das distâncias: 0.00011229190002455225\n",
      "Iniciando passo 13\n"
     ]
    },
    {
     "name": "stderr",
     "output_type": "stream",
     "text": [
      "  6%|▌         | 6/100 [00:03<00:58,  1.60epoch/s, loss=7.95, loss_val=0.0223]\n"
     ]
    },
    {
     "name": "stdout",
     "output_type": "stream",
     "text": [
      "Iniciando treinamento:\n",
      "Tamanho da amostra de treino: 1000\n",
      "Tamanho da amostra de validação: 214\n",
      "Distância Parâmetros Rede Neural: 7.527176312680995e-08\n",
      "Distância Parâmetros Alpha: 8.426035394645363e-05\n",
      "Média das distâncias: 4.216781285479022e-05\n",
      "Iniciando passo 14\n"
     ]
    },
    {
     "name": "stderr",
     "output_type": "stream",
     "text": [
      "  9%|▉         | 9/100 [00:05<00:56,  1.60epoch/s, loss=4.86, loss_val=0.0256]\n",
      "  0%|          | 0/100 [00:00<?, ?epoch/s]"
     ]
    },
    {
     "name": "stdout",
     "output_type": "stream",
     "text": [
      "Iniciando treinamento:\n",
      "Tamanho da amostra de treino: 1000\n",
      "Tamanho da amostra de validação: 214\n",
      "Distância Parâmetros Rede Neural: 3.8544149674515433e-07\n",
      "Distância Parâmetros Alpha: 9.444720015753075e-05\n",
      "Média das distâncias: 4.7416320827137956e-05\n",
      "Iniciando passo 15\n"
     ]
    },
    {
     "name": "stderr",
     "output_type": "stream",
     "text": [
      " 11%|█         | 11/100 [00:06<00:55,  1.60epoch/s, loss=0.0411, loss_val=0.0308]\n"
     ]
    },
    {
     "name": "stdout",
     "output_type": "stream",
     "text": [
      "Iniciando treinamento:\n",
      "Tamanho da amostra de treino: 1000\n",
      "Tamanho da amostra de validação: 214\n",
      "Distância Parâmetros Rede Neural: 6.010590765192321e-07\n",
      "Distância Parâmetros Alpha: 7.674014615683463e-06\n",
      "Média das distâncias: 4.137536846101347e-06\n",
      "Iniciando passo 16\n"
     ]
    },
    {
     "name": "stderr",
     "output_type": "stream",
     "text": [
      " 13%|█▎        | 13/100 [00:07<00:53,  1.64epoch/s, loss=7.84, loss_val=0.0299] \n"
     ]
    },
    {
     "name": "stdout",
     "output_type": "stream",
     "text": [
      "Iniciando treinamento:\n",
      "Tamanho da amostra de treino: 1000\n",
      "Tamanho da amostra de validação: 214\n",
      "Distância Parâmetros Rede Neural: 9.953906376576991e-07\n",
      "Distância Parâmetros Alpha: 2.4228579064680426e-06\n",
      "Média das distâncias: 1.7091242720628708e-06\n",
      "Iniciando passo 17\n"
     ]
    },
    {
     "name": "stderr",
     "output_type": "stream",
     "text": [
      " 11%|█         | 11/100 [00:06<00:55,  1.61epoch/s, loss=0.0188, loss_val=0.0458]\n"
     ]
    },
    {
     "name": "stdout",
     "output_type": "stream",
     "text": [
      "Iniciando treinamento:\n",
      "Tamanho da amostra de treino: 1000\n",
      "Tamanho da amostra de validação: 214\n",
      "Distância Parâmetros Rede Neural: 3.8961400628848807e-07\n",
      "Distância Parâmetros Alpha: 1.5013210116463908e-05\n",
      "Média das distâncias: 7.701412061376197e-06\n",
      "Iniciando passo 18\n"
     ]
    },
    {
     "name": "stderr",
     "output_type": "stream",
     "text": [
      " 11%|█         | 11/100 [00:06<00:55,  1.61epoch/s, loss=4.23, loss_val=0.0345] \n",
      "  0%|          | 0/100 [00:00<?, ?epoch/s]"
     ]
    },
    {
     "name": "stdout",
     "output_type": "stream",
     "text": [
      "Iniciando treinamento:\n",
      "Tamanho da amostra de treino: 1000\n",
      "Tamanho da amostra de validação: 214\n",
      "Distância Parâmetros Rede Neural: 4.4598884526425763e-07\n",
      "Distância Parâmetros Alpha: 7.968759208038648e-06\n",
      "Média das distâncias: 4.207374026651452e-06\n",
      "Iniciando passo 19\n"
     ]
    },
    {
     "name": "stderr",
     "output_type": "stream",
     "text": [
      "  8%|▊         | 8/100 [00:05<00:57,  1.60epoch/s, loss=5.17, loss_val=0.0271] \n",
      "  0%|          | 0/100 [00:00<?, ?epoch/s]"
     ]
    },
    {
     "name": "stdout",
     "output_type": "stream",
     "text": [
      "Iniciando treinamento:\n",
      "Tamanho da amostra de treino: 1000\n",
      "Tamanho da amostra de validação: 214\n",
      "Distância Parâmetros Rede Neural: 2.0165761179934307e-07\n",
      "Distância Parâmetros Alpha: 7.526341909472124e-06\n",
      "Média das distâncias: 3.8639997606357335e-06\n",
      "Iniciando passo 20\n"
     ]
    },
    {
     "name": "stderr",
     "output_type": "stream",
     "text": [
      "  9%|▉         | 9/100 [00:05<00:56,  1.61epoch/s, loss=0.019, loss_val=0.0428] \n"
     ]
    },
    {
     "name": "stdout",
     "output_type": "stream",
     "text": [
      "Iniciando treinamento:\n",
      "Tamanho da amostra de treino: 1000\n",
      "Tamanho da amostra de validação: 214\n",
      "Distância Parâmetros Rede Neural: 1.9702190264856557e-07\n",
      "Distância Parâmetros Alpha: 5.609575364820064e-06\n",
      "Média das distâncias: 2.9032986337343147e-06\n",
      "Learning rate reduzida para 1e-05\n",
      "Iniciando passo 21\n"
     ]
    },
    {
     "name": "stderr",
     "output_type": "stream",
     "text": [
      "  6%|▌         | 6/100 [00:03<00:58,  1.60epoch/s, loss=9.59, loss_val=0.038] \n"
     ]
    },
    {
     "name": "stdout",
     "output_type": "stream",
     "text": [
      "Iniciando treinamento:\n",
      "Tamanho da amostra de treino: 1000\n",
      "Tamanho da amostra de validação: 214\n",
      "Distância Parâmetros Rede Neural: 3.850497849302277e-09\n",
      "Distância Parâmetros Alpha: 1.8422318688625022e-06\n",
      "Média das distâncias: 9.230411833559023e-07\n",
      "Algoritmo convergiu após 21 iterações. Retornando.\n"
     ]
    },
    {
     "name": "stderr",
     "output_type": "stream",
     "text": [
      "/home/natan/.pyenv/versions/3.10.16/lib/python3.10/site-packages/keras/src/layers/convolutional/base_conv.py:107: UserWarning: Do not pass an `input_shape`/`input_dim` argument to a layer. When using Sequential models, prefer using an `Input(shape)` object as the first layer in the model instead.\n",
      "  super().__init__(activity_regularizer=activity_regularizer, **kwargs)\n"
     ]
    },
    {
     "name": "stdout",
     "output_type": "stream",
     "text": [
      "Número de arquivos no diretório: 21\n"
     ]
    }
   ],
   "source": [
    "set_all_seeds(10)\n",
    "\n",
    "sim_results = fit_cure_model(\"borel\", None,\n",
    "               file_info[\"t_train\"], file_info[\"t_val\"],\n",
    "               file_info[\"delta_train\"], file_info[\"delta_val\"],\n",
    "               file_info[\"img_train\"], file_info[\"img_val\"],\n",
    "               batch_size = 64,\n",
    "               seed = 1)"
   ]
  },
  {
   "cell_type": "code",
   "execution_count": 14,
   "id": "f8d46cfb-035b-4b67-af5b-ac75898e260a",
   "metadata": {},
   "outputs": [
    {
     "name": "stdout",
     "output_type": "stream",
     "text": [
      "alpha estimado: [0.35618959 0.6404729  1.05855426 1.22053203 1.34372325 1.        ]\n",
      "alpha xie: [1 1 1 1 1 1]\n"
     ]
    },
    {
     "data": {
      "image/png": "[encoded data removed]",
      "text/plain": [
       "<Figure size 1200x600 with 1 Axes>"
      ]
     },
     "metadata": {},
     "output_type": "display_data"
    }
   ],
   "source": [
    "tv = np.arange(0, s_t[-1], 0.1)\n",
    "S1v = S1(tv, sim_results[\"alpha_history\"][-1], s_t)\n",
    "\n",
    "alpha_xie = np.array([1, 1, 1, 1, 1, 1])\n",
    "S1v_xie = S1(tv, alpha_xie, s_t)\n",
    "\n",
    "print(\"alpha estimado: {}\".format(sim_results[\"alpha_history\"][-1]))\n",
    "print(\"alpha xie: {}\".format(alpha_xie))\n",
    "\n",
    "fig, ax = plt.subplots(figsize = (12, 6))\n",
    "plt.plot(tv, S1v)\n",
    "plt.plot(tv, S1v_xie)\n",
    "plt.axhline(0.6, color = \"black\")\n",
    "plt.axvline(6, color = \"black\")\n",
    "plt.grid()\n",
    "plt.show()"
   ]
  },
  {
   "cell_type": "code",
   "execution_count": 15,
   "id": "b473b2ed-64b9-4629-81ce-9bb4ffd68065",
   "metadata": {},
   "outputs": [
    {
     "name": "stderr",
     "output_type": "stream",
     "text": [
      "WARNING: All log messages before absl::InitializeLog() is called are written to STDERR\n",
      "I0000 00:00:1740212563.980803  154031 service.cc:148] XLA service 0x7484ec0049e0 initialized for platform CUDA (this does not guarantee that XLA will be used). Devices:\n",
      "I0000 00:00:1740212563.981353  154031 service.cc:156]   StreamExecutor device (0): NVIDIA GeForce RTX 3050 6GB Laptop GPU, Compute Capability 8.6\n"
     ]
    },
    {
     "name": "stdout",
     "output_type": "stream",
     "text": [
      "\u001b[1m30/32\u001b[0m \u001b[32m━━━━━━━━━━━━━━━━━━\u001b[0m\u001b[37m━━\u001b[0m \u001b[1m0s\u001b[0m 2ms/step   "
     ]
    },
    {
     "name": "stderr",
     "output_type": "stream",
     "text": [
      "I0000 00:00:1740212564.470737  154031 device_compiler.h:188] Compiled cluster using XLA!  This line is logged at most once for the lifetime of the process.\n"
     ]
    },
    {
     "name": "stdout",
     "output_type": "stream",
     "text": [
      "\u001b[1m32/32\u001b[0m \u001b[32m━━━━━━━━━━━━━━━━━━━━\u001b[0m\u001b[37m\u001b[0m \u001b[1m1s\u001b[0m 13ms/step\n",
      "\u001b[1m7/7\u001b[0m \u001b[32m━━━━━━━━━━━━━━━━━━━━\u001b[0m\u001b[37m\u001b[0m \u001b[1m0s\u001b[0m 56ms/step\n"
     ]
    }
   ],
   "source": [
    "eta_pred_train = sim_results[\"new_model\"].predict(file_info[\"img_train\"])\n",
    "eta_pred_test = sim_results[\"new_model\"].predict(file_info[\"img_test\"])"
   ]
  },
  {
   "cell_type": "code",
   "execution_count": 27,
   "id": "c28079a7-579c-4398-b18f-847095970f12",
   "metadata": {},
   "outputs": [
    {
     "data": {
      "text/plain": [
       "array([2, 1, 3, 2, 3, 0, 2, 2, 1, 3, 1, 2, 1, 3, 0, 0, 0, 3, 2, 0])"
      ]
     },
     "execution_count": 27,
     "metadata": {},
     "output_type": "execute_result"
    }
   ],
   "source": [
    "file_info[\"m_train\"].to_numpy()[:20]"
   ]
  },
  {
   "cell_type": "code",
   "execution_count": 28,
   "id": "89ba3aaa-3815-4a3e-97ae-d3c2648dcb13",
   "metadata": {},
   "outputs": [
    {
     "data": {
      "text/plain": [
       "array([1.73738731e+01, 1.48902365e+00, 2.58218390e+00, 3.68735088e+00,\n",
       "       3.70881640e+01, 4.28572373e-03, 1.21238737e+00, 5.99913693e+00,\n",
       "       8.05902156e-02, 6.13134760e+02, 3.66604930e+01, 3.87073192e+00,\n",
       "       3.78994666e-01, 2.67260772e+01, 2.43132125e-03, 1.31500311e-04,\n",
       "       9.13049455e-04, 2.64165462e+00, 2.48438429e+00, 1.25500221e-03])"
      ]
     },
     "execution_count": 28,
     "metadata": {},
     "output_type": "execute_result"
    }
   ],
   "source": [
    "sim_results[\"m_history\"][-1][:20]"
   ]
  }
 ],
 "metadata": {
  "kernelspec": {
   "display_name": "Python 3 (ipykernel)",
   "language": "python",
   "name": "python3"
  },
  "language_info": {
   "codemirror_mode": {
    "name": "ipython",
    "version": 3
   },
   "file_extension": ".py",
   "mimetype": "text/x-python",
   "name": "python",
   "nbconvert_exporter": "python",
   "pygments_lexer": "ipython3",
   "version": "3.10.16"
  }
 },
 "nbformat": 4,
 "nbformat_minor": 5
}
