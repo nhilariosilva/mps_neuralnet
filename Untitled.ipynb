{
 "cells": [
  {
   "cell_type": "code",
   "execution_count": 1,
   "id": "2d026321-88e6-45e8-8eee-7f5fed26fde7",
   "metadata": {},
   "outputs": [
    {
     "name": "stderr",
     "output_type": "stream",
     "text": [
      "Loading required package: stats4\n",
      "\n",
      "Loading required package: splines\n",
      "\n"
     ]
    }
   ],
   "source": [
    "library(VGAM)"
   ]
  },
  {
   "cell_type": "code",
   "execution_count": 33,
   "id": "0d26496d-ad38-4e25-aa9d-0a9d22c53dd8",
   "metadata": {},
   "outputs": [
    {
     "name": "stdout",
     "output_type": "stream",
     "text": [
      "Theoretical mean: 9\n",
      "Theoretical var: 900.000000000001\n",
      "Mean: 8.95353\n",
      "Var: 912.9425999651"
     ]
    }
   ],
   "source": [
    "theta <- 0.9\n",
    "n <- 100000\n",
    "x <- rbort(n, Qsize = 1, a = theta)-1\n",
    "\n",
    "E_borel <- function(theta){\n",
    "    theta/(1-theta)\n",
    "}\n",
    "Var_borel <- function(theta){\n",
    "    mu <- theta/(1-theta)\n",
    "    mu*(1+mu)^2\n",
    "}\n",
    "\n",
    "cat(paste0(\"Theoretical mean: \", E_borel(theta), \"\\n\"))\n",
    "cat(paste0(\"Theoretical var: \", Var_borel(theta), \"\\n\"))\n",
    "cat(paste0(\"Mean: \", mean(x), \"\\n\"))\n",
    "cat(paste0(\"Var: \", var(x)))"
   ]
  },
  {
   "cell_type": "code",
   "execution_count": 34,
   "id": "6dd3b6df-f068-49ba-8478-b4a5db9cdcec",
   "metadata": {},
   "outputs": [
    {
     "data": {
      "text/html": [
       "<pre class=language-r><code>function (x, size, replace = FALSE, prob = NULL) \n",
       "{\n",
       "<span style=white-space:pre-wrap>    if (length(x) == 1L &amp;&amp; is.numeric(x) &amp;&amp; is.finite(x) &amp;&amp; x &gt;= </span>\n",
       "<span style=white-space:pre-wrap>        1) {</span>\n",
       "<span style=white-space:pre-wrap>        if (missing(size)) </span>\n",
       "<span style=white-space:pre-wrap>            size &lt;- x</span>\n",
       "<span style=white-space:pre-wrap>        sample.int(x, size, replace, prob)</span>\n",
       "<span style=white-space:pre-wrap>    }</span>\n",
       "<span style=white-space:pre-wrap>    else {</span>\n",
       "<span style=white-space:pre-wrap>        if (missing(size)) </span>\n",
       "<span style=white-space:pre-wrap>            size &lt;- length(x)</span>\n",
       "<span style=white-space:pre-wrap>        x[sample.int(length(x), size, replace, prob)]</span>\n",
       "<span style=white-space:pre-wrap>    }</span>\n",
       "}</code></pre>"
      ],
      "text/latex": [
       "\\begin{minted}{r}\n",
       "function (x, size, replace = FALSE, prob = NULL) \n",
       "\\{\n",
       "    if (length(x) == 1L \\&\\& is.numeric(x) \\&\\& is.finite(x) \\&\\& x >= \n",
       "        1) \\{\n",
       "        if (missing(size)) \n",
       "            size <- x\n",
       "        sample.int(x, size, replace, prob)\n",
       "    \\}\n",
       "    else \\{\n",
       "        if (missing(size)) \n",
       "            size <- length(x)\n",
       "        x{[}sample.int(length(x), size, replace, prob){]}\n",
       "    \\}\n",
       "\\}\n",
       "\\end{minted}"
      ],
      "text/markdown": [
       "```r\n",
       "function (x, size, replace = FALSE, prob = NULL) \n",
       "{\n",
       "    if (length(x) == 1L && is.numeric(x) && is.finite(x) && x >= \n",
       "        1) {\n",
       "        if (missing(size)) \n",
       "            size <- x\n",
       "        sample.int(x, size, replace, prob)\n",
       "    }\n",
       "    else {\n",
       "        if (missing(size)) \n",
       "            size <- length(x)\n",
       "        x[sample.int(length(x), size, replace, prob)]\n",
       "    }\n",
       "}\n",
       "```"
      ],
      "text/plain": [
       "function (x, size, replace = FALSE, prob = NULL) \n",
       "{\n",
       "    if (length(x) == 1L && is.numeric(x) && is.finite(x) && x >= \n",
       "        1) {\n",
       "        if (missing(size)) \n",
       "            size <- x\n",
       "        sample.int(x, size, replace, prob)\n",
       "    }\n",
       "    else {\n",
       "        if (missing(size)) \n",
       "            size <- length(x)\n",
       "        x[sample.int(length(x), size, replace, prob)]\n",
       "    }\n",
       "}\n",
       "<bytecode: 0x556c8e200570>\n",
       "<environment: namespace:base>"
      ]
     },
     "metadata": {},
     "output_type": "display_data"
    }
   ],
   "source": [
    "sample"
   ]
  },
  {
   "cell_type": "code",
   "execution_count": 13,
   "id": "51bf2f7d-f8eb-447d-b1cd-e2d2d6eb0e4a",
   "metadata": {},
   "outputs": [
    {
     "data": {
      "text/html": [
       "<style>\n",
       ".list-inline {list-style: none; margin:0; padding: 0}\n",
       ".list-inline>li {display: inline-block}\n",
       ".list-inline>li:not(:last-child)::after {content: \"\\00b7\"; padding: 0 .5ex}\n",
       "</style>\n",
       "<ol class=list-inline><li>1</li><li>5</li><li>10</li><li>10</li><li>5</li><li>1</li><li>0</li><li>0</li><li>0</li><li>0</li><li>0</li><li>0</li><li>0</li><li>0</li><li>0</li><li>0</li><li>0</li><li>0</li><li>0</li><li>0</li><li>0</li></ol>\n"
      ],
      "text/latex": [
       "\\begin{enumerate*}\n",
       "\\item 1\n",
       "\\item 5\n",
       "\\item 10\n",
       "\\item 10\n",
       "\\item 5\n",
       "\\item 1\n",
       "\\item 0\n",
       "\\item 0\n",
       "\\item 0\n",
       "\\item 0\n",
       "\\item 0\n",
       "\\item 0\n",
       "\\item 0\n",
       "\\item 0\n",
       "\\item 0\n",
       "\\item 0\n",
       "\\item 0\n",
       "\\item 0\n",
       "\\item 0\n",
       "\\item 0\n",
       "\\item 0\n",
       "\\end{enumerate*}\n"
      ],
      "text/markdown": [
       "1. 1\n",
       "2. 5\n",
       "3. 10\n",
       "4. 10\n",
       "5. 5\n",
       "6. 1\n",
       "7. 0\n",
       "8. 0\n",
       "9. 0\n",
       "10. 0\n",
       "11. 0\n",
       "12. 0\n",
       "13. 0\n",
       "14. 0\n",
       "15. 0\n",
       "16. 0\n",
       "17. 0\n",
       "18. 0\n",
       "19. 0\n",
       "20. 0\n",
       "21. 0\n",
       "\n",
       "\n"
      ],
      "text/plain": [
       " [1]  1  5 10 10  5  1  0  0  0  0  0  0  0  0  0  0  0  0  0  0  0"
      ]
     },
     "metadata": {},
     "output_type": "display_data"
    }
   ],
   "source": [
    "q <- 5\n",
    "comb <- function(n,p){ exp( lgamma(n+1) - lgamma(p+1) - lgamma(n-p+1) ) }\n",
    "\n",
    "m <- 0:20\n",
    "comb(q,m)"
   ]
  },
  {
   "cell_type": "code",
   "execution_count": 7,
   "id": "1d9d80be-a283-4774-809e-6a5adcb128e1",
   "metadata": {},
   "outputs": [
    {
     "data": {
      "text/html": [
       "120"
      ],
      "text/latex": [
       "120"
      ],
      "text/markdown": [
       "120"
      ],
      "text/plain": [
       "[1] 120"
      ]
     },
     "metadata": {},
     "output_type": "display_data"
    }
   ],
   "source": [
    "exp(lgamma(q+1))"
   ]
  },
  {
   "cell_type": "code",
   "execution_count": 4,
   "id": "1be44366-7698-4522-bddb-5cdae858d471",
   "metadata": {},
   "outputs": [
    {
     "data": {
      "text/html": [
       "<pre class=language-r><code>.Primitive(\"lgamma\")</code></pre>"
      ],
      "text/latex": [
       "\\begin{minted}{r}\n",
       ".Primitive(\"lgamma\")\n",
       "\\end{minted}"
      ],
      "text/markdown": [
       "```r\n",
       ".Primitive(\"lgamma\")\n",
       "```"
      ],
      "text/plain": [
       "function (x)  .Primitive(\"lgamma\")"
      ]
     },
     "metadata": {},
     "output_type": "display_data"
    }
   ],
   "source": [
    "lgamma"
   ]
  }
 ],
 "metadata": {
  "kernelspec": {
   "display_name": "R",
   "language": "R",
   "name": "ir"
  },
  "language_info": {
   "codemirror_mode": "r",
   "file_extension": ".r",
   "mimetype": "text/x-r-source",
   "name": "R",
   "pygments_lexer": "r",
   "version": "4.4.2"
  }
 },
 "nbformat": 4,
 "nbformat_minor": 5
}
