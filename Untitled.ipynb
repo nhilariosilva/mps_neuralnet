{
 "cells": [
  {
   "cell_type": "code",
   "execution_count": 1,
   "id": "2d026321-88e6-45e8-8eee-7f5fed26fde7",
   "metadata": {},
   "outputs": [
    {
     "name": "stderr",
     "output_type": "stream",
     "text": [
      "Loading required package: stats4\n",
      "\n",
      "Loading required package: splines\n",
      "\n"
     ]
    }
   ],
   "source": [
    "library(VGAM)"
   ]
  },
  {
   "cell_type": "code",
   "execution_count": 33,
   "id": "0d26496d-ad38-4e25-aa9d-0a9d22c53dd8",
   "metadata": {},
   "outputs": [
    {
     "name": "stdout",
     "output_type": "stream",
     "text": [
      "Theoretical mean: 9\n",
      "Theoretical var: 900.000000000001\n",
      "Mean: 8.95353\n",
      "Var: 912.9425999651"
     ]
    }
   ],
   "source": [
    "theta <- 0.9\n",
    "n <- 100000\n",
    "x <- rbort(n, Qsize = 1, a = theta)-1\n",
    "\n",
    "E_borel <- function(theta){\n",
    "    theta/(1-theta)\n",
    "}\n",
    "Var_borel <- function(theta){\n",
    "    mu <- theta/(1-theta)\n",
    "    mu*(1+mu)^2\n",
    "}\n",
    "\n",
    "cat(paste0(\"Theoretical mean: \", E_borel(theta), \"\\n\"))\n",
    "cat(paste0(\"Theoretical var: \", Var_borel(theta), \"\\n\"))\n",
    "cat(paste0(\"Mean: \", mean(x), \"\\n\"))\n",
    "cat(paste0(\"Var: \", var(x)))"
   ]
  },
  {
   "cell_type": "code",
   "execution_count": 34,
   "id": "6dd3b6df-f068-49ba-8478-b4a5db9cdcec",
   "metadata": {},
   "outputs": [
    {
     "data": {
      "text/html": [
       "<pre class=language-r><code>function (x, size, replace = FALSE, prob = NULL) \n",
       "{\n",
       "<span style=white-space:pre-wrap>    if (length(x) == 1L &amp;&amp; is.numeric(x) &amp;&amp; is.finite(x) &amp;&amp; x &gt;= </span>\n",
       "<span style=white-space:pre-wrap>        1) {</span>\n",
       "<span style=white-space:pre-wrap>        if (missing(size)) </span>\n",
       "<span style=white-space:pre-wrap>            size &lt;- x</span>\n",
       "<span style=white-space:pre-wrap>        sample.int(x, size, replace, prob)</span>\n",
       "<span style=white-space:pre-wrap>    }</span>\n",
       "<span style=white-space:pre-wrap>    else {</span>\n",
       "<span style=white-space:pre-wrap>        if (missing(size)) </span>\n",
       "<span style=white-space:pre-wrap>            size &lt;- length(x)</span>\n",
       "<span style=white-space:pre-wrap>        x[sample.int(length(x), size, replace, prob)]</span>\n",
       "<span style=white-space:pre-wrap>    }</span>\n",
       "}</code></pre>"
      ],
      "text/latex": [
       "\\begin{minted}{r}\n",
       "function (x, size, replace = FALSE, prob = NULL) \n",
       "\\{\n",
       "    if (length(x) == 1L \\&\\& is.numeric(x) \\&\\& is.finite(x) \\&\\& x >= \n",
       "        1) \\{\n",
       "        if (missing(size)) \n",
       "            size <- x\n",
       "        sample.int(x, size, replace, prob)\n",
       "    \\}\n",
       "    else \\{\n",
       "        if (missing(size)) \n",
       "            size <- length(x)\n",
       "        x{[}sample.int(length(x), size, replace, prob){]}\n",
       "    \\}\n",
       "\\}\n",
       "\\end{minted}"
      ],
      "text/markdown": [
       "```r\n",
       "function (x, size, replace = FALSE, prob = NULL) \n",
       "{\n",
       "    if (length(x) == 1L && is.numeric(x) && is.finite(x) && x >= \n",
       "        1) {\n",
       "        if (missing(size)) \n",
       "            size <- x\n",
       "        sample.int(x, size, replace, prob)\n",
       "    }\n",
       "    else {\n",
       "        if (missing(size)) \n",
       "            size <- length(x)\n",
       "        x[sample.int(length(x), size, replace, prob)]\n",
       "    }\n",
       "}\n",
       "```"
      ],
      "text/plain": [
       "function (x, size, replace = FALSE, prob = NULL) \n",
       "{\n",
       "    if (length(x) == 1L && is.numeric(x) && is.finite(x) && x >= \n",
       "        1) {\n",
       "        if (missing(size)) \n",
       "            size <- x\n",
       "        sample.int(x, size, replace, prob)\n",
       "    }\n",
       "    else {\n",
       "        if (missing(size)) \n",
       "            size <- length(x)\n",
       "        x[sample.int(length(x), size, replace, prob)]\n",
       "    }\n",
       "}\n",
       "<bytecode: 0x556c8e200570>\n",
       "<environment: namespace:base>"
      ]
     },
     "metadata": {},
     "output_type": "display_data"
    }
   ],
   "source": [
    "sample"
   ]
  }
 ],
 "metadata": {
  "kernelspec": {
   "display_name": "R",
   "language": "R",
   "name": "ir"
  },
  "language_info": {
   "codemirror_mode": "r",
   "file_extension": ".r",
   "mimetype": "text/x-r-source",
   "name": "R",
   "pygments_lexer": "r",
   "version": "4.4.2"
  }
 },
 "nbformat": 4,
 "nbformat_minor": 5
}
