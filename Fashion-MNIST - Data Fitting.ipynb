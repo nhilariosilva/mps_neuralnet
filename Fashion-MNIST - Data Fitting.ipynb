{
 "cells": [
  {
   "cell_type": "code",
   "execution_count": 1,
   "id": "579cb74f-6bdc-45d8-8366-1d189667dc7b",
   "metadata": {},
   "outputs": [
    {
     "name": "stderr",
     "output_type": "stream",
     "text": [
      "WARNING: All log messages before absl::InitializeLog() is called are written to STDERR\n",
      "E0000 00:00:1740312875.481074  792361 cuda_dnn.cc:8310] Unable to register cuDNN factory: Attempting to register factory for plugin cuDNN when one has already been registered\n",
      "E0000 00:00:1740312875.484639  792361 cuda_blas.cc:1418] Unable to register cuBLAS factory: Attempting to register factory for plugin cuBLAS when one has already been registered\n",
      "I0000 00:00:1740312877.474539  792361 gpu_device.cc:2022] Created device /job:localhost/replica:0/task:0/device:GPU:0 with 3964 MB memory:  -> device: 0, name: NVIDIA GeForce RTX 3050 6GB Laptop GPU, pci bus id: 0000:01:00.0, compute capability: 8.6\n",
      "/home/natan/.pyenv/versions/3.10.16/lib/python3.10/site-packages/tqdm/auto.py:21: TqdmWarning: IProgress not found. Please update jupyter and ipywidgets. See https://ipywidgets.readthedocs.io/en/stable/user_install.html\n",
      "  from .autonotebook import tqdm as notebook_tqdm\n"
     ]
    }
   ],
   "source": [
    "import numpy as np\n",
    "import pandas as pd\n",
    "from matplotlib import pyplot as plt\n",
    "import random\n",
    "\n",
    "from time import time\n",
    "\n",
    "from scipy.special import comb, loggamma, lambertw\n",
    "from scipy.stats import multinomial, expon\n",
    "\n",
    "from silence_tensorflow import silence_tensorflow\n",
    "silence_tensorflow()\n",
    "import tensorflow as tf\n",
    "import tensorflow_probability as tfp\n",
    "\n",
    "config = tf.compat.v1.ConfigProto()\n",
    "config.gpu_options.allow_growth = True\n",
    "sess = tf.compat.v1.Session(config = config)\n",
    "\n",
    "import os, shutil\n",
    "import json\n",
    "import subprocess\n",
    "\n",
    "from net_model import *\n",
    "from custom_model import *\n",
    "from mps_models import *\n",
    "\n",
    "import mps\n",
    "import pwexp"
   ]
  },
  {
   "cell_type": "markdown",
   "id": "da7aefba-c0e3-4ef5-96c0-d5f6e8b946f6",
   "metadata": {},
   "source": [
    "# Load data"
   ]
  },
  {
   "cell_type": "markdown",
   "id": "d98bdb0d-a68a-4abe-bd3a-eaead64902d5",
   "metadata": {},
   "source": [
    "# Simulação"
   ]
  },
  {
   "cell_type": "code",
   "execution_count": 2,
   "id": "095a629a-d6d1-48be-9495-f804c6d19bf1",
   "metadata": {},
   "outputs": [],
   "source": [
    "fashion_mnist = tf.keras.datasets.fashion_mnist\n",
    "(train_images, train_labels), (test_images, test_labels) = fashion_mnist.load_data()\n",
    "\n",
    "i_valid_train = pd.Series(train_labels).isin([0,1,2,3,4]).to_numpy()\n",
    "i_valid_test = pd.Series(test_labels).isin([0,1,2,3,4]).to_numpy()\n",
    "\n",
    "# Filters to take only the images with labels in [0, 1, 2, 3, 4]\n",
    "train_images = train_images[i_valid_train]\n",
    "train_images = train_images / np.max(train_images)\n",
    "train_shape = train_images.shape\n",
    "# Adds one more dimension for keras to identify the \"colors\" dimension\n",
    "train_images = np.reshape(train_images, (train_shape[0], train_shape[1], train_shape[2], 1))\n",
    "\n",
    "test_images = test_images[i_valid_test]\n",
    "test_images = test_images / np.max(test_images)\n",
    "test_shape = test_images.shape\n",
    "# Adds one more dimension for keras to identify the \"colors\" dimension\n",
    "test_images = np.reshape(test_images, (test_shape[0], test_shape[1], test_shape[2], 1))\n",
    "\n",
    "train_labels = train_labels[i_valid_train]\n",
    "test_labels = test_labels[i_valid_test]"
   ]
  },
  {
   "cell_type": "code",
   "execution_count": 3,
   "id": "e2e77af7-f43d-47b1-8771-d7b162b89d7e",
   "metadata": {},
   "outputs": [],
   "source": [
    "def load_file(data_dir, file_index, distribution, train_images, test_images):\n",
    "    '''\n",
    "        Example:\n",
    "            data_dir = \"SimulationDataset/Scenario1/n500\"\n",
    "            file_index = 20\n",
    "            distribution = \"poisson\"\n",
    "    '''\n",
    "    index_path = \"{}/indices_{}.csv\".format(data_dir, file_index, distribution)\n",
    "    data_path = \"{}/{}/data_{}.csv\".format(data_dir, distribution, file_index)\n",
    "    df_index = pd.read_csv(index_path)\n",
    "    df_data = pd.read_csv(data_path)\n",
    "\n",
    "    index_train = df_index.loc[df_index.set == \"train\",\"index\"].to_numpy()\n",
    "    index_val = df_index.loc[df_index.set == \"val\",\"index\"].to_numpy()\n",
    "    index_test = df_index.loc[df_index.set == \"test\",\"index\"].to_numpy()\n",
    "\n",
    "    # Values for the thetas\n",
    "    theta_train = df_data.loc[df_data.set == \"train\", \"theta\"]\n",
    "    theta_val = df_data.loc[df_data.set == \"val\", \"theta\"]\n",
    "    theta_test = df_data.loc[df_data.set == \"test\", \"theta\"]\n",
    "    # Values for the latent variable\n",
    "    m_train = df_data.loc[df_data.set == \"train\", \"m\"]\n",
    "    m_val = df_data.loc[df_data.set == \"val\", \"m\"]\n",
    "    m_test = df_data.loc[df_data.set == \"test\", \"m\"]\n",
    "    # Values for the time variable\n",
    "    t_train = df_data.loc[df_data.set == \"train\", \"t\"]\n",
    "    t_val = df_data.loc[df_data.set == \"val\", \"t\"]\n",
    "    t_test = df_data.loc[df_data.set == \"test\", \"t\"]\n",
    "    # Values for the censorship indicators\n",
    "    delta_train = df_data.loc[df_data.set == \"train\", \"delta\"]\n",
    "    delta_val = df_data.loc[df_data.set == \"val\", \"delta\"]\n",
    "    delta_test = df_data.loc[df_data.set == \"test\", \"delta\"]\n",
    "\n",
    "    img_train = train_images[index_train,:,:]\n",
    "    img_val = train_images[index_val,:,:]\n",
    "    img_test = test_images[index_test,:,:]\n",
    "\n",
    "    result = {\n",
    "        \"theta_train\": theta_train, \"theta_val\": theta_val, \"theta_test\": theta_test,\n",
    "        \"m_train\": m_train, \"m_val\": m_val, \"m_test\": m_test,\n",
    "        \"t_train\": t_train, \"t_val\": t_val, \"t_test\": t_test,\n",
    "        \"delta_train\": delta_train, \"delta_val\": delta_val, \"delta_test\": delta_test,\n",
    "        \"img_train\": img_train, \"img_val\": img_val, \"img_test\": img_test,\n",
    "        \"index_train\": index_train, \"index_val\": index_val, \"index_test\": index_test\n",
    "    }\n",
    "    \n",
    "    return result"
   ]
  },
  {
   "cell_type": "code",
   "execution_count": 4,
   "id": "968f742b-3273-4cbf-af58-ec5dca01448a",
   "metadata": {},
   "outputs": [],
   "source": [
    "def select_model(distribution, q):\n",
    "    if(distribution == \"poisson\"):      \n",
    "        log_a_str = log_a_poisson_str\n",
    "        log_phi_str = log_phi_poisson_str\n",
    "        C_str = C_poisson_str\n",
    "        C_inv_str = C_inv_poisson_str\n",
    "        sup_str = sup_poisson_str\n",
    "        theta_min = None\n",
    "        theta_max = None\n",
    "    elif(distribution == \"logarithmic\"):\n",
    "        log_a_str = log_a_log_str\n",
    "        log_phi_str = log_phi_log_str\n",
    "        C_str = C_log_str\n",
    "        C_inv_str = C_inv_log_str\n",
    "        sup_str = sup_log_str\n",
    "        theta_min = 0\n",
    "        theta_max = 1\n",
    "    elif(distribution == \"nb\" or distribution == \"mvnb\"):\n",
    "        if(q is None):\n",
    "            raise Exception(\"Please, specify the fixed parameter (q) for the distribution.\")\n",
    "        # In the EM.py file, we must ensure that q is of type tf.float64 for it to work properly\n",
    "        q_argument = \"tf.constant({}, dtype = tf.float64)\".format(q)\n",
    "        log_a_str = log_a_mvnb_str.format(q_argument)\n",
    "        log_phi_str = log_phi_mvnb_str.format(q_argument)\n",
    "        C_str = C_mvnb_str.format(q_argument)\n",
    "        C_inv_str = C_inv_mvnb_str.format(q_argument)\n",
    "        sup_str = sup_mvnb_str.format(q_argument)\n",
    "        theta_min = None\n",
    "        theta_max = None\n",
    "    elif(distribution == \"geometric\"):\n",
    "        # In the EM.py file, we must ensure that q is of type tf.float64 for it to work properly\n",
    "        q_argument = \"tf.constant(1, dtype = tf.float64)\"\n",
    "        log_a_str = log_a_mvnb_str.format(q_argument)\n",
    "        log_phi_str = log_phi_mvnb_str.format(q_argument)\n",
    "        C_str = C_mvnb_str.format(q_argument)\n",
    "        C_inv_str = C_inv_mvnb_str.format(q_argument)\n",
    "        sup_str = sup_mvnb_str.format(q_argument)\n",
    "        theta_min = None\n",
    "        theta_max = None\n",
    "    elif(distribution == \"binomial\"): \n",
    "        if(q is None):\n",
    "            raise Exception(\"Please, specify the fixed parameter (q) for the distribution.\")\n",
    "        # In the EM.py file, we must ensure that q is of type tf.float64 for it to work properly\n",
    "        q_argument = \"tf.constant({}, dtype = tf.float64)\".format(q)\n",
    "        log_a_str = log_a_bin_str.format(q_argument)\n",
    "        log_phi_str = log_phi_bin_str.format(q_argument)\n",
    "        C_str = C_bin_str.format(q_argument)\n",
    "        C_inv_str = C_inv_bin_str.format(q_argument)\n",
    "        sup_str = sup_bin_str.format(q_argument)\n",
    "        theta_min = 0\n",
    "        theta_max = 1\n",
    "    elif(distribution == \"bernoulli\"):\n",
    "        # In the EM.py file, we must ensure that q is of type tf.float64 for it to work properly\n",
    "        q_argument = \"tf.constant(1, dtype = tf.float64)\"\n",
    "        log_a_str = log_a_bin_str.format(q_argument)\n",
    "        log_phi_str = log_phi_bin_str.format(q_argument)\n",
    "        C_str = C_bin_str.format(q_argument)\n",
    "        C_inv_str = C_inv_bin_str.format(q_argument)\n",
    "        sup_str = sup_bin_str.format(q_argument)\n",
    "        theta_min = 0\n",
    "        theta_max = 1\n",
    "    elif(distribution == \"rgp\"):\n",
    "        if(q is None):\n",
    "            raise Exception(\"Please, specify the fixed parameter (q) for the distribution.\")\n",
    "        # In the EM.py file, we must ensure that q is of type tf.float64 for it to work properly\n",
    "        q_argument = \"tf.constant({}, dtype = tf.float64)\".format(q)\n",
    "        log_a_str = log_a_rgp_str.format(q_argument)\n",
    "        log_phi_str = log_phi_rgp_str.format(q_argument)\n",
    "        C_str = C_rgp_str.format(q_argument)\n",
    "        C_inv_str = C_inv_rgp_str.format(q_argument)\n",
    "        sup_str = sup_rgp_str.format(q_argument)\n",
    "        theta_min = 0\n",
    "        theta_max = np.abs(1/q)\n",
    "    elif(distribution == \"borel\"):\n",
    "        # In the EM.py file, we must ensure that q is of type tf.float64 for it to work properly\n",
    "        q_argument = \"tf.constant(1, dtype = tf.float64)\"\n",
    "        log_a_str = log_a_rgp_str.format(q_argument)\n",
    "        log_phi_str = log_phi_rgp_str.format(q_argument)\n",
    "        C_str = C_rgp_str.format(q_argument)\n",
    "        C_inv_str = C_inv_rgp_str.format(q_argument)\n",
    "        sup_str = sup_rgp_str.format(q_argument)\n",
    "        theta_min = 0\n",
    "        theta_max = 1\n",
    "    elif(distribution == \"geeta\"):\n",
    "        if(q is None):\n",
    "            raise Exception(\"Please, specify the fixed parameter (q) for the distribution.\")\n",
    "        # In the EM.py file, we must ensure that q is of type tf.float64 for it to work properly\n",
    "        q_argument = \"tf.constant({}, dtype = tf.float64)\".format(q)\n",
    "        log_a_str = log_a_geeta_str.format(q_argument)\n",
    "        log_phi_str = log_phi_geeta_str.format(q_argument)\n",
    "        C_str = C_geeta_str.format(q_argument)\n",
    "        C_inv_str = C_inv_geeta_str.format(q_argument)\n",
    "        sup_str = sup_geeta_str.format(q_argument)\n",
    "        theta_min = 0\n",
    "        theta_max = np.abs(1/q)\n",
    "    elif(distribution == \"haight\"):\n",
    "        # In the EM.py file, we must ensure that q is of type tf.float64 for it to work properly\n",
    "        q_argument = \"tf.constant(2, dtype = tf.float64)\"\n",
    "        log_a_str = log_a_geeta_str.format(q_argument)\n",
    "        log_phi_str = log_phi_geeta_str.format(q_argument)\n",
    "        C_str = C_geeta_str.format(q_argument)\n",
    "        C_inv_str = C_inv_geeta_str.format(q_argument)\n",
    "        sup_str = sup_geeta_str.format(q_argument)\n",
    "        theta_min = 0\n",
    "        theta_max = 1/2\n",
    "\n",
    "    return log_a_str, log_phi_str, C_str, C_inv_str, sup_str, theta_min, theta_max\n",
    "\n",
    "def fit_cure_model(distribution, q,\n",
    "                   t_train, t_val,\n",
    "                   delta_train, delta_val,\n",
    "                   img_train, img_val,\n",
    "                   max_iterations = 100,\n",
    "                   early_stopping_em = True, early_stopping_em_warmup = 5, early_stopping_em_eps = 1.0e-6,\n",
    "                   epochs = 100, batch_size = None, shuffle = True,\n",
    "                   learning_rate = 0.001, run_eagerly = False,\n",
    "                   early_stopping_nn = True, early_stopping_min_delta_nn = 0.0, early_stopping_patience_nn = 5,\n",
    "                   reduce_lr = True, reduce_lr_steps = 10, reduce_lr_factor = 0.1,\n",
    "                   verbose = 1, seed = 1):\n",
    "    alpha0, s_t = initialize_alpha_s(t_train, n_cuts = 5)\n",
    "\n",
    "    # Select the MPS functions based on the chosen distribution\n",
    "    log_a_str, log_phi_str, C_str, C_inv_str, sup_str, theta_min, theta_max = select_model(distribution, q)\n",
    "\n",
    "    set_all_seeds(seed)\n",
    "    # Because it only serves to initialize the model weights, the distribution does not matter in this case (that's why we use the Poisson here)\n",
    "    dummy_mps_model = MPScrModel(log_a_poisson_tf, log_phi_poisson_tf, C_poisson_tf, C_inv_poisson_tf, sup_poisson)\n",
    "    dummy_mps_model.define_structure(shape_input = img_train[0].shape, seed = seed)\n",
    "\n",
    "    # If batch_size is null, use just one big batch\n",
    "    if(batch_size is None):\n",
    "        batch_size = len(t_train)\n",
    "    \n",
    "    results = call_EM(\"EM.py\",\n",
    "                      log_a_str, log_phi_str, C_str, C_inv_str, sup_str, theta_min, theta_max,\n",
    "                      dummy_mps_model, alpha0, s_t,\n",
    "                      img_train, t_train, delta_train, delta_train,\n",
    "                      max_iterations = max_iterations,\n",
    "                      early_stopping_em = early_stopping_em, early_stopping_em_warmup = early_stopping_em_warmup, early_stopping_em_eps = early_stopping_em_eps,\n",
    "                      epochs = epochs, batch_size = batch_size, shuffle = shuffle,\n",
    "                      learning_rate = learning_rate, run_eagerly = run_eagerly,\n",
    "                      early_stopping_nn = early_stopping_nn, early_stopping_min_delta_nn = early_stopping_min_delta_nn, early_stopping_patience_nn = early_stopping_patience_nn,\n",
    "                      reduce_lr = reduce_lr, reduce_lr_steps = reduce_lr_steps, reduce_lr_factor = reduce_lr_factor,\n",
    "                      validation = True,\n",
    "                      x_val = img_val, t_val = t_val, delta_val = delta_val, m_val = delta_val,\n",
    "                      verbose = verbose, seed = seed, alpha_known = False)\n",
    "    return results"
   ]
  },
  {
   "cell_type": "code",
   "execution_count": 5,
   "id": "54355e2e-9901-4c0b-a450-e801e2167749",
   "metadata": {},
   "outputs": [
    {
     "name": "stdout",
     "output_type": "stream",
     "text": [
      "Keys: ['theta_train', 'theta_val', 'theta_test', 'm_train', 'm_val', 'm_test', 't_train', 't_val', 't_test', 'delta_train', 'delta_val', 'delta_test', 'img_train', 'img_val', 'img_test', 'index_train', 'index_val', 'index_test']\n"
     ]
    }
   ],
   "source": [
    "file_info = load_file(\"SimulationDataset/Scenario1/n500/\", 5, \"poisson\", train_images, test_images)\n",
    "print( \"Keys: {}\".format(list(file_info.keys())) )"
   ]
  },
  {
   "cell_type": "code",
   "execution_count": 6,
   "id": "d833513a-9418-4653-9eaf-1fefa8481c6a",
   "metadata": {},
   "outputs": [
    {
     "name": "stderr",
     "output_type": "stream",
     "text": [
      "I0000 00:00:1740312878.043643  792361 gpu_device.cc:2022] Created device /job:localhost/replica:0/task:0/device:GPU:0 with 3964 MB memory:  -> device: 0, name: NVIDIA GeForce RTX 3050 6GB Laptop GPU, pci bus id: 0000:01:00.0, compute capability: 8.6\n",
      "WARNING: All log messages before absl::InitializeLog() is called are written to STDERR\n",
      "E0000 00:00:1740312879.227888  792525 cuda_dnn.cc:8310] Unable to register cuDNN factory: Attempting to register factory for plugin cuDNN when one has already been registered\n",
      "E0000 00:00:1740312879.231442  792525 cuda_blas.cc:1418] Unable to register cuBLAS factory: Attempting to register factory for plugin cuBLAS when one has already been registered\n",
      "I0000 00:00:1740312881.881452  792525 gpu_device.cc:2022] Created device /job:localhost/replica:0/task:0/device:GPU:0 with 3875 MB memory:  -> device: 0, name: NVIDIA GeForce RTX 3050 6GB Laptop GPU, pci bus id: 0000:01:00.0, compute capability: 8.6\n",
      "I0000 00:00:1740312881.904292  792525 gpu_device.cc:2022] Created device /job:localhost/replica:0/task:0/device:GPU:0 with 3875 MB memory:  -> device: 0, name: NVIDIA GeForce RTX 3050 6GB Laptop GPU, pci bus id: 0000:01:00.0, compute capability: 8.6\n"
     ]
    },
    {
     "name": "stdout",
     "output_type": "stream",
     "text": [
      "Iniciando passo 1\n"
     ]
    },
    {
     "name": "stderr",
     "output_type": "stream",
     "text": [
      "I0000 00:00:1740312883.928624  792604 cuda_dnn.cc:529] Loaded cuDNN version 90300\n",
      " 60%|██████    | 60/100 [00:05<00:03, 11.21epoch/s, loss=0.862, loss_val=0.876]\n"
     ]
    },
    {
     "name": "stdout",
     "output_type": "stream",
     "text": [
      "Iniciando treinamento:\n",
      "Tamanho da amostra de treino: 500\n",
      "Tamanho da amostra de validação: 108\n",
      "Distância Parâmetros Rede Neural: 9.783173118249887e-05\n",
      "Distância Parâmetros Alpha: 0.4754465869941093\n",
      "Média das distâncias: 0.2377722093626459\n",
      "Iniciando passo 2\n"
     ]
    },
    {
     "name": "stderr",
     "output_type": "stream",
     "text": [
      " 14%|█▍        | 14/100 [00:01<00:08,  9.81epoch/s, loss=0.931, loss_val=0.942]\n"
     ]
    },
    {
     "name": "stdout",
     "output_type": "stream",
     "text": [
      "Iniciando treinamento:\n",
      "Tamanho da amostra de treino: 500\n",
      "Tamanho da amostra de validação: 108\n",
      "Distância Parâmetros Rede Neural: 4.825239133379052e-06\n",
      "Distância Parâmetros Alpha: 0.09317622394893556\n",
      "Média das distâncias: 0.04659052459403447\n",
      "Iniciando passo 3\n"
     ]
    },
    {
     "name": "stderr",
     "output_type": "stream",
     "text": [
      " 13%|█▎        | 13/100 [00:01<00:09,  9.26epoch/s, loss=0.921, loss_val=0.942]\n"
     ]
    },
    {
     "name": "stdout",
     "output_type": "stream",
     "text": [
      "Iniciando treinamento:\n",
      "Tamanho da amostra de treino: 500\n",
      "Tamanho da amostra de validação: 108\n",
      "Distância Parâmetros Rede Neural: 2.747400388672124e-06\n",
      "Distância Parâmetros Alpha: 0.028713050638850896\n",
      "Média das distâncias: 0.014357899019619784\n",
      "Iniciando passo 4\n"
     ]
    },
    {
     "name": "stderr",
     "output_type": "stream",
     "text": [
      " 59%|█████▉    | 59/100 [00:03<00:02, 15.41epoch/s, loss=0.843, loss_val=0.901]\n"
     ]
    },
    {
     "name": "stdout",
     "output_type": "stream",
     "text": [
      "Iniciando treinamento:\n",
      "Tamanho da amostra de treino: 500\n",
      "Tamanho da amostra de validação: 108\n",
      "Distância Parâmetros Rede Neural: 6.498849809877411e-05\n",
      "Distância Parâmetros Alpha: 0.011512664198400748\n",
      "Média das distâncias: 0.005788826348249761\n",
      "Iniciando passo 5\n"
     ]
    },
    {
     "name": "stderr",
     "output_type": "stream",
     "text": [
      "  6%|▌         | 6/100 [00:00<00:15,  6.07epoch/s, loss=0.82, loss_val=0.888] \n"
     ]
    },
    {
     "name": "stdout",
     "output_type": "stream",
     "text": [
      "Iniciando treinamento:\n",
      "Tamanho da amostra de treino: 500\n",
      "Tamanho da amostra de validação: 108\n",
      "Distância Parâmetros Rede Neural: 8.706520850797498e-07\n",
      "Distância Parâmetros Alpha: 0.0019513500857853896\n",
      "Média das distâncias: 0.0009761103689352347\n",
      "Iniciando passo 6\n"
     ]
    },
    {
     "name": "stderr",
     "output_type": "stream",
     "text": [
      " 18%|█▊        | 18/100 [00:01<00:07, 10.97epoch/s, loss=0.572, loss_val=0.691]\n"
     ]
    },
    {
     "name": "stdout",
     "output_type": "stream",
     "text": [
      "Iniciando treinamento:\n",
      "Tamanho da amostra de treino: 500\n",
      "Tamanho da amostra de validação: 108\n",
      "Distância Parâmetros Rede Neural: 5.1897401069396755e-06\n",
      "Distância Parâmetros Alpha: 0.041335709764650154\n",
      "Média das distâncias: 0.020670449752378545\n",
      "Iniciando passo 7\n"
     ]
    },
    {
     "name": "stderr",
     "output_type": "stream",
     "text": [
      " 27%|██▋       | 27/100 [00:02<00:05, 12.67epoch/s, loss=0.559, loss_val=0.697]\n"
     ]
    },
    {
     "name": "stdout",
     "output_type": "stream",
     "text": [
      "Iniciando treinamento:\n",
      "Tamanho da amostra de treino: 500\n",
      "Tamanho da amostra de validação: 108\n",
      "Distância Parâmetros Rede Neural: 9.522567229167443e-06\n",
      "Distância Parâmetros Alpha: 0.00613092904205016\n",
      "Média das distâncias: 0.0030702258046396637\n",
      "Iniciando passo 8\n"
     ]
    },
    {
     "name": "stderr",
     "output_type": "stream",
     "text": [
      "  6%|▌         | 6/100 [00:01<00:18,  5.15epoch/s, loss=0.605, loss_val=0.756]\n"
     ]
    },
    {
     "name": "stdout",
     "output_type": "stream",
     "text": [
      "Iniciando treinamento:\n",
      "Tamanho da amostra de treino: 500\n",
      "Tamanho da amostra de validação: 108\n",
      "Distância Parâmetros Rede Neural: 8.991370993531051e-07\n",
      "Distância Parâmetros Alpha: 0.0015523693378173755\n",
      "Média das distâncias: 0.0007766342374583643\n",
      "Iniciando passo 9\n"
     ]
    },
    {
     "name": "stderr",
     "output_type": "stream",
     "text": [
      " 13%|█▎        | 13/100 [00:01<00:09,  9.39epoch/s, loss=0.738, loss_val=0.834]\n"
     ]
    },
    {
     "name": "stdout",
     "output_type": "stream",
     "text": [
      "Iniciando treinamento:\n",
      "Tamanho da amostra de treino: 500\n",
      "Tamanho da amostra de validação: 108\n",
      "Distância Parâmetros Rede Neural: 1.6975343971227988e-06\n",
      "Distância Parâmetros Alpha: 0.02658425402816415\n",
      "Média das distâncias: 0.013292975781280636\n",
      "Iniciando passo 10\n"
     ]
    },
    {
     "name": "stderr",
     "output_type": "stream",
     "text": [
      " 15%|█▌        | 15/100 [00:01<00:08, 10.22epoch/s, loss=0.698, loss_val=0.813]\n"
     ]
    },
    {
     "name": "stdout",
     "output_type": "stream",
     "text": [
      "Iniciando treinamento:\n",
      "Tamanho da amostra de treino: 500\n",
      "Tamanho da amostra de validação: 108\n",
      "Distância Parâmetros Rede Neural: 2.625293998941561e-06\n",
      "Distância Parâmetros Alpha: 0.00227007333923071\n",
      "Média das distâncias: 0.0011363493166148258\n",
      "Learning rate reduzida para 0.0001\n",
      "Iniciando passo 11\n"
     ]
    },
    {
     "name": "stderr",
     "output_type": "stream",
     "text": [
      "  7%|▋         | 7/100 [00:01<00:13,  6.69epoch/s, loss=0.715, loss_val=0.82] \n"
     ]
    },
    {
     "name": "stdout",
     "output_type": "stream",
     "text": [
      "Iniciando treinamento:\n",
      "Tamanho da amostra de treino: 500\n",
      "Tamanho da amostra de validação: 108\n",
      "Distância Parâmetros Rede Neural: 2.713046700183406e-08\n",
      "Distância Parâmetros Alpha: 0.0009972114516320241\n",
      "Média das distâncias: 0.000498619291049513\n",
      "Iniciando passo 12\n"
     ]
    },
    {
     "name": "stderr",
     "output_type": "stream",
     "text": [
      "  6%|▌         | 6/100 [00:00<00:15,  6.12epoch/s, loss=0.692, loss_val=0.804]\n"
     ]
    },
    {
     "name": "stdout",
     "output_type": "stream",
     "text": [
      "Iniciando treinamento:\n",
      "Tamanho da amostra de treino: 500\n",
      "Tamanho da amostra de validação: 108\n",
      "Distância Parâmetros Rede Neural: 7.914601093033608e-09\n",
      "Distância Parâmetros Alpha: 0.000395991756708715\n",
      "Média das distâncias: 0.00019799983565490403\n",
      "Iniciando passo 13\n"
     ]
    },
    {
     "name": "stderr",
     "output_type": "stream",
     "text": [
      "  6%|▌         | 6/100 [00:01<00:16,  5.80epoch/s, loss=0.677, loss_val=0.793]\n",
      "  0%|          | 0/100 [00:00<?, ?epoch/s]"
     ]
    },
    {
     "name": "stdout",
     "output_type": "stream",
     "text": [
      "Iniciando treinamento:\n",
      "Tamanho da amostra de treino: 500\n",
      "Tamanho da amostra de validação: 108\n",
      "Distância Parâmetros Rede Neural: 7.578367789042472e-09\n",
      "Distância Parâmetros Alpha: 0.00023220723566997952\n",
      "Média das distâncias: 0.00011610740701888429\n",
      "Iniciando passo 14\n"
     ]
    },
    {
     "name": "stderr",
     "output_type": "stream",
     "text": [
      "  6%|▌         | 6/100 [00:00<00:15,  6.07epoch/s, loss=0.664, loss_val=0.785]\n"
     ]
    },
    {
     "name": "stdout",
     "output_type": "stream",
     "text": [
      "Iniciando treinamento:\n",
      "Tamanho da amostra de treino: 500\n",
      "Tamanho da amostra de validação: 108\n",
      "Distância Parâmetros Rede Neural: 7.475727836579453e-09\n",
      "Distância Parâmetros Alpha: 0.00017127471507757453\n",
      "Média das distâncias: 8.564109540270555e-05\n",
      "Iniciando passo 15\n"
     ]
    },
    {
     "name": "stderr",
     "output_type": "stream",
     "text": [
      "  6%|▌         | 6/100 [00:00<00:15,  6.15epoch/s, loss=0.657, loss_val=0.779]\n",
      "  0%|          | 0/100 [00:00<?, ?epoch/s]"
     ]
    },
    {
     "name": "stdout",
     "output_type": "stream",
     "text": [
      "Iniciando treinamento:\n",
      "Tamanho da amostra de treino: 500\n",
      "Tamanho da amostra de validação: 108\n",
      "Distância Parâmetros Rede Neural: 7.471907117449361e-09\n",
      "Distância Parâmetros Alpha: 9.659294383323941e-05\n",
      "Média das distâncias: 4.830020787017843e-05\n",
      "Iniciando passo 16\n"
     ]
    },
    {
     "name": "stderr",
     "output_type": "stream",
     "text": [
      "  6%|▌         | 6/100 [00:00<00:15,  6.18epoch/s, loss=0.648, loss_val=0.773]\n"
     ]
    },
    {
     "name": "stdout",
     "output_type": "stream",
     "text": [
      "Iniciando treinamento:\n",
      "Tamanho da amostra de treino: 500\n",
      "Tamanho da amostra de validação: 108\n",
      "Distância Parâmetros Rede Neural: 7.4294114243650395e-09\n",
      "Distância Parâmetros Alpha: 8.552648289855733e-05\n",
      "Média das distâncias: 4.2766956154990846e-05\n",
      "Iniciando passo 17\n"
     ]
    },
    {
     "name": "stderr",
     "output_type": "stream",
     "text": [
      "  9%|▉         | 9/100 [00:01<00:14,  6.41epoch/s, loss=0.643, loss_val=0.771]\n"
     ]
    },
    {
     "name": "stdout",
     "output_type": "stream",
     "text": [
      "Iniciando treinamento:\n",
      "Tamanho da amostra de treino: 500\n",
      "Tamanho da amostra de validação: 108\n",
      "Distância Parâmetros Rede Neural: 7.907644115947359e-08\n",
      "Distância Parâmetros Alpha: 3.59169549615956e-05\n",
      "Média das distâncias: 1.7998015701377535e-05\n",
      "Iniciando passo 18\n"
     ]
    },
    {
     "name": "stderr",
     "output_type": "stream",
     "text": [
      "  6%|▌         | 6/100 [00:01<00:16,  5.83epoch/s, loss=0.636, loss_val=0.765]\n"
     ]
    },
    {
     "name": "stdout",
     "output_type": "stream",
     "text": [
      "Iniciando treinamento:\n",
      "Tamanho da amostra de treino: 500\n",
      "Tamanho da amostra de validação: 108\n",
      "Distância Parâmetros Rede Neural: 7.532564772418442e-09\n",
      "Distância Parâmetros Alpha: 1.718690807929569e-05\n",
      "Média das distâncias: 8.597220322034054e-06\n",
      "Iniciando passo 19\n"
     ]
    },
    {
     "name": "stderr",
     "output_type": "stream",
     "text": [
      "  7%|▋         | 7/100 [00:01<00:13,  6.71epoch/s, loss=0.624, loss_val=0.757]\n"
     ]
    },
    {
     "name": "stdout",
     "output_type": "stream",
     "text": [
      "Iniciando treinamento:\n",
      "Tamanho da amostra de treino: 500\n",
      "Tamanho da amostra de validação: 108\n",
      "Distância Parâmetros Rede Neural: 1.661228425509255e-08\n",
      "Distância Parâmetros Alpha: 8.745078005087154e-05\n",
      "Média das distâncias: 4.373369616756332e-05\n",
      "Iniciando passo 20\n"
     ]
    },
    {
     "name": "stderr",
     "output_type": "stream",
     "text": [
      "  7%|▋         | 7/100 [00:01<00:14,  6.58epoch/s, loss=0.619, loss_val=0.754]\n"
     ]
    },
    {
     "name": "stdout",
     "output_type": "stream",
     "text": [
      "Iniciando treinamento:\n",
      "Tamanho da amostra de treino: 500\n",
      "Tamanho da amostra de validação: 108\n",
      "Distância Parâmetros Rede Neural: 2.573163677900731e-08\n",
      "Distância Parâmetros Alpha: 2.8473723153711975e-05\n",
      "Média das distâncias: 1.4249727395245491e-05\n",
      "Learning rate reduzida para 1e-05\n",
      "Iniciando passo 21\n"
     ]
    },
    {
     "name": "stderr",
     "output_type": "stream",
     "text": [
      "  7%|▋         | 7/100 [00:01<00:14,  6.62epoch/s, loss=0.615, loss_val=0.749]\n"
     ]
    },
    {
     "name": "stdout",
     "output_type": "stream",
     "text": [
      "Iniciando treinamento:\n",
      "Tamanho da amostra de treino: 500\n",
      "Tamanho da amostra de validação: 108\n",
      "Distância Parâmetros Rede Neural: 2.953472936554293e-10\n",
      "Distância Parâmetros Alpha: 2.5078736472249697e-05\n",
      "Média das distâncias: 1.2539515909771677e-05\n",
      "Iniciando passo 22\n"
     ]
    },
    {
     "name": "stderr",
     "output_type": "stream",
     "text": [
      "  6%|▌         | 6/100 [00:00<00:15,  6.07epoch/s, loss=0.614, loss_val=0.749]\n"
     ]
    },
    {
     "name": "stdout",
     "output_type": "stream",
     "text": [
      "Iniciando treinamento:\n",
      "Tamanho da amostra de treino: 500\n",
      "Tamanho da amostra de validação: 108\n",
      "Distância Parâmetros Rede Neural: 7.347896559322428e-11\n",
      "Distância Parâmetros Alpha: 9.332023377593406e-06\n",
      "Média das distâncias: 4.6660484282794995e-06\n",
      "Iniciando passo 23\n"
     ]
    },
    {
     "name": "stderr",
     "output_type": "stream",
     "text": [
      "  6%|▌         | 6/100 [00:00<00:15,  6.11epoch/s, loss=0.614, loss_val=0.749]\n"
     ]
    },
    {
     "name": "stdout",
     "output_type": "stream",
     "text": [
      "Iniciando treinamento:\n",
      "Tamanho da amostra de treino: 500\n",
      "Tamanho da amostra de validação: 108\n",
      "Distância Parâmetros Rede Neural: 7.349158258972025e-11\n",
      "Distância Parâmetros Alpha: 4.739870788578265e-06\n",
      "Média das distâncias: 2.3699721400804274e-06\n",
      "Iniciando passo 24\n"
     ]
    },
    {
     "name": "stderr",
     "output_type": "stream",
     "text": [
      "  6%|▌         | 6/100 [00:01<00:15,  5.99epoch/s, loss=0.613, loss_val=0.748]\n"
     ]
    },
    {
     "name": "stdout",
     "output_type": "stream",
     "text": [
      "Iniciando treinamento:\n",
      "Tamanho da amostra de treino: 500\n",
      "Tamanho da amostra de validação: 108\n",
      "Distância Parâmetros Rede Neural: 7.351732053445487e-11\n",
      "Distância Parâmetros Alpha: 2.502665477224547e-06\n",
      "Média das distâncias: 1.2513694972725407e-06\n",
      "Iniciando passo 25\n"
     ]
    },
    {
     "name": "stderr",
     "output_type": "stream",
     "text": [
      "  6%|▌         | 6/100 [00:01<00:16,  5.59epoch/s, loss=0.613, loss_val=0.748]\n"
     ]
    },
    {
     "name": "stdout",
     "output_type": "stream",
     "text": [
      "Iniciando treinamento:\n",
      "Tamanho da amostra de treino: 500\n",
      "Tamanho da amostra de validação: 108\n",
      "Distância Parâmetros Rede Neural: 7.34790930570058e-11\n",
      "Distância Parâmetros Alpha: 1.4666129907326824e-06\n",
      "Média das distâncias: 7.333432349128697e-07\n",
      "Algoritmo convergiu após 25 iterações. Retornando.\n",
      "Número de arquivos no diretório: 25\n"
     ]
    }
   ],
   "source": [
    "set_all_seeds(10)\n",
    "\n",
    "sim_results = fit_cure_model(\"poisson\", None,\n",
    "               file_info[\"t_train\"], file_info[\"t_val\"],\n",
    "               file_info[\"delta_train\"], file_info[\"delta_val\"],\n",
    "               file_info[\"img_train\"], file_info[\"img_val\"],\n",
    "               batch_size = None,\n",
    "               seed = 1, verbose = 3)"
   ]
  },
  {
   "cell_type": "code",
   "execution_count": 7,
   "id": "af75e042-9b8f-48a1-afb9-7d9126c31443",
   "metadata": {},
   "outputs": [],
   "source": [
    "alpha0, s_t = initialize_alpha_s(file_info[\"t_train\"], n_cuts = 5)"
   ]
  },
  {
   "cell_type": "code",
   "execution_count": 8,
   "id": "f8d46cfb-035b-4b67-af5b-ac75898e260a",
   "metadata": {},
   "outputs": [
    {
     "name": "stdout",
     "output_type": "stream",
     "text": [
      "alpha estimado: [0.90403162 0.89662829 0.92898258 0.86847408 0.74977768 1.        ]\n",
      "alpha xie: [1 1 1 1 1 1]\n"
     ]
    },
    {
     "data": {
      "image/png": "[encoded data removed]",
      "text/plain": [
       "<Figure size 1200x600 with 1 Axes>"
      ]
     },
     "metadata": {},
     "output_type": "display_data"
    }
   ],
   "source": [
    "tv = np.arange(0, s_t[-1], 0.1)\n",
    "S1v = S1(tv, sim_results[\"alpha_history\"][-1], s_t)\n",
    "\n",
    "alpha_xie = np.array([1, 1, 1, 1, 1, 1])\n",
    "S1v_xie = S1(tv, alpha_xie, s_t)\n",
    "\n",
    "print(\"alpha estimado: {}\".format(sim_results[\"alpha_history\"][-1]))\n",
    "print(\"alpha xie: {}\".format(alpha_xie))\n",
    "\n",
    "fig, ax = plt.subplots(figsize = (12, 6))\n",
    "plt.plot(tv, S1v)\n",
    "plt.plot(tv, S1v_xie)\n",
    "plt.grid()\n",
    "plt.show()"
   ]
  },
  {
   "cell_type": "code",
   "execution_count": 9,
   "id": "b473b2ed-64b9-4629-81ce-9bb4ffd68065",
   "metadata": {},
   "outputs": [
    {
     "name": "stdout",
     "output_type": "stream",
     "text": [
      "\u001b[1m 1/16\u001b[0m \u001b[32m━\u001b[0m\u001b[37m━━━━━━━━━━━━━━━━━━━\u001b[0m \u001b[1m4s\u001b[0m 294ms/step"
     ]
    },
    {
     "name": "stderr",
     "output_type": "stream",
     "text": [
      "I0000 00:00:1740312935.864563  792496 cuda_dnn.cc:529] Loaded cuDNN version 90300\n"
     ]
    },
    {
     "name": "stdout",
     "output_type": "stream",
     "text": [
      "\u001b[1m16/16\u001b[0m \u001b[32m━━━━━━━━━━━━━━━━━━━━\u001b[0m\u001b[37m\u001b[0m \u001b[1m0s\u001b[0m 8ms/step  \n",
      "\u001b[1m4/4\u001b[0m \u001b[32m━━━━━━━━━━━━━━━━━━━━\u001b[0m\u001b[37m\u001b[0m \u001b[1m0s\u001b[0m 26ms/step\n"
     ]
    }
   ],
   "source": [
    "eta_pred_train = sim_results[\"new_model\"].predict(file_info[\"img_train\"])\n",
    "eta_pred_test = sim_results[\"new_model\"].predict(file_info[\"img_test\"])"
   ]
  },
  {
   "cell_type": "code",
   "execution_count": 10,
   "id": "0f17d69e-51a3-4755-8552-f4293db20a71",
   "metadata": {},
   "outputs": [
    {
     "name": "stdout",
     "output_type": "stream",
     "text": [
      "MAE M - train: 0.6700095028670104\n",
      "MAE M - test: 1.2041034476067187\n"
     ]
    }
   ],
   "source": [
    "print(\"MAE M - train: {}\".format( np.mean( np.abs(file_info[\"m_train\"].to_numpy() - sim_results[\"m_history\"][-1])) ))\n",
    "print(\"MAE M - test: {}\".format( np.mean( np.abs(file_info[\"m_test\"].to_numpy() - sim_results[\"m_val_history\"][-1])) ))"
   ]
  },
  {
   "cell_type": "markdown",
   "id": "e3124795-ece7-46f8-b715-ffe9e41419ac",
   "metadata": {},
   "source": [
    "# Proper simulations"
   ]
  },
  {
   "cell_type": "code",
   "execution_count": 21,
   "id": "89b7c406-8339-4671-b841-807334767991",
   "metadata": {},
   "outputs": [
    {
     "name": "stdout",
     "output_type": "stream",
     "text": [
      "Creating directories structure\n"
     ]
    }
   ],
   "source": [
    "import os, shutil\n",
    "from pathlib import Path\n",
    "\n",
    "print(\"Creating directories structure\")\n",
    "dists_scenario1 = [\"poisson\", \"logarithmic\", \"geometric\", \"mvnb2\", \"bernoulli\", \"bin5\"]\n",
    "dists_scenario2 = [\"borel\", \"rgp2\", \"rgp10\", \"haight\", \"geeta3\"]\n",
    "for dist in dists_scenario1:\n",
    "    for j in range(1,101):\n",
    "        Path(\"SimulationResults/Scenario1/n500/{}/{}\".format(dist,j)).mkdir(parents=True, exist_ok=True)\n",
    "        Path(\"SimulationResults/Scenario1/n1000/{}/{}\".format(dist,j)).mkdir(parents=True, exist_ok=True)\n",
    "        Path(\"SimulationResults/Scenario1/n3000/{}/{}\".format(dist,j)).mkdir(parents=True, exist_ok=True)\n",
    "for dist in dists_scenario2:\n",
    "    Path(\"SimulationResults/Scenario2/n500/{}/{}\".format(dist,j)).mkdir(parents=True, exist_ok=True)\n",
    "    Path(\"SimulationResults/Scenario2/n1000/{}/{}\".format(dist,j)).mkdir(parents=True, exist_ok=True)\n",
    "    Path(\"SimulationResults/Scenario2/n3000/{}/{}\".format(dist,j)).mkdir(parents=True, exist_ok=True)"
   ]
  },
  {
   "cell_type": "markdown",
   "id": "2a66d992-cd6e-48fa-bc20-cd62995f1f6a",
   "metadata": {},
   "source": [
    "Below, there is a list of everything that will be saved in each simulation. We must consider the disk space this process might cost us.\n",
    "\n",
    "For each simulation, we will save:\n",
    "* Last estimated weights of the fitted model neural network\n",
    "* For all individuals from the dataset (train, val and test), saves a table with\n",
    "    * Estimated cure probability $\\widehat{p}$\n",
    "    * Estimated $\\widehat{\\theta}$\n",
    "    * Estimated $\\widehat{m}$ value\n",
    "    * Estimated $\\widehat{\\alpha}$\n",
    "    * Estimated $s_t$ from the knots of the piecewise exponential (depends on the quantiles of the lifetime observations)\n",
    "    * Set of the individual (train, val or test)\n",
    "\n",
    "Note that the real values for each individual is already accounted for in the original simulated dataset. After all simulations, we will compare the real values from the simulated datasets with the estimations saved from these simulations. With this set of informations, we can compute every prediction of interest for each individual, including the estimated AUC metric for the cured ones.\n",
    "\n",
    "In order to get some more information on the general scenario, we will also save the execution times for each dataset, the final loss function value after training, if the algorithm converged or not and the number of steps the EM needed."
   ]
  },
  {
   "cell_type": "code",
   "execution_count": 24,
   "id": "327a8c89-25d3-4811-bcd4-6476f5fe44f2",
   "metadata": {},
   "outputs": [],
   "source": [
    "def run_scenario(data_dir, distribution, q, train_images, test_images, seed = 1):\n",
    "    '''\n",
    "        Example:\n",
    "            data_dir = \"SimulationDataset/Scenario1/n500\"\n",
    "            distribution = \"poisson\"\n",
    "    '''\n",
    "\n",
    "    # Select the functions associated to the chosen distribution model\n",
    "    log_a_str, log_phi_str, C_str, C_inv_str, sup_str, theta_min, theta_max = select_model(distribution, q)\n",
    "    log_a_tf = eval(log_a_str)\n",
    "    log_phi_tf = eval(log_phi_str)\n",
    "    C_tf = eval(C_str)\n",
    "    C_inv_tf = eval(C_inv_str)\n",
    "    sup_tf = eval(sup_str)\n",
    "    \n",
    "    execution_times = []\n",
    "    loss_values = []\n",
    "    loss_val_values = []\n",
    "    converged = []\n",
    "    steps = []\n",
    "    # for i in tqdm(range(1, 101)):\n",
    "    for i in tqdm(range(1, 2)):\n",
    "        # Load the simulated dataset\n",
    "        sim_dataset = load_file(data_dir, i, distribution, train_images, test_images)\n",
    "        \n",
    "        _, s_t = initialize_alpha_s(sim_dataset[\"t_train\"], n_cuts = 5)\n",
    "        start_time = time()\n",
    "        result = fit_cure_model(distribution, q,\n",
    "                                sim_dataset[\"t_train\"], sim_dataset[\"t_val\"],\n",
    "                                sim_dataset[\"delta_train\"], sim_dataset[\"delta_val\"],\n",
    "                                sim_dataset[\"img_train\"], sim_dataset[\"img_val\"],\n",
    "                                batch_size = None, max_iterations = 100,\n",
    "                                seed = 1, verbose = 0)\n",
    "        elapsed_time = time() - start_time\n",
    "        execution_times.append(elapsed_time)\n",
    "        \n",
    "        # Recover information on the inference of parameters\n",
    "        eta_train_pred = result[\"new_model\"].predict(sim_dataset[\"img_train\"], verbose = 0)\n",
    "        eta_val_pred = result[\"new_model\"].predict(sim_dataset[\"img_val\"], verbose = 0)\n",
    "        eta_test_pred = result[\"new_model\"].predict(sim_dataset[\"img_test\"], verbose = 0)\n",
    "        \n",
    "        p_train_pred = result[\"new_model\"].link_func(eta_train_pred).numpy().flatten()\n",
    "        p_val_pred = result[\"new_model\"].link_func(eta_val_pred).numpy().flatten()\n",
    "        p_test_pred = result[\"new_model\"].link_func(eta_test_pred).numpy().flatten()\n",
    "        p_pred = np.concatenate([p_train_pred, p_val_pred, p_test_pred])\n",
    "        \n",
    "        log_p_train_pred = np.log(p_train_pred)\n",
    "        log_p_val_pred = np.log(p_val_pred)\n",
    "        log_p_test_pred = np.log(p_test_pred)\n",
    "        \n",
    "        log_a0 = log_a_tf( tf.constant(0.0, dtype = tf.float64) )\n",
    "        \n",
    "        theta_train_pred = C_inv_tf( np.exp(log_a0 - log_p_train_pred) ).numpy()\n",
    "        theta_val_pred = C_inv_tf( np.exp(log_a0 - log_p_val_pred) ).numpy()\n",
    "        theta_test_pred = C_inv_tf( np.exp(log_a0 - log_p_test_pred) ).numpy()\n",
    "        theta_pred = np.concatenate([theta_train_pred, theta_val_pred, theta_test_pred])\n",
    "        \n",
    "        m_train_pred = result[\"m_history\"][-1]\n",
    "        m_val_pred = result[\"m_val_history\"][-1]\n",
    "        m_test_pred = update_m_mps(result[\"new_model\"], result[\"new_alpha\"], s_t, sim_dataset[\"img_test\"], sim_dataset[\"t_test\"], sim_dataset[\"delta_test\"])\n",
    "        m_pred = np.concatenate([m_train_pred, m_val_pred, m_test_pred])\n",
    "\n",
    "        sets = np.concatenate([np.repeat(\"train\", len(theta_train_pred)), np.repeat(\"val\", len(theta_val_pred)), np.repeat(\"test\", len(theta_test_pred))])\n",
    "\n",
    "        results_dir = data_dir.split(\"/\")\n",
    "        results_dir = \"{}/{}\".format(\"SimulationResults\", \"/\".join(results_dir[1:]))\n",
    "        pd.DataFrame({\"p_pred\": p_pred, \"theta_pred\": theta_pred, \"m_pred\": m_pred, \"set\": sets}).to_csv(\n",
    "            \"{}/{}/{}/data_pred.csv\".format(results_dir, distribution, i), index = False\n",
    "        )\n",
    "        \n",
    "        # Save the model weights\n",
    "        result[\"new_model\"].save_model(\"{}/{}/{}/model.weights.h5\".format(results_dir, distribution, i))\n",
    "\n",
    "        # Save the piecewise exponential estimated parameters\n",
    "        save_alpha_s(result[\"new_alpha\"], s_t, filename = \"{}/{}/{}/alpha_s.csv\".format(results_dir, distribution, i))\n",
    "\n",
    "        loss_values.append( result[\"loss_history\"][-1] )\n",
    "        loss_val_values.append( result[\"loss_val_history\"][-1] )\n",
    "        converged.append( result[\"converged\"] )\n",
    "        steps.append( result[\"steps\"] )\n",
    "\n",
    "    pd.DataFrame({\"execution_times\": execution_times, \"loss_values\": loss_values, \"loss_val_values\": loss_val_values, \"converged\": converged, \"steps\": steps}).to_csv(\n",
    "        \"{}/{}/sim_metadata.csv\".format(results_dir, distribution, i), index = False\n",
    "    )"
   ]
  },
  {
   "cell_type": "code",
   "execution_count": 25,
   "id": "86d77ab2-4637-4ae7-87fc-a7afc469bbb9",
   "metadata": {},
   "outputs": [
    {
     "name": "stderr",
     "output_type": "stream",
     "text": [
      "100%|█████████████████████████████████████████████████████████████████████████████████████████████████████████████████████████████████████████████████████████████████████████| 1/1 [00:10<00:00, 10.80s/it]\n"
     ]
    }
   ],
   "source": [
    "run_scenario(\"SimulationDataset/Scenario1/n500\", \"poisson\", None, train_images, test_images, seed = 1)"
   ]
  },
  {
   "cell_type": "markdown",
   "id": "5f2c176a-0154-43b0-80c1-a1ec28a7a4e2",
   "metadata": {},
   "source": [
    "Now that everything is working, we just need to pass all this code to a .py file so we can execute multiple simulations at once. We note that the GPU memory is used only partially with each simulation scenario. We would like to verify if an entire distribution scenario (for example, poisson for n500, n1000 and n3000) may be executed all at once."
   ]
  }
 ],
 "metadata": {
  "kernelspec": {
   "display_name": "Python 3 (ipykernel)",
   "language": "python",
   "name": "python3"
  },
  "language_info": {
   "codemirror_mode": {
    "name": "ipython",
    "version": 3
   },
   "file_extension": ".py",
   "mimetype": "text/x-python",
   "name": "python",
   "nbconvert_exporter": "python",
   "pygments_lexer": "ipython3",
   "version": "3.10.16"
  }
 },
 "nbformat": 4,
 "nbformat_minor": 5
}
