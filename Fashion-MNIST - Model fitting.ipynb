{
 "cells": [
  {
   "cell_type": "code",
   "execution_count": 1,
   "id": "2cf31daa-ca4f-49b2-82b0-88b5b828d03d",
   "metadata": {},
   "outputs": [
    {
     "name": "stderr",
     "output_type": "stream",
     "text": [
      "WARNING: All log messages before absl::InitializeLog() is called are written to STDERR\n",
      "E0000 00:00:1740120194.736999  188158 cuda_dnn.cc:8310] Unable to register cuDNN factory: Attempting to register factory for plugin cuDNN when one has already been registered\n",
      "E0000 00:00:1740120194.740706  188158 cuda_blas.cc:1418] Unable to register cuBLAS factory: Attempting to register factory for plugin cuBLAS when one has already been registered\n",
      "/home/natan/.pyenv/versions/3.10.16/lib/python3.10/site-packages/tqdm/auto.py:21: TqdmWarning: IProgress not found. Please update jupyter and ipywidgets. See https://ipywidgets.readthedocs.io/en/stable/user_install.html\n",
      "  from .autonotebook import tqdm as notebook_tqdm\n"
     ]
    }
   ],
   "source": [
    "import numpy as np\n",
    "import pandas as pd\n",
    "\n",
    "from scipy.special import comb, loggamma, lambertw\n",
    "from scipy.stats import multinomial, expon\n",
    "\n",
    "from silence_tensorflow import silence_tensorflow\n",
    "silence_tensorflow()\n",
    "import tensorflow as tf\n",
    "\n",
    "from matplotlib import pyplot as plt\n",
    "\n",
    "from net_model import *\n",
    "from custom_model import *\n",
    "from mps_models import *\n",
    "import mps\n",
    "import pwexp"
   ]
  },
  {
   "cell_type": "markdown",
   "id": "81c0b7d9-346d-47f1-b700-b767177a1ad5",
   "metadata": {},
   "source": [
    "# Load dataset"
   ]
  },
  {
   "cell_type": "code",
   "execution_count": 2,
   "id": "f90952d8-5cd9-4310-a545-daf47aecf4d1",
   "metadata": {},
   "outputs": [],
   "source": [
    "fashion_mnist = tf.keras.datasets.fashion_mnist\n",
    "(train_images, train_labels), (test_images, test_labels) = fashion_mnist.load_data()\n",
    "\n",
    "i_valid_train = pd.Series(train_labels).isin([0,1,2,3,4]).to_numpy()\n",
    "i_valid_test = pd.Series(test_labels).isin([0,1,2,3,4]).to_numpy()\n",
    "\n",
    "# Filters to take only the images with labels in [0, 1, 2, 3, 4]\n",
    "train_images = train_images[i_valid_train]\n",
    "train_images = train_images / np.max(train_images)\n",
    "train_shape = train_images.shape\n",
    "# Adds one more dimension for keras to identify the \"colors\" dimension\n",
    "train_images = np.reshape(train_images, (train_shape[0], train_shape[1], train_shape[2], 1))\n",
    "\n",
    "test_images = test_images[i_valid_test]\n",
    "test_images = test_images / np.max(test_images)\n",
    "test_shape = test_images.shape\n",
    "# Adds one more dimension for keras to identify the \"colors\" dimension\n",
    "test_images = np.reshape(test_images, (test_shape[0], test_shape[1], test_shape[2], 1))\n",
    "\n",
    "train_labels = train_labels[i_valid_train]\n",
    "test_labels = test_labels[i_valid_test]"
   ]
  },
  {
   "cell_type": "markdown",
   "id": "8af433fe-ee3d-4ab0-b8a8-3e77d78efa59",
   "metadata": {},
   "source": [
    "#### Function to read a specific simulated dataset"
   ]
  },
  {
   "cell_type": "code",
   "execution_count": 3,
   "id": "f4babee9-5147-4769-981f-6c8cbd3bec15",
   "metadata": {},
   "outputs": [],
   "source": [
    "def load_file(data_dir, file_index, distribution, train_images, test_images):\n",
    "    '''\n",
    "        Example:\n",
    "            data_dir = \"SimulationDataset/Scenario1/n500\"\n",
    "            file_index = 20\n",
    "            distribution = \"poisson\"\n",
    "    '''\n",
    "    index_path = \"{}/indices_{}.csv\".format(data_dir, file_index, distribution)\n",
    "    data_path = \"{}/{}/data_{}.csv\".format(data_dir, distribution, file_index)\n",
    "    df_index = pd.read_csv(index_path)\n",
    "    df_data = pd.read_csv(data_path)\n",
    "\n",
    "    index_train = df_index.loc[df_index.set == \"train\",\"index\"].to_numpy()\n",
    "    index_val = df_index.loc[df_index.set == \"val\",\"index\"].to_numpy()\n",
    "    index_test = df_index.loc[df_index.set == \"test\",\"index\"].to_numpy()\n",
    "\n",
    "    # Values for the thetas\n",
    "    theta_train = df_data.loc[df_data.set == \"train\", \"theta\"]\n",
    "    theta_val = df_data.loc[df_data.set == \"val\", \"theta\"]\n",
    "    theta_test = df_data.loc[df_data.set == \"test\", \"theta\"]\n",
    "    # Values for the latent variable\n",
    "    m_train = df_data.loc[df_data.set == \"train\", \"m\"]\n",
    "    m_val = df_data.loc[df_data.set == \"val\", \"m\"]\n",
    "    m_test = df_data.loc[df_data.set == \"test\", \"m\"]\n",
    "    # Values for the time variable\n",
    "    t_train = df_data.loc[df_data.set == \"train\", \"t\"]\n",
    "    t_val = df_data.loc[df_data.set == \"val\", \"t\"]\n",
    "    t_test = df_data.loc[df_data.set == \"test\", \"t\"]\n",
    "    # Values for the censorship indicators\n",
    "    delta_train = df_data.loc[df_data.set == \"train\", \"delta\"]\n",
    "    delta_val = df_data.loc[df_data.set == \"val\", \"delta\"]\n",
    "    delta_test = df_data.loc[df_data.set == \"test\", \"delta\"]\n",
    "\n",
    "    img_train = train_images[index_train,:,:]\n",
    "    img_val = train_images[index_val,:,:]\n",
    "    img_test = test_images[index_test,:,:]\n",
    "\n",
    "    result = {\n",
    "        \"theta_train\": theta_train, \"theta_val\": theta_val, \"theta_test\": theta_test,\n",
    "        \"m_train\": m_train, \"m_val\": m_val, \"m_test\": m_test,\n",
    "        \"t_train\": t_train, \"t_val\": t_val, \"t_test\": t_test,\n",
    "        \"delta_train\": delta_train, \"delta_val\": delta_val, \"delta_test\": delta_test,\n",
    "        \"img_train\": img_train, \"img_val\": img_val, \"img_test\": img_test,\n",
    "        \"index_train\": index_train, \"index_val\": index_val, \"index_test\": index_test\n",
    "    }\n",
    "    \n",
    "    return result"
   ]
  },
  {
   "cell_type": "code",
   "execution_count": 4,
   "id": "9dbe4ec8-0272-45aa-b7a3-83bcc782d7eb",
   "metadata": {},
   "outputs": [
    {
     "name": "stdout",
     "output_type": "stream",
     "text": [
      "Keys: ['theta_train', 'theta_val', 'theta_test', 'm_train', 'm_val', 'm_test', 't_train', 't_val', 't_test', 'delta_train', 'delta_val', 'delta_test', 'img_train', 'img_val', 'img_test', 'index_train', 'index_val', 'index_test']\n"
     ]
    }
   ],
   "source": [
    "file_info = load_file(\"SimulationDataset/Scenario1/n3000/\", 1, \"bernoulli\", train_images, test_images)\n",
    "print( \"Keys: {}\".format(list(file_info.keys())) )"
   ]
  },
  {
   "cell_type": "code",
   "execution_count": 5,
   "id": "e59cce04-a050-4299-9592-d0a50cc9f875",
   "metadata": {},
   "outputs": [
    {
     "name": "stdout",
     "output_type": "stream",
     "text": [
      "alpha0: [1. 1. 1. 1. 1. 1.]\n",
      "cuts: [0.         0.27922816 0.68923389 1.39593144 2.97584372 5.9965322 ]\n"
     ]
    }
   ],
   "source": [
    "alpha0, s_t = initialize_alpha_s(file_info[\"t_train\"], n_cuts = 5)\n",
    "\n",
    "print(\"alpha0: {}\".format(alpha0))\n",
    "print(\"cuts: {}\".format(s_t))"
   ]
  },
  {
   "cell_type": "code",
   "execution_count": 6,
   "id": "04c32dc0-4908-4c6b-8237-cf10cabaf656",
   "metadata": {},
   "outputs": [
    {
     "name": "stdout",
     "output_type": "stream",
     "text": [
      "Creating directories structure\n"
     ]
    }
   ],
   "source": [
    "import os, shutil\n",
    "from pathlib import Path\n",
    "\n",
    "print(\"Creating directories structure\")\n",
    "dists_scenario1 = [\"poisson\", \"logarithmic\", \"geometric\", \"mvnb2\", \"bernoulli\", \"bin5\"]\n",
    "dists_scenario2 = [\"borel\", \"rgp2\", \"rgp10\", \"haight\", \"geeta3\"]\n",
    "for dist in dists_scenario1:\n",
    "    Path(\"SimulationResults/Scenario1/n500/{}\".format(dist)).mkdir(parents=True, exist_ok=True)\n",
    "    Path(\"SimulationResults/Scenario1/n1000/{}\".format(dist)).mkdir(parents=True, exist_ok=True)\n",
    "    Path(\"SimulationResults/Scenario1/n3000/{}\".format(dist)).mkdir(parents=True, exist_ok=True)\n",
    "for dist in dists_scenario2:\n",
    "    Path(\"SimulationResults/Scenario2/n500/{}\".format(dist)).mkdir(parents=True, exist_ok=True)\n",
    "    Path(\"SimulationResults/Scenario2/n1000/{}\".format(dist)).mkdir(parents=True, exist_ok=True)\n",
    "    Path(\"SimulationResults/Scenario2/n3000/{}\".format(dist)).mkdir(parents=True, exist_ok=True)"
   ]
  },
  {
   "cell_type": "code",
   "execution_count": 7,
   "id": "f08403ed-6fd9-4462-b32c-65d392178c04",
   "metadata": {},
   "outputs": [],
   "source": [
    "def fit_simulation(distribution,\n",
    "                   t_train, t_val,\n",
    "                   delta_train, delta_val,\n",
    "                   img_train, img_val,\n",
    "                   seed = 1):\n",
    "    set_all_seeds(seed)\n",
    "    \n",
    "    alpha0, s_t = initialize_alpha_s(t_train, n_cuts = 5)\n",
    "    print(s_t)\n",
    "    s_t = np.array([0.0, 2.062, 3.36, 4.495, 6.32, 12.2])\n",
    "    \n",
    "    if(distribution == \"poisson\"):\n",
    "        log_a_tf = log_a_poisson_tf\n",
    "        log_phi_tf = log_phi_poisson_tf\n",
    "        C_tf = C_poisson_tf\n",
    "        C_inv_tf = C_inv_poisson_tf\n",
    "        sup = sup_poisson\n",
    "        \n",
    "        log_a_str = log_a_poisson_str\n",
    "        log_phi_str = log_phi_poisson_str\n",
    "        C_str = C_poisson_str\n",
    "        C_inv_str = C_inv_poisson_str\n",
    "        sup_str = sup_poisson_str\n",
    "        B_str = \"10001\"\n",
    "        \n",
    "    mps_model = MPScrModel(log_a_tf, log_phi_tf, C_tf, C_inv_tf, sup)\n",
    "    mps_model.define_structure(shape_input = img_train[0].shape)\n",
    "\n",
    "    results = call_EM(\"EM.py\",\n",
    "                      log_a_str, log_phi_str, C_str, C_inv_str, B_str, sup_str,\n",
    "                      mps_model, alpha0, s_t,\n",
    "                      img_train, t_train, delta_train, delta_train,\n",
    "                      max_iterations = 60,\n",
    "                      early_stopping_em = True, early_stopping_em_warmup = 5, early_stopping_em_eps = 1.0e-6,\n",
    "                      epochs = 100, batch_size = 64, shuffle = True,\n",
    "                      learning_rate = 0.001, run_eagerly = True,\n",
    "                      early_stopping_nn = True, early_stopping_min_delta_nn = 0.0, early_stopping_patience_nn = 5,\n",
    "                      reduce_lr = True, reduce_lr_steps = 10, reduce_lr_factor = 0.1,\n",
    "                      validation = True,\n",
    "                      x_val = img_val, t_val = t_val, delta_val = delta_val, m_val = delta_val,\n",
    "                      verbose = 3, alpha_known = False)\n",
    "    return results"
   ]
  },
  {
   "cell_type": "code",
   "execution_count": 8,
   "id": "5fbbf24f-c586-437d-b32e-92af2d87dea5",
   "metadata": {},
   "outputs": [
    {
     "name": "stdout",
     "output_type": "stream",
     "text": [
      "Dimensão dos dados de treino: (280, 23)\n",
      "Dimensão dos dados de teste: (72, 23)\n",
      "Dimensão dos dados completos: (352, 23)\n",
      "Dimensão das imagens: (160, 200, 1)\n"
     ]
    }
   ],
   "source": [
    "df_train = pd.read_csv(\"../Datasets/trainSet.csv\")\n",
    "df_train = df_train.iloc[:,1:]\n",
    "\n",
    "df_test = pd.read_csv(\"../Datasets/testSet.csv\")\n",
    "df_test = df_test.iloc[:,1:]\n",
    "\n",
    "df = pd.concat([df_train, df_test])\n",
    "\n",
    "print(\"Dimensão dos dados de treino: {}\".format(df_train.shape))\n",
    "print(\"Dimensão dos dados de teste: {}\".format(df_test.shape))\n",
    "print(\"Dimensão dos dados completos: {}\".format(df.shape))\n",
    "\n",
    "mri = np.load(\"../Datasets/mri.npz\")\n",
    "\n",
    "mriTrain = (mri[\"train_images\"] / np.max(mri[\"train_images\"]))\n",
    "# mriTrain = mri[\"train_images\"]\n",
    "# Remove uma observação do conjunto, que contava com dados de especificação faltantes\n",
    "mriTrain = np.delete(mriTrain, 230, axis=0)\n",
    "\n",
    "mriTest = (mri[\"test_images\"] / np.max(mri[\"test_images\"]))\n",
    "# mriTest = mri[\"test_images\"]\n",
    "\n",
    "image_dim = mriTrain[0].shape\n",
    "print(\"Dimensão das imagens: {}\".format(image_dim))\n",
    "\n",
    "x_train = mriTrain\n",
    "t_train = df_train.time.to_numpy()\n",
    "delta_train = df_train.delta.to_numpy()\n",
    "m_train = df_train.delta.to_numpy()\n",
    "x_test = mriTest\n",
    "t_test = df_test.time.to_numpy()\n",
    "delta_test = df_test.delta.to_numpy()\n",
    "m_test = df_test.delta.to_numpy()"
   ]
  },
  {
   "cell_type": "code",
   "execution_count": 9,
   "id": "cae31a3c-2cc3-441b-a59d-a6a18ce5dbe2",
   "metadata": {},
   "outputs": [],
   "source": [
    "fake_file_info = {\n",
    "    'theta_train': None,\n",
    "    'theta_val': None,\n",
    "    'theta_test': None,\n",
    "    'm_train': None,\n",
    "    'm_val': None,\n",
    "    'm_test': None,\n",
    "    't_train': t_train,\n",
    "    't_val': t_test,\n",
    "    't_test': t_test,\n",
    "    'delta_train': delta_train,\n",
    "    'delta_val': delta_test,\n",
    "    'delta_test': delta_test,\n",
    "    'img_train': x_train,\n",
    "    'img_val': x_test,\n",
    "    'img_test': x_test,\n",
    "    'index_train': None,\n",
    "    'index_val': None,\n",
    "    'index_test': None\n",
    "    \n",
    "}"
   ]
  },
  {
   "cell_type": "code",
   "execution_count": 10,
   "id": "34550bc9-770d-495c-92b9-06fb6b3367a2",
   "metadata": {},
   "outputs": [
    {
     "name": "stdout",
     "output_type": "stream",
     "text": [
      "[ 0.          3.18191781  4.9769863   7.06246575  9.13643836 12.11780822]\n"
     ]
    },
    {
     "name": "stderr",
     "output_type": "stream",
     "text": [
      "/home/natan/.pyenv/versions/3.10.16/lib/python3.10/site-packages/keras/src/layers/convolutional/base_conv.py:107: UserWarning: Do not pass an `input_shape`/`input_dim` argument to a layer. When using Sequential models, prefer using an `Input(shape)` object as the first layer in the model instead.\n",
      "  super().__init__(activity_regularizer=activity_regularizer, **kwargs)\n",
      "I0000 00:00:1740120197.642540  188158 gpu_device.cc:2022] Created device /job:localhost/replica:0/task:0/device:GPU:0 with 4203 MB memory:  -> device: 0, name: NVIDIA GeForce RTX 3050 6GB Laptop GPU, pci bus id: 0000:01:00.0, compute capability: 8.6\n",
      "I0000 00:00:1740120198.230489  188158 cuda_dnn.cc:529] Loaded cuDNN version 90300\n",
      "WARNING: All log messages before absl::InitializeLog() is called are written to STDERR\n",
      "E0000 00:00:1740120199.304921  188266 cuda_dnn.cc:8310] Unable to register cuDNN factory: Attempting to register factory for plugin cuDNN when one has already been registered\n",
      "E0000 00:00:1740120199.308824  188266 cuda_blas.cc:1418] Unable to register cuBLAS factory: Attempting to register factory for plugin cuBLAS when one has already been registered\n",
      "I0000 00:00:1740120201.976064  188266 gpu_device.cc:2022] Created device /job:localhost/replica:0/task:0/device:GPU:0 with 1209 MB memory:  -> device: 0, name: NVIDIA GeForce RTX 3050 6GB Laptop GPU, pci bus id: 0000:01:00.0, compute capability: 8.6\n",
      "I0000 00:00:1740120202.193695  188266 gpu_device.cc:2022] Created device /job:localhost/replica:0/task:0/device:GPU:0 with 1209 MB memory:  -> device: 0, name: NVIDIA GeForce RTX 3050 6GB Laptop GPU, pci bus id: 0000:01:00.0, compute capability: 8.6\n",
      "/home/natan/.pyenv/versions/3.10.16/lib/python3.10/site-packages/keras/src/layers/convolutional/base_conv.py:107: UserWarning: Do not pass an `input_shape`/`input_dim` argument to a layer. When using Sequential models, prefer using an `Input(shape)` object as the first layer in the model instead.\n",
      "  super().__init__(activity_regularizer=activity_regularizer, **kwargs)\n",
      "I0000 00:00:1740120202.794187  188266 cuda_dnn.cc:529] Loaded cuDNN version 90300\n"
     ]
    },
    {
     "name": "stdout",
     "output_type": "stream",
     "text": [
      "Iniciando passo 1\n"
     ]
    },
    {
     "name": "stderr",
     "output_type": "stream",
     "text": [
      " 11%|█         | 11/100 [00:08<01:08,  1.30epoch/s, loss=0.462, loss_val=0.517]\n",
      "  0%|          | 0/100 [00:00<?, ?epoch/s]"
     ]
    },
    {
     "name": "stdout",
     "output_type": "stream",
     "text": [
      "Iniciando treinamento:\n",
      "Tamanho da amostra de treino: 280\n",
      "Tamanho da amostra de validação: 72\n",
      "Distância Parâmetros Rede Neural: 5.00535007747008e-06\n",
      "Distância Parâmetros Alpha: 0.39179786441162995\n",
      "Média das distâncias: 0.1959014348808537\n",
      "Iniciando passo 2\n"
     ]
    },
    {
     "name": "stderr",
     "output_type": "stream",
     "text": [
      "  7%|▋         | 7/100 [00:02<00:28,  3.25epoch/s, loss=0.685, loss_val=0.626]\n"
     ]
    },
    {
     "name": "stdout",
     "output_type": "stream",
     "text": [
      "Iniciando treinamento:\n",
      "Tamanho da amostra de treino: 280\n",
      "Tamanho da amostra de validação: 72\n",
      "Distância Parâmetros Rede Neural: 2.2713715970879455e-06\n",
      "Distância Parâmetros Alpha: 0.0026790223694089436\n",
      "Média das distâncias: 0.0013406468705030158\n",
      "Iniciando passo 3\n"
     ]
    },
    {
     "name": "stderr",
     "output_type": "stream",
     "text": [
      " 10%|█         | 10/100 [00:03<00:27,  3.22epoch/s, loss=0.608, loss_val=0.671]\n"
     ]
    },
    {
     "name": "stdout",
     "output_type": "stream",
     "text": [
      "Iniciando treinamento:\n",
      "Tamanho da amostra de treino: 280\n",
      "Tamanho da amostra de validação: 72\n",
      "Distância Parâmetros Rede Neural: 1.8986257501932253e-06\n",
      "Distância Parâmetros Alpha: 0.0013198884741975096\n",
      "Média das distâncias: 0.0006608935499738514\n",
      "Iniciando passo 4\n"
     ]
    },
    {
     "name": "stderr",
     "output_type": "stream",
     "text": [
      "  8%|▊         | 8/100 [00:02<00:28,  3.27epoch/s, loss=0.719, loss_val=0.703]\n"
     ]
    },
    {
     "name": "stdout",
     "output_type": "stream",
     "text": [
      "Iniciando treinamento:\n",
      "Tamanho da amostra de treino: 280\n",
      "Tamanho da amostra de validação: 72\n",
      "Distância Parâmetros Rede Neural: 1.5197585462066672e-06\n",
      "Distância Parâmetros Alpha: 0.0008180196196858587\n",
      "Média das distâncias: 0.0004097696891160327\n",
      "Iniciando passo 5\n"
     ]
    },
    {
     "name": "stderr",
     "output_type": "stream",
     "text": [
      "  8%|▊         | 8/100 [00:02<00:29,  3.17epoch/s, loss=0.704, loss_val=0.733]\n"
     ]
    },
    {
     "name": "stdout",
     "output_type": "stream",
     "text": [
      "Iniciando treinamento:\n",
      "Tamanho da amostra de treino: 280\n",
      "Tamanho da amostra de validação: 72\n",
      "Distância Parâmetros Rede Neural: 1.7623881421193938e-06\n",
      "Distância Parâmetros Alpha: 0.0009693911255577205\n",
      "Média das distâncias: 0.0004855767568499199\n",
      "Iniciando passo 6\n"
     ]
    },
    {
     "name": "stderr",
     "output_type": "stream",
     "text": [
      "  7%|▋         | 7/100 [00:02<00:29,  3.15epoch/s, loss=0.764, loss_val=0.754]\n"
     ]
    },
    {
     "name": "stdout",
     "output_type": "stream",
     "text": [
      "Iniciando treinamento:\n",
      "Tamanho da amostra de treino: 280\n",
      "Tamanho da amostra de validação: 72\n",
      "Distância Parâmetros Rede Neural: 3.207243780404991e-06\n",
      "Distância Parâmetros Alpha: 0.0006746147580734464\n",
      "Média das distâncias: 0.0003389110009269257\n",
      "Iniciando passo 7\n"
     ]
    },
    {
     "name": "stderr",
     "output_type": "stream",
     "text": [
      "  9%|▉         | 9/100 [00:03<00:30,  2.97epoch/s, loss=0.648, loss_val=0.715]\n",
      "  0%|          | 0/100 [00:00<?, ?epoch/s]"
     ]
    },
    {
     "name": "stdout",
     "output_type": "stream",
     "text": [
      "Iniciando treinamento:\n",
      "Tamanho da amostra de treino: 280\n",
      "Tamanho da amostra de validação: 72\n",
      "Distância Parâmetros Rede Neural: 4.238417429116356e-06\n",
      "Distância Parâmetros Alpha: 0.00010869457513570261\n",
      "Média das distâncias: 5.6466496282409487e-05\n",
      "Iniciando passo 8\n"
     ]
    },
    {
     "name": "stderr",
     "output_type": "stream",
     "text": [
      "  9%|▉         | 9/100 [00:02<00:28,  3.17epoch/s, loss=0.815, loss_val=0.739]\n"
     ]
    },
    {
     "name": "stdout",
     "output_type": "stream",
     "text": [
      "Iniciando treinamento:\n",
      "Tamanho da amostra de treino: 280\n",
      "Tamanho da amostra de validação: 72\n",
      "Distância Parâmetros Rede Neural: 4.045019456970221e-06\n",
      "Distância Parâmetros Alpha: 7.182100857940142e-05\n",
      "Média das distâncias: 3.793301401818582e-05\n",
      "Iniciando passo 9\n"
     ]
    },
    {
     "name": "stderr",
     "output_type": "stream",
     "text": [
      " 10%|█         | 10/100 [00:03<00:29,  3.08epoch/s, loss=0.684, loss_val=0.761]\n",
      "  0%|          | 0/100 [00:00<?, ?epoch/s]"
     ]
    },
    {
     "name": "stdout",
     "output_type": "stream",
     "text": [
      "Iniciando treinamento:\n",
      "Tamanho da amostra de treino: 280\n",
      "Tamanho da amostra de validação: 72\n",
      "Distância Parâmetros Rede Neural: 5.421875296097679e-06\n",
      "Distância Parâmetros Alpha: 0.00017474311804131773\n",
      "Média das distâncias: 9.00824966687077e-05\n",
      "Iniciando passo 10\n"
     ]
    },
    {
     "name": "stderr",
     "output_type": "stream",
     "text": [
      " 12%|█▏        | 12/100 [00:03<00:28,  3.09epoch/s, loss=0.696, loss_val=0.762]\n",
      "  0%|          | 0/100 [00:00<?, ?epoch/s]"
     ]
    },
    {
     "name": "stdout",
     "output_type": "stream",
     "text": [
      "Iniciando treinamento:\n",
      "Tamanho da amostra de treino: 280\n",
      "Tamanho da amostra de validação: 72\n",
      "Distância Parâmetros Rede Neural: 5.953084185540851e-06\n",
      "Distância Parâmetros Alpha: 0.00015076549795819968\n",
      "Média das distâncias: 7.835929107187026e-05\n",
      "Learning rate reduzida para 0.0001\n",
      "Iniciando passo 11\n"
     ]
    },
    {
     "name": "stderr",
     "output_type": "stream",
     "text": [
      "  6%|▌         | 6/100 [00:01<00:28,  3.26epoch/s, loss=0.668, loss_val=0.779]\n"
     ]
    },
    {
     "name": "stdout",
     "output_type": "stream",
     "text": [
      "Iniciando treinamento:\n",
      "Tamanho da amostra de treino: 280\n",
      "Tamanho da amostra de validação: 72\n",
      "Distância Parâmetros Rede Neural: 7.137630042323165e-09\n",
      "Distância Parâmetros Alpha: 0.00027525930606618246\n",
      "Média das distâncias: 0.0001376332218481124\n",
      "Iniciando passo 12\n"
     ]
    },
    {
     "name": "stderr",
     "output_type": "stream",
     "text": [
      "  6%|▌         | 6/100 [00:01<00:28,  3.29epoch/s, loss=0.887, loss_val=0.776]\n"
     ]
    },
    {
     "name": "stdout",
     "output_type": "stream",
     "text": [
      "Iniciando treinamento:\n",
      "Tamanho da amostra de treino: 280\n",
      "Tamanho da amostra de validação: 72\n",
      "Distância Parâmetros Rede Neural: 3.0664917975708782e-09\n",
      "Distância Parâmetros Alpha: 7.268895432844582e-05\n",
      "Média das distâncias: 3.63460104101217e-05\n",
      "Iniciando passo 13\n"
     ]
    },
    {
     "name": "stderr",
     "output_type": "stream",
     "text": [
      " 10%|█         | 10/100 [00:03<00:27,  3.26epoch/s, loss=0.662, loss_val=0.785]\n"
     ]
    },
    {
     "name": "stdout",
     "output_type": "stream",
     "text": [
      "Iniciando treinamento:\n",
      "Tamanho da amostra de treino: 280\n",
      "Tamanho da amostra de validação: 72\n",
      "Distância Parâmetros Rede Neural: 9.088233081216753e-08\n",
      "Distância Parâmetros Alpha: 6.53669299283478e-05\n",
      "Média das distâncias: 3.272890612957998e-05\n",
      "Iniciando passo 14\n"
     ]
    },
    {
     "name": "stderr",
     "output_type": "stream",
     "text": [
      "  8%|▊         | 8/100 [00:02<00:28,  3.25epoch/s, loss=0.82, loss_val=0.797] \n"
     ]
    },
    {
     "name": "stdout",
     "output_type": "stream",
     "text": [
      "Iniciando treinamento:\n",
      "Tamanho da amostra de treino: 280\n",
      "Tamanho da amostra de validação: 72\n",
      "Distância Parâmetros Rede Neural: 3.041399029446672e-08\n",
      "Distância Parâmetros Alpha: 8.151346645296103e-05\n",
      "Média das distâncias: 4.077194022162775e-05\n",
      "Iniciando passo 15\n"
     ]
    },
    {
     "name": "stderr",
     "output_type": "stream",
     "text": [
      "  7%|▋         | 7/100 [00:02<00:28,  3.21epoch/s, loss=0.682, loss_val=0.811]\n"
     ]
    },
    {
     "name": "stdout",
     "output_type": "stream",
     "text": [
      "Iniciando treinamento:\n",
      "Tamanho da amostra de treino: 280\n",
      "Tamanho da amostra de validação: 72\n",
      "Distância Parâmetros Rede Neural: 1.887223715565087e-08\n",
      "Distância Parâmetros Alpha: 0.00010919140865735777\n",
      "Média das distâncias: 5.460514044725671e-05\n",
      "Iniciando passo 16\n"
     ]
    },
    {
     "name": "stderr",
     "output_type": "stream",
     "text": [
      "  8%|▊         | 8/100 [00:02<00:27,  3.29epoch/s, loss=0.744, loss_val=0.823]\n"
     ]
    },
    {
     "name": "stdout",
     "output_type": "stream",
     "text": [
      "Iniciando treinamento:\n",
      "Tamanho da amostra de treino: 280\n",
      "Tamanho da amostra de validação: 72\n",
      "Distância Parâmetros Rede Neural: 3.2592707353686074e-08\n",
      "Distância Parâmetros Alpha: 7.202630383488246e-05\n",
      "Média das distâncias: 3.602944827111807e-05\n",
      "Iniciando passo 17\n"
     ]
    },
    {
     "name": "stderr",
     "output_type": "stream",
     "text": [
      "  6%|▌         | 6/100 [00:01<00:28,  3.27epoch/s, loss=0.751, loss_val=0.823]\n"
     ]
    },
    {
     "name": "stdout",
     "output_type": "stream",
     "text": [
      "Iniciando treinamento:\n",
      "Tamanho da amostra de treino: 280\n",
      "Tamanho da amostra de validação: 72\n",
      "Distância Parâmetros Rede Neural: 3.777293992344831e-09\n",
      "Distância Parâmetros Alpha: 1.924460448232802e-05\n",
      "Média das distâncias: 9.624190888160182e-06\n",
      "Iniciando passo 18\n"
     ]
    },
    {
     "name": "stderr",
     "output_type": "stream",
     "text": [
      "  6%|▌         | 6/100 [00:01<00:29,  3.20epoch/s, loss=0.739, loss_val=0.822]\n"
     ]
    },
    {
     "name": "stdout",
     "output_type": "stream",
     "text": [
      "Iniciando treinamento:\n",
      "Tamanho da amostra de treino: 280\n",
      "Tamanho da amostra de validação: 72\n",
      "Distância Parâmetros Rede Neural: 8.569759706369892e-09\n",
      "Distância Parâmetros Alpha: 4.665342472570217e-06\n",
      "Média das distâncias: 2.3369561161382932e-06\n",
      "Iniciando passo 19\n"
     ]
    },
    {
     "name": "stderr",
     "output_type": "stream",
     "text": [
      "  6%|▌         | 6/100 [00:01<00:29,  3.19epoch/s, loss=0.97, loss_val=0.835] \n"
     ]
    },
    {
     "name": "stdout",
     "output_type": "stream",
     "text": [
      "Iniciando treinamento:\n",
      "Tamanho da amostra de treino: 280\n",
      "Tamanho da amostra de validação: 72\n",
      "Distância Parâmetros Rede Neural: 1.5273468486111723e-08\n",
      "Distância Parâmetros Alpha: 2.6562754370907745e-05\n",
      "Média das distâncias: 1.3289013919696929e-05\n",
      "Iniciando passo 20\n"
     ]
    },
    {
     "name": "stderr",
     "output_type": "stream",
     "text": [
      "  6%|▌         | 6/100 [00:01<00:28,  3.25epoch/s, loss=0.735, loss_val=0.834]\n"
     ]
    },
    {
     "name": "stdout",
     "output_type": "stream",
     "text": [
      "Iniciando treinamento:\n",
      "Tamanho da amostra de treino: 280\n",
      "Tamanho da amostra de validação: 72\n",
      "Distância Parâmetros Rede Neural: 1.390211772420564e-08\n",
      "Distância Parâmetros Alpha: 4.1816204965575795e-06\n",
      "Média das distâncias: 2.0977613071408925e-06\n",
      "Learning rate reduzida para 1e-05\n",
      "Iniciando passo 21\n"
     ]
    },
    {
     "name": "stderr",
     "output_type": "stream",
     "text": [
      "  6%|▌         | 6/100 [00:01<00:28,  3.26epoch/s, loss=0.61, loss_val=0.836] \n"
     ]
    },
    {
     "name": "stdout",
     "output_type": "stream",
     "text": [
      "Iniciando treinamento:\n",
      "Tamanho da amostra de treino: 280\n",
      "Tamanho da amostra de validação: 72\n",
      "Distância Parâmetros Rede Neural: 8.827342890290649e-11\n",
      "Distância Parâmetros Alpha: 6.5941566161362195e-06\n",
      "Média das distâncias: 3.2971224447825613e-06\n",
      "Iniciando passo 22\n"
     ]
    },
    {
     "name": "stderr",
     "output_type": "stream",
     "text": [
      "  7%|▋         | 7/100 [00:02<00:28,  3.27epoch/s, loss=0.857, loss_val=0.84]\n"
     ]
    },
    {
     "name": "stdout",
     "output_type": "stream",
     "text": [
      "Iniciando treinamento:\n",
      "Tamanho da amostra de treino: 280\n",
      "Tamanho da amostra de validação: 72\n",
      "Distância Parâmetros Rede Neural: 5.652043045399506e-10\n",
      "Distância Parâmetros Alpha: 6.283625193036536e-06\n",
      "Média das distâncias: 3.1420951986705376e-06\n",
      "Iniciando passo 23\n"
     ]
    },
    {
     "name": "stderr",
     "output_type": "stream",
     "text": [
      "  6%|▌         | 6/100 [00:01<00:28,  3.28epoch/s, loss=0.862, loss_val=0.842]\n"
     ]
    },
    {
     "name": "stdout",
     "output_type": "stream",
     "text": [
      "Iniciando treinamento:\n",
      "Tamanho da amostra de treino: 280\n",
      "Tamanho da amostra de validação: 72\n",
      "Distância Parâmetros Rede Neural: 4.9742358044842946e-11\n",
      "Distância Parâmetros Alpha: 3.4454463765224306e-06\n",
      "Média das distâncias: 1.7227480594402377e-06\n",
      "Iniciando passo 24\n"
     ]
    },
    {
     "name": "stderr",
     "output_type": "stream",
     "text": [
      "  7%|▋         | 7/100 [00:02<00:28,  3.26epoch/s, loss=0.873, loss_val=0.843]\n"
     ]
    },
    {
     "name": "stdout",
     "output_type": "stream",
     "text": [
      "Iniciando treinamento:\n",
      "Tamanho da amostra de treino: 280\n",
      "Tamanho da amostra de validação: 72\n",
      "Distância Parâmetros Rede Neural: 3.136832742540842e-10\n",
      "Distância Parâmetros Alpha: 1.2124051512452814e-06\n",
      "Média das distâncias: 6.063594172597677e-07\n",
      "Algoritmo convergiu após 24 iterações. Retornando.\n"
     ]
    },
    {
     "name": "stderr",
     "output_type": "stream",
     "text": [
      "/home/natan/.pyenv/versions/3.10.16/lib/python3.10/site-packages/keras/src/layers/convolutional/base_conv.py:107: UserWarning: Do not pass an `input_shape`/`input_dim` argument to a layer. When using Sequential models, prefer using an `Input(shape)` object as the first layer in the model instead.\n",
      "  super().__init__(activity_regularizer=activity_regularizer, **kwargs)\n"
     ]
    },
    {
     "name": "stdout",
     "output_type": "stream",
     "text": [
      "Número de arquivos no diretório: 24\n"
     ]
    },
    {
     "data": {
      "text/plain": [
       "{'new_model': <MPScrModel name=mp_scr_model_24, built=True>,\n",
       " 'model_history': [<MPScrModel name=mp_scr_model_1, built=True>,\n",
       "  <MPScrModel name=mp_scr_model_2, built=True>,\n",
       "  <MPScrModel name=mp_scr_model_3, built=True>,\n",
       "  <MPScrModel name=mp_scr_model_4, built=True>,\n",
       "  <MPScrModel name=mp_scr_model_5, built=True>,\n",
       "  <MPScrModel name=mp_scr_model_6, built=True>,\n",
       "  <MPScrModel name=mp_scr_model_7, built=True>,\n",
       "  <MPScrModel name=mp_scr_model_8, built=True>,\n",
       "  <MPScrModel name=mp_scr_model_9, built=True>,\n",
       "  <MPScrModel name=mp_scr_model_10, built=True>,\n",
       "  <MPScrModel name=mp_scr_model_11, built=True>,\n",
       "  <MPScrModel name=mp_scr_model_12, built=True>,\n",
       "  <MPScrModel name=mp_scr_model_13, built=True>,\n",
       "  <MPScrModel name=mp_scr_model_14, built=True>,\n",
       "  <MPScrModel name=mp_scr_model_15, built=True>,\n",
       "  <MPScrModel name=mp_scr_model_16, built=True>,\n",
       "  <MPScrModel name=mp_scr_model_17, built=True>,\n",
       "  <MPScrModel name=mp_scr_model_18, built=True>,\n",
       "  <MPScrModel name=mp_scr_model_19, built=True>,\n",
       "  <MPScrModel name=mp_scr_model_20, built=True>,\n",
       "  <MPScrModel name=mp_scr_model_21, built=True>,\n",
       "  <MPScrModel name=mp_scr_model_22, built=True>,\n",
       "  <MPScrModel name=mp_scr_model_23, built=True>,\n",
       "  <MPScrModel name=mp_scr_model_24, built=True>],\n",
       " 'new_alpha': array([0.04463199, 0.08395064, 0.12745466, 0.12355234, 0.19398507,\n",
       "        1.        ]),\n",
       " 'alpha_history': array([[1.        , 1.        , 1.        , 1.        , 1.        ,\n",
       "         1.        ],\n",
       "        [0.10995533, 0.22162084, 0.32358801, 0.32830753, 0.79016768,\n",
       "         1.        ],\n",
       "        [0.08304439, 0.16858176, 0.26438981, 0.28187951, 0.70724118,\n",
       "         1.        ],\n",
       "        [0.07287515, 0.14634519, 0.23346641, 0.25185771, 0.63332307,\n",
       "         1.        ],\n",
       "        [0.06738948, 0.13418414, 0.21476047, 0.23144936, 0.57036498,\n",
       "         1.        ],\n",
       "        [0.0614696 , 0.12140557, 0.19522117, 0.20980176, 0.50131712,\n",
       "         1.        ],\n",
       "        [0.0583064 , 0.11417354, 0.18270016, 0.19407494, 0.44147339,\n",
       "         1.        ],\n",
       "        [0.06435339, 0.12583753, 0.19752802, 0.20604165, 0.4522662 ,\n",
       "         1.        ],\n",
       "        [0.06078246, 0.11900976, 0.18886747, 0.19836213, 0.43685271,\n",
       "         1.        ],\n",
       "        [0.05820301, 0.11345314, 0.18017784, 0.18868168, 0.4078405 ,\n",
       "         1.        ],\n",
       "        [0.05667065, 0.10997074, 0.17409813, 0.18099532, 0.37966117,\n",
       "         1.        ],\n",
       "        [0.05370006, 0.10367394, 0.16400941, 0.1693296 , 0.34271241,\n",
       "         1.        ],\n",
       "        [0.05379315, 0.10336797, 0.16224915, 0.16552255, 0.32225662,\n",
       "         1.        ],\n",
       "        [0.05261728, 0.10084012, 0.15797511, 0.16020675, 0.30387447,\n",
       "         1.        ],\n",
       "        [0.05104932, 0.09760342, 0.15238024, 0.15370634, 0.28380987,\n",
       "         1.        ],\n",
       "        [0.0491378 , 0.09359002, 0.14559544, 0.14581935, 0.26085014,\n",
       "         1.        ],\n",
       "        [0.04795861, 0.09098149, 0.14077467, 0.13975496, 0.24177277,\n",
       "         1.        ],\n",
       "        [0.04774383, 0.09038214, 0.13910846, 0.13717463, 0.23149522,\n",
       "         1.        ],\n",
       "        [0.04765401, 0.0901131 , 0.13836038, 0.13593856, 0.22641348,\n",
       "         1.        ],\n",
       "        [0.04621185, 0.08731401, 0.13390774, 0.13135906, 0.21598928,\n",
       "         1.        ],\n",
       "        [0.04622437, 0.08722723, 0.133235  , 0.13017887, 0.21116884,\n",
       "         1.        ],\n",
       "        [0.04557512, 0.08601271, 0.13112631, 0.12799574, 0.20583445,\n",
       "         1.        ],\n",
       "        [0.0450669 , 0.08493218, 0.12929256, 0.12587316, 0.20050454,\n",
       "         1.        ],\n",
       "        [0.04476007, 0.08426154, 0.12806716, 0.12438014, 0.19645509,\n",
       "         1.        ],\n",
       "        [0.04463199, 0.08395064, 0.12745466, 0.12355234, 0.19398507,\n",
       "         1.        ]]),\n",
       " 'm_history': array([[0.00000000e+00, 1.00000000e+00, 0.00000000e+00, ...,\n",
       "         0.00000000e+00, 1.00000000e+00, 0.00000000e+00],\n",
       "        [7.68415635e-04, 1.02249335e+00, 4.77815937e-02, ...,\n",
       "         4.32525866e-03, 1.09833364e+00, 5.08318092e-03],\n",
       "        [2.09650879e-03, 1.04203307e+00, 8.29587069e-02, ...,\n",
       "         9.70178516e-03, 1.15445588e+00, 1.13365321e-02],\n",
       "        ...,\n",
       "        [7.82122876e-02, 1.25132987e+00, 2.52020923e-01, ...,\n",
       "         1.48621978e-01, 1.36165695e+00, 1.39643236e-01],\n",
       "        [8.01388505e-02, 1.25360474e+00, 2.53048654e-01, ...,\n",
       "         1.51124455e-01, 1.36212982e+00, 1.41791538e-01],\n",
       "        [8.19234974e-02, 1.25852317e+00, 2.56358816e-01, ...,\n",
       "         1.54412271e-01, 1.36614370e+00, 1.44451599e-01]]),\n",
       " 'm_val_history': array([[0.        , 0.        , 0.        , ..., 0.        , 1.        ,\n",
       "         0.        ],\n",
       "        [0.08596875, 0.01887222, 0.09628928, ..., 0.04499115, 1.15046045,\n",
       "         0.1577476 ],\n",
       "        [0.13812283, 0.03549521, 0.15079676, ..., 0.07952355, 1.21788873,\n",
       "         0.22574668],\n",
       "        ...,\n",
       "        [0.33469376, 0.27728568, 0.32958771, ..., 0.2549777 , 1.30224986,\n",
       "         0.33513284],\n",
       "        [0.33527055, 0.28027276, 0.32989685, ..., 0.25611456, 1.30163687,\n",
       "         0.33453605],\n",
       "        [0.33913761, 0.28670254, 0.3333197 , ..., 0.25944422, 1.30243877,\n",
       "         0.33608426]])}"
      ]
     },
     "execution_count": 10,
     "metadata": {},
     "output_type": "execute_result"
    }
   ],
   "source": [
    "fit_simulation(\"poisson\",\n",
    "               fake_file_info[\"t_train\"], fake_file_info[\"t_val\"],\n",
    "               fake_file_info[\"delta_train\"], fake_file_info[\"delta_val\"],\n",
    "               fake_file_info[\"img_train\"], fake_file_info[\"img_val\"],\n",
    "               seed = 1)"
   ]
  },
  {
   "cell_type": "code",
   "execution_count": 11,
   "id": "3355abfb-e6a5-40b9-9193-7c176d4515f2",
   "metadata": {},
   "outputs": [
    {
     "ename": "NameError",
     "evalue": "name 'sim_results' is not defined",
     "output_type": "error",
     "traceback": [
      "\u001b[0;31m---------------------------------------------------------------------------\u001b[0m",
      "\u001b[0;31mNameError\u001b[0m                                 Traceback (most recent call last)",
      "Cell \u001b[0;32mIn[11], line 4\u001b[0m\n\u001b[1;32m      1\u001b[0m s_t \u001b[38;5;241m=\u001b[39m np\u001b[38;5;241m.\u001b[39marray([\u001b[38;5;241m0.0\u001b[39m, \u001b[38;5;241m2.062\u001b[39m, \u001b[38;5;241m3.36\u001b[39m, \u001b[38;5;241m4.495\u001b[39m, \u001b[38;5;241m6.32\u001b[39m, \u001b[38;5;241m12.2\u001b[39m])\n\u001b[1;32m      3\u001b[0m tv \u001b[38;5;241m=\u001b[39m np\u001b[38;5;241m.\u001b[39marange(\u001b[38;5;241m0\u001b[39m, s_t[\u001b[38;5;241m-\u001b[39m\u001b[38;5;241m1\u001b[39m], \u001b[38;5;241m0.1\u001b[39m)\n\u001b[0;32m----> 4\u001b[0m S1v \u001b[38;5;241m=\u001b[39m S1(tv, \u001b[43msim_results\u001b[49m[\u001b[38;5;124m\"\u001b[39m\u001b[38;5;124malpha_history\u001b[39m\u001b[38;5;124m\"\u001b[39m][\u001b[38;5;241m-\u001b[39m\u001b[38;5;241m1\u001b[39m], s_t)\n\u001b[1;32m      6\u001b[0m alpha_xie \u001b[38;5;241m=\u001b[39m np\u001b[38;5;241m.\u001b[39marray([\u001b[38;5;241m0.01570256\u001b[39m, \u001b[38;5;241m0.04739518\u001b[39m, \u001b[38;5;241m0.09240146\u001b[39m, \u001b[38;5;241m0.13731525\u001b[39m, \u001b[38;5;241m0.43543998\u001b[39m, \u001b[38;5;241m1.\u001b[39m])\n\u001b[1;32m      7\u001b[0m S1v_xie \u001b[38;5;241m=\u001b[39m S1(tv, alpha_xie, s_t)\n",
      "\u001b[0;31mNameError\u001b[0m: name 'sim_results' is not defined"
     ]
    }
   ],
   "source": [
    "s_t = np.array([0.0, 2.062, 3.36, 4.495, 6.32, 12.2])\n",
    "\n",
    "tv = np.arange(0, s_t[-1], 0.1)\n",
    "S1v = S1(tv, sim_results[\"alpha_history\"][-1], s_t)\n",
    "\n",
    "alpha_xie = np.array([0.01570256, 0.04739518, 0.09240146, 0.13731525, 0.43543998, 1.])\n",
    "S1v_xie = S1(tv, alpha_xie, s_t)\n",
    "\n",
    "print(\"alpha estimado: {}\".format(sim_results[\"alpha_history\"][-1]))\n",
    "print(\"alpha xie: {}\".format(alpha_xie))\n",
    "\n",
    "fig, ax = plt.subplots(figsize = (12, 6))\n",
    "plt.plot(tv, S1v)\n",
    "plt.plot(tv, S1v_xie)\n",
    "plt.axhline(0.6, color = \"black\")\n",
    "plt.axvline(6, color = \"black\")\n",
    "plt.grid()\n",
    "plt.show()"
   ]
  },
  {
   "cell_type": "code",
   "execution_count": 2,
   "id": "49474427-595c-4e21-bfab-ccf3c4b70425",
   "metadata": {},
   "outputs": [],
   "source": [
    "# sim_results = fit_simulation(\"poisson\",\n",
    "#                file_info[\"t_train\"], file_info[\"t_val\"],\n",
    "#                file_info[\"delta_train\"], file_info[\"delta_val\"],\n",
    "#                file_info[\"img_train\"], file_info[\"img_val\"],\n",
    "#                seed = 1)"
   ]
  },
  {
   "cell_type": "code",
   "execution_count": 3,
   "id": "823773d6-53e4-452a-a391-ac6bfc7b0415",
   "metadata": {},
   "outputs": [],
   "source": [
    "# p_pred_train = 1/(1+np.exp( -sim_results[\"new_model\"].predict(file_info[\"img_train\"]) )).flatten()\n",
    "# p_pred_test = 1/(1+np.exp( -sim_results[\"new_model\"].predict(file_info[\"img_test\"]) )).flatten()"
   ]
  },
  {
   "cell_type": "code",
   "execution_count": 4,
   "id": "c45a4384-9bd9-4728-8fa5-d2af7bc095cf",
   "metadata": {},
   "outputs": [],
   "source": [
    "# p_real_train = np.exp( log_a_poisson(0.0) - np.log(C_poisson( file_info[\"theta_train\"] )) ).reset_index(drop = True)\n",
    "# p_real_test = np.exp( log_a_poisson(0.0) - np.log(C_poisson( file_info[\"theta_test\"] )) ).reset_index(drop = True)\n",
    "# p_real_train.shape"
   ]
  },
  {
   "cell_type": "code",
   "execution_count": 88,
   "id": "6f61acde-19ad-44ca-bd05-90ccffa596d8",
   "metadata": {},
   "outputs": [
    {
     "name": "stdout",
     "output_type": "stream",
     "text": [
      "0.9048374180359595 - 0.8699249662940587\n",
      "0.4231620823177489 - 0.22500862403234267\n",
      "0.5769498103804866 - 0.8410797003413634\n",
      "0.9048374180359595 - 0.05346514411405707\n",
      "0.39851904108451414 - 0.25801286525202055\n",
      "0.5769498103804866 - 0.551390488413146\n",
      "0.39851904108451414 - 0.13407821917610752\n",
      "0.5769498103804866 - 0.3867666413189469\n",
      "0.4231620823177489 - 0.24402015556658424\n",
      "0.4584060113052235 - 0.3622043247318423\n",
      "0.4231620823177489 - 0.6195901536458333\n",
      "0.4231620823177489 - 0.07533997251511029\n",
      "0.5769498103804866 - 0.8496327632917278\n",
      "0.39851904108451414 - 0.2797780216720133\n",
      "0.39851904108451414 - 0.14184990980746678\n",
      "0.39851904108451414 - 0.1554440158227789\n",
      "0.39851904108451414 - 0.03761490093418762\n",
      "0.4231620823177489 - 0.2838149735956074\n",
      "0.39851904108451414 - 0.09760707033601172\n",
      "0.9048374180359595 - 0.8808189545782467\n"
     ]
    }
   ],
   "source": [
    "# for i in range(20):\n",
    "#     print(\"{} - {}\".format(p_real_test[i], p_pred_test[i]))"
   ]
  },
  {
   "cell_type": "code",
   "execution_count": 9,
   "id": "d085dd69-dae7-46ae-90aa-313229890a67",
   "metadata": {},
   "outputs": [
    {
     "ename": "TypeError",
     "evalue": "load_file() missing 2 required positional arguments: 'train_images' and 'test_images'",
     "output_type": "error",
     "traceback": [
      "\u001b[0;31m---------------------------------------------------------------------------\u001b[0m",
      "\u001b[0;31mTypeError\u001b[0m                                 Traceback (most recent call last)",
      "Cell \u001b[0;32mIn[9], line 1\u001b[0m\n\u001b[0;32m----> 1\u001b[0m \u001b[43mload_file\u001b[49m\u001b[43m(\u001b[49m\u001b[38;5;124;43m\"\u001b[39;49m\u001b[38;5;124;43mSimulationDataset/Scenario1/n500\u001b[39;49m\u001b[38;5;124;43m\"\u001b[39;49m\u001b[43m,\u001b[49m\u001b[43m \u001b[49m\u001b[38;5;241;43m1\u001b[39;49m\u001b[43m,\u001b[49m\u001b[43m \u001b[49m\u001b[38;5;124;43m\"\u001b[39;49m\u001b[38;5;124;43mbernoulli\u001b[39;49m\u001b[38;5;124;43m\"\u001b[39;49m\u001b[43m)\u001b[49m\n",
      "\u001b[0;31mTypeError\u001b[0m: load_file() missing 2 required positional arguments: 'train_images' and 'test_images'"
     ]
    }
   ],
   "source": [
    "load_file(\"SimulationDataset/Scenario1/n500\", 1, \"bernoulli\")"
   ]
  }
 ],
 "metadata": {
  "kernelspec": {
   "display_name": "Python 3 (ipykernel)",
   "language": "python",
   "name": "python3"
  },
  "language_info": {
   "codemirror_mode": {
    "name": "ipython",
    "version": 3
   },
   "file_extension": ".py",
   "mimetype": "text/x-python",
   "name": "python",
   "nbconvert_exporter": "python",
   "pygments_lexer": "ipython3",
   "version": "3.10.16"
  }
 },
 "nbformat": 4,
 "nbformat_minor": 5
}
